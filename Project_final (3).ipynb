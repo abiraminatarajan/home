{
 "cells": [
  {
   "cell_type": "markdown",
   "metadata": {},
   "source": [
    "<table align=\"left\" width=100%>\n",
    "    <tr>\n",
    "        <td>\n",
    "            <div align=\"middle\">\n",
    "                <font color=\"#21618C\" size=5px>\n",
    "                  <b>EMPLOYEE ATTRITION BY HR ANALYSIS\n",
    "                    </b>\n",
    "                </font>\n",
    "            </div>\n",
    "        </td>\n",
    "    </tr>\n",
    "</table>"
   ]
  },
  {
   "cell_type": "markdown",
   "metadata": {},
   "source": [
    "## Problem Statement"
   ]
  },
  {
   "cell_type": "markdown",
   "metadata": {},
   "source": [
    "-We analyse and predict, the dataset containing information about the employees working in an organisation and the factors affecting the chances of attrition based on the geographical, familial and economical conditions as well as their job history. \n",
    "\n",
    "-We are building a suitable model to predict the attrition considering relevant features and parameters, thus making it easier for HR department to make appropriate decisions."
   ]
  },
  {
   "cell_type": "markdown",
   "metadata": {},
   "source": [
    "## Data Description "
   ]
  },
  {
   "cell_type": "markdown",
   "metadata": {},
   "source": [
    "AGE - Numerical Value\n",
    "\n",
    "ATTRITION - Employee leaving the company (0=Current Employee, 1=Voluntary Resignation)\n",
    "\n",
    "BUSINESS TRAVEL - (1=No Travel, 2=Travel Frequently, 3=Tavel Rarely)\n",
    "\n",
    "DAILY RATE - Salary Level\n",
    "\n",
    "DEPARTMENT - (1=HR, 2=R&D, 3=Sales)\n",
    "\n",
    "DISTANCE FROM HOME - The distance from work to home\n",
    "\n",
    "EDUCATION - (1=Below College, 2=College, 3=Bachelor, 4=Master, 5=Doctor)\n",
    "\n",
    "EMPLOYEE COUNT - Numerical Value\n",
    "\n",
    "EDUCATION FIELD - (1=HR, 2=LIFE SCIENCES, 3=MARKETING, 4=MEDICAL SCIENCES,\n",
    " 5=OTHERS, 6= TEHCNICAL)\n",
    "\n",
    "EMPLOYEE NUMBER\t- EMPLOYEE ID\n",
    "\n",
    "ENVIROMENT SATISFACTION\t- Satisfaction with the environment\n",
    "\n",
    "GENDER - (1=FEMALE, 2=MALE)\n",
    "\n",
    "HOURLY RATE - Hourly Salary\n",
    "\n",
    "JOB INVOLVEMENT - (1=Low, 2=Medium, 3=High, 4=Very High)\n",
    "\n",
    "JOB LEVEL - Level of Job\n",
    "\n",
    "JOB ROLE - Position\n",
    "\n",
    "JOB SATISFACTION - (1=Low, 2=Medium, 3=High, 4=Very High)\n",
    "\n",
    "MARITAL STATUS - (1=Divorced, 2=Married, 3=Single)\n",
    "\n",
    "MONTHLY INCOME - Monthly Salary\n",
    "\n",
    "MONTHY RATE - MONTHY RATE\n",
    "\n",
    "NUMCOMPANIES WORKED - Number of companies worked\t\n",
    "\n",
    "OVER 18 - (Y=YES, N=NO)\n",
    "\n",
    "OVERTIME - (YES, NO)\n",
    "\n",
    "PERCENT SALARY HIKE - Percentage increase in salary\n",
    "\n",
    "PERFORMANCE RATING - (1=Low, 2=Good, 3=Excellent, 4=Outstanding)\n",
    "\n",
    "RELATIONSHIP SATISFACTION - (1=Low, 2=Medium, 3=High, 4=Very High)\n",
    "\n",
    "STANDARD HOURS - Standard working hours\n",
    "\n",
    "STOCK OPTIONS LEVEL - Stock options\n",
    "\n",
    "TOTAL WORKING YEARS - Number of years worked\n",
    "\n",
    "TRAINING TIMES LAST YEAR - Hours spent for training\n",
    "\n",
    "WORK LIFE BALANCE - Time spent between work and personal life\n",
    "\n",
    "YEARS AT COMPANY - Total number of years at the company\n",
    "\n",
    "YEARS IN CURRENT ROLE - Number of years in current role\n",
    "\n",
    "YEARS SINCE LAST PROMOTION - Years since last promotion\n",
    "\n",
    "YEARS WITH CURRENT MANAGER - Years spent with current manager"
   ]
  },
  {
   "cell_type": "markdown",
   "metadata": {},
   "source": [
    "## Table of Content\n",
    "\n",
    "1. **[Import Libraries](#import_lib)**\n",
    "2. **[Set Options](#set_options)**\n",
    "3. **[Read Data](#RD)**\n",
    "4. **[Data Analysis and Preparation](#data_preparation)**\n",
    "5. **[Base Model](#LogisticReg)**\n"
   ]
  },
  {
   "cell_type": "markdown",
   "metadata": {},
   "source": [
    "## 1. Import Libraries"
   ]
  },
  {
   "cell_type": "code",
   "execution_count": 1,
   "metadata": {},
   "outputs": [],
   "source": [
    "import warnings\n",
    "warnings.filterwarnings(\"ignore\")\n",
    "\n",
    "import os\n",
    "\n",
    "import pandas as pd\n",
    "import numpy as np\n",
    "import seaborn as sns\n",
    "import matplotlib.pyplot as plt \n",
    "\n",
    "from pandas.api.types import is_string_dtype\n",
    "from pandas.api.types import is_numeric_dtype\n",
    "\n",
    "from sklearn.preprocessing import StandardScaler\n",
    "from sklearn.model_selection import train_test_split\n",
    "from sklearn.linear_model import LogisticRegression\n",
    "from sklearn import metrics\n",
    "from sklearn.metrics import classification_report\n",
    "from sklearn.metrics import cohen_kappa_score\n",
    "from sklearn.metrics import confusion_matrix\n",
    "from sklearn.metrics import roc_curve\n",
    "from sklearn.linear_model import SGDClassifier\n",
    "from sklearn.tree import DecisionTreeClassifier\n",
    "from sklearn.model_selection import GridSearchCV\n",
    "from sklearn.externals.six import StringIO  \n",
    "from sklearn import tree\n",
    "from sklearn.neighbors import KNeighborsClassifier\n",
    "from sklearn.svm import SVC\n",
    "from sklearn.tree import export_graphviz\n",
    "import featuretools as ft\n",
    "\n",
    "import statsmodels\n",
    "import statsmodels.api as sm\n",
    "import statsmodels.formula.api as smf\n",
    "\n",
    "import pydotplus\n",
    "from IPython.display import Image  \n",
    "import graphviz"
   ]
  },
  {
   "cell_type": "markdown",
   "metadata": {},
   "source": [
    "## 2. Set Options "
   ]
  },
  {
   "cell_type": "code",
   "execution_count": 2,
   "metadata": {},
   "outputs": [],
   "source": [
    "# pd.options.display.max_columns = None\n",
    "\n",
    "# pd.options.display.max_rows = None\n",
    "\n",
    "# np.set_printoptions(suppress=True)"
   ]
  },
  {
   "cell_type": "markdown",
   "metadata": {},
   "source": [
    "## 3. Read Data"
   ]
  },
  {
   "cell_type": "code",
   "execution_count": 3,
   "metadata": {},
   "outputs": [
    {
     "data": {
      "text/html": [
       "<div>\n",
       "<style scoped>\n",
       "    .dataframe tbody tr th:only-of-type {\n",
       "        vertical-align: middle;\n",
       "    }\n",
       "\n",
       "    .dataframe tbody tr th {\n",
       "        vertical-align: top;\n",
       "    }\n",
       "\n",
       "    .dataframe thead th {\n",
       "        text-align: right;\n",
       "    }\n",
       "</style>\n",
       "<table border=\"1\" class=\"dataframe\">\n",
       "  <thead>\n",
       "    <tr style=\"text-align: right;\">\n",
       "      <th></th>\n",
       "      <th>Age</th>\n",
       "      <th>Attrition</th>\n",
       "      <th>BusinessTravel</th>\n",
       "      <th>DailyRate</th>\n",
       "      <th>Department</th>\n",
       "      <th>DistanceFromHome</th>\n",
       "      <th>Education</th>\n",
       "      <th>EducationField</th>\n",
       "      <th>EmployeeCount</th>\n",
       "      <th>EmployeeNumber</th>\n",
       "      <th>...</th>\n",
       "      <th>StandardHours</th>\n",
       "      <th>StockOptionLevel</th>\n",
       "      <th>TotalWorkingYears</th>\n",
       "      <th>TrainingTimesLastYear</th>\n",
       "      <th>WorkLifeBalance</th>\n",
       "      <th>YearsAtCompany</th>\n",
       "      <th>YearsInCurrentRole</th>\n",
       "      <th>YearsSinceLastPromotion</th>\n",
       "      <th>YearsWithCurrManager</th>\n",
       "      <th>Employee Source</th>\n",
       "    </tr>\n",
       "  </thead>\n",
       "  <tbody>\n",
       "    <tr>\n",
       "      <td>0</td>\n",
       "      <td>41.0</td>\n",
       "      <td>Voluntary Resignation</td>\n",
       "      <td>Travel_Rarely</td>\n",
       "      <td>1102.0</td>\n",
       "      <td>Sales</td>\n",
       "      <td>1</td>\n",
       "      <td>2.0</td>\n",
       "      <td>Life Sciences</td>\n",
       "      <td>1</td>\n",
       "      <td>1</td>\n",
       "      <td>...</td>\n",
       "      <td>80.0</td>\n",
       "      <td>0.0</td>\n",
       "      <td>8.0</td>\n",
       "      <td>0.0</td>\n",
       "      <td>1.0</td>\n",
       "      <td>6.0</td>\n",
       "      <td>4.0</td>\n",
       "      <td>0.0</td>\n",
       "      <td>5.0</td>\n",
       "      <td>Referral</td>\n",
       "    </tr>\n",
       "    <tr>\n",
       "      <td>1</td>\n",
       "      <td>41.0</td>\n",
       "      <td>Voluntary Resignation</td>\n",
       "      <td>Travel_Rarely</td>\n",
       "      <td>1102.0</td>\n",
       "      <td>Sales</td>\n",
       "      <td>1</td>\n",
       "      <td>2.0</td>\n",
       "      <td>Life Sciences</td>\n",
       "      <td>1</td>\n",
       "      <td>1</td>\n",
       "      <td>...</td>\n",
       "      <td>80.0</td>\n",
       "      <td>0.0</td>\n",
       "      <td>8.0</td>\n",
       "      <td>0.0</td>\n",
       "      <td>1.0</td>\n",
       "      <td>6.0</td>\n",
       "      <td>4.0</td>\n",
       "      <td>0.0</td>\n",
       "      <td>5.0</td>\n",
       "      <td>Referral</td>\n",
       "    </tr>\n",
       "    <tr>\n",
       "      <td>2</td>\n",
       "      <td>41.0</td>\n",
       "      <td>Voluntary Resignation</td>\n",
       "      <td>Travel_Rarely</td>\n",
       "      <td>1102.0</td>\n",
       "      <td>Sales</td>\n",
       "      <td>1</td>\n",
       "      <td>2.0</td>\n",
       "      <td>Life Sciences</td>\n",
       "      <td>1</td>\n",
       "      <td>7</td>\n",
       "      <td>...</td>\n",
       "      <td>80.0</td>\n",
       "      <td>0.0</td>\n",
       "      <td>8.0</td>\n",
       "      <td>0.0</td>\n",
       "      <td>1.0</td>\n",
       "      <td>6.0</td>\n",
       "      <td>4.0</td>\n",
       "      <td>0.0</td>\n",
       "      <td>5.0</td>\n",
       "      <td>Referral</td>\n",
       "    </tr>\n",
       "    <tr>\n",
       "      <td>3</td>\n",
       "      <td>41.0</td>\n",
       "      <td>Voluntary Resignation</td>\n",
       "      <td>Travel_Rarely</td>\n",
       "      <td>1102.0</td>\n",
       "      <td>Sales</td>\n",
       "      <td>1</td>\n",
       "      <td>2.0</td>\n",
       "      <td>Life Sciences</td>\n",
       "      <td>1</td>\n",
       "      <td>8</td>\n",
       "      <td>...</td>\n",
       "      <td>80.0</td>\n",
       "      <td>0.0</td>\n",
       "      <td>8.0</td>\n",
       "      <td>0.0</td>\n",
       "      <td>1.0</td>\n",
       "      <td>6.0</td>\n",
       "      <td>4.0</td>\n",
       "      <td>0.0</td>\n",
       "      <td>5.0</td>\n",
       "      <td>Referral</td>\n",
       "    </tr>\n",
       "    <tr>\n",
       "      <td>4</td>\n",
       "      <td>41.0</td>\n",
       "      <td>Voluntary Resignation</td>\n",
       "      <td>Travel_Rarely</td>\n",
       "      <td>1102.0</td>\n",
       "      <td>Sales</td>\n",
       "      <td>1</td>\n",
       "      <td>2.0</td>\n",
       "      <td>Life Sciences</td>\n",
       "      <td>1</td>\n",
       "      <td>9</td>\n",
       "      <td>...</td>\n",
       "      <td>80.0</td>\n",
       "      <td>0.0</td>\n",
       "      <td>8.0</td>\n",
       "      <td>0.0</td>\n",
       "      <td>1.0</td>\n",
       "      <td>6.0</td>\n",
       "      <td>4.0</td>\n",
       "      <td>0.0</td>\n",
       "      <td>5.0</td>\n",
       "      <td>Referral</td>\n",
       "    </tr>\n",
       "  </tbody>\n",
       "</table>\n",
       "<p>5 rows × 37 columns</p>\n",
       "</div>"
      ],
      "text/plain": [
       "    Age              Attrition BusinessTravel  DailyRate Department  \\\n",
       "0  41.0  Voluntary Resignation  Travel_Rarely     1102.0      Sales   \n",
       "1  41.0  Voluntary Resignation  Travel_Rarely     1102.0      Sales   \n",
       "2  41.0  Voluntary Resignation  Travel_Rarely     1102.0      Sales   \n",
       "3  41.0  Voluntary Resignation  Travel_Rarely     1102.0      Sales   \n",
       "4  41.0  Voluntary Resignation  Travel_Rarely     1102.0      Sales   \n",
       "\n",
       "  DistanceFromHome  Education EducationField EmployeeCount EmployeeNumber  \\\n",
       "0                1        2.0  Life Sciences             1              1   \n",
       "1                1        2.0  Life Sciences             1              1   \n",
       "2                1        2.0  Life Sciences             1              7   \n",
       "3                1        2.0  Life Sciences             1              8   \n",
       "4                1        2.0  Life Sciences             1              9   \n",
       "\n",
       "   ... StandardHours  StockOptionLevel TotalWorkingYears  \\\n",
       "0  ...          80.0               0.0               8.0   \n",
       "1  ...          80.0               0.0               8.0   \n",
       "2  ...          80.0               0.0               8.0   \n",
       "3  ...          80.0               0.0               8.0   \n",
       "4  ...          80.0               0.0               8.0   \n",
       "\n",
       "  TrainingTimesLastYear  WorkLifeBalance  YearsAtCompany YearsInCurrentRole  \\\n",
       "0                   0.0              1.0             6.0                4.0   \n",
       "1                   0.0              1.0             6.0                4.0   \n",
       "2                   0.0              1.0             6.0                4.0   \n",
       "3                   0.0              1.0             6.0                4.0   \n",
       "4                   0.0              1.0             6.0                4.0   \n",
       "\n",
       "  YearsSinceLastPromotion YearsWithCurrManager Employee Source  \n",
       "0                     0.0                  5.0        Referral  \n",
       "1                     0.0                  5.0        Referral  \n",
       "2                     0.0                  5.0        Referral  \n",
       "3                     0.0                  5.0        Referral  \n",
       "4                     0.0                  5.0        Referral  \n",
       "\n",
       "[5 rows x 37 columns]"
      ]
     },
     "execution_count": 3,
     "metadata": {},
     "output_type": "execute_result"
    }
   ],
   "source": [
    "df = pd.read_csv(\"IBM HR Data new.csv\")\n",
    "df.head()"
   ]
  },
  {
   "cell_type": "markdown",
   "metadata": {},
   "source": [
    "## 4. Data Analysis and Preparation"
   ]
  },
  {
   "cell_type": "code",
   "execution_count": 4,
   "metadata": {},
   "outputs": [
    {
     "data": {
      "text/plain": [
       "(23436, 37)"
      ]
     },
     "execution_count": 4,
     "metadata": {},
     "output_type": "execute_result"
    }
   ],
   "source": [
    "df.shape"
   ]
  },
  {
   "cell_type": "markdown",
   "metadata": {},
   "source": [
    "<table align=\"left\">\n",
    "    <tr>\n",
    "        <td>\n",
    "            <div align=\"left\", style=\"font-size:120%\">\n",
    "                <font color=\"#21618C\">\n",
    "                    <b>We see that there are 23,436 observations and 37 features </br></b>\n",
    "                </font>\n",
    "            </div>\n",
    "        </td>\n",
    "    </tr>\n",
    "</table>\n",
    "\n",
    "\n"
   ]
  },
  {
   "cell_type": "code",
   "execution_count": 5,
   "metadata": {},
   "outputs": [
    {
     "data": {
      "text/html": [
       "<div>\n",
       "<style scoped>\n",
       "    .dataframe tbody tr th:only-of-type {\n",
       "        vertical-align: middle;\n",
       "    }\n",
       "\n",
       "    .dataframe tbody tr th {\n",
       "        vertical-align: top;\n",
       "    }\n",
       "\n",
       "    .dataframe thead th {\n",
       "        text-align: right;\n",
       "    }\n",
       "</style>\n",
       "<table border=\"1\" class=\"dataframe\">\n",
       "  <thead>\n",
       "    <tr style=\"text-align: right;\">\n",
       "      <th></th>\n",
       "      <th>Age</th>\n",
       "      <th>DailyRate</th>\n",
       "      <th>Education</th>\n",
       "      <th>EnvironmentSatisfaction</th>\n",
       "      <th>JobInvolvement</th>\n",
       "      <th>JobLevel</th>\n",
       "      <th>MonthlyRate</th>\n",
       "      <th>NumCompaniesWorked</th>\n",
       "      <th>PerformanceRating</th>\n",
       "      <th>RelationshipSatisfaction</th>\n",
       "      <th>StandardHours</th>\n",
       "      <th>StockOptionLevel</th>\n",
       "      <th>TotalWorkingYears</th>\n",
       "      <th>TrainingTimesLastYear</th>\n",
       "      <th>WorkLifeBalance</th>\n",
       "      <th>YearsAtCompany</th>\n",
       "      <th>YearsInCurrentRole</th>\n",
       "      <th>YearsSinceLastPromotion</th>\n",
       "      <th>YearsWithCurrManager</th>\n",
       "    </tr>\n",
       "  </thead>\n",
       "  <tbody>\n",
       "    <tr>\n",
       "      <td>count</td>\n",
       "      <td>23433.000000</td>\n",
       "      <td>23424.000000</td>\n",
       "      <td>23424.000000</td>\n",
       "      <td>23427.000000</td>\n",
       "      <td>23427.000000</td>\n",
       "      <td>23429.000000</td>\n",
       "      <td>23425.000000</td>\n",
       "      <td>23427.000000</td>\n",
       "      <td>23426.000000</td>\n",
       "      <td>23428.000000</td>\n",
       "      <td>23426.000000</td>\n",
       "      <td>23427.000000</td>\n",
       "      <td>23428.00000</td>\n",
       "      <td>23425.000000</td>\n",
       "      <td>23426.000000</td>\n",
       "      <td>23423.000000</td>\n",
       "      <td>23421.000000</td>\n",
       "      <td>23425.000000</td>\n",
       "      <td>23429.000000</td>\n",
       "    </tr>\n",
       "    <tr>\n",
       "      <td>mean</td>\n",
       "      <td>36.936671</td>\n",
       "      <td>801.828765</td>\n",
       "      <td>2.910050</td>\n",
       "      <td>13.681777</td>\n",
       "      <td>2.733811</td>\n",
       "      <td>2.064023</td>\n",
       "      <td>14304.343821</td>\n",
       "      <td>3.887779</td>\n",
       "      <td>3.155852</td>\n",
       "      <td>2.713334</td>\n",
       "      <td>79.993469</td>\n",
       "      <td>0.799846</td>\n",
       "      <td>11.25922</td>\n",
       "      <td>2.800171</td>\n",
       "      <td>2.761803</td>\n",
       "      <td>7.010887</td>\n",
       "      <td>4.227445</td>\n",
       "      <td>2.183821</td>\n",
       "      <td>4.127577</td>\n",
       "    </tr>\n",
       "    <tr>\n",
       "      <td>std</td>\n",
       "      <td>9.137432</td>\n",
       "      <td>403.206166</td>\n",
       "      <td>1.024931</td>\n",
       "      <td>1186.544372</td>\n",
       "      <td>0.836860</td>\n",
       "      <td>1.105421</td>\n",
       "      <td>7102.636293</td>\n",
       "      <td>155.332904</td>\n",
       "      <td>0.371215</td>\n",
       "      <td>1.080030</td>\n",
       "      <td>0.706850</td>\n",
       "      <td>1.122454</td>\n",
       "      <td>7.77237</td>\n",
       "      <td>1.308527</td>\n",
       "      <td>0.705788</td>\n",
       "      <td>6.138394</td>\n",
       "      <td>3.627284</td>\n",
       "      <td>3.218615</td>\n",
       "      <td>3.572379</td>\n",
       "    </tr>\n",
       "    <tr>\n",
       "      <td>min</td>\n",
       "      <td>18.000000</td>\n",
       "      <td>102.000000</td>\n",
       "      <td>1.000000</td>\n",
       "      <td>1.000000</td>\n",
       "      <td>1.000000</td>\n",
       "      <td>1.000000</td>\n",
       "      <td>2094.000000</td>\n",
       "      <td>0.000000</td>\n",
       "      <td>3.000000</td>\n",
       "      <td>1.000000</td>\n",
       "      <td>3.000000</td>\n",
       "      <td>0.000000</td>\n",
       "      <td>0.00000</td>\n",
       "      <td>0.000000</td>\n",
       "      <td>1.000000</td>\n",
       "      <td>0.000000</td>\n",
       "      <td>0.000000</td>\n",
       "      <td>0.000000</td>\n",
       "      <td>0.000000</td>\n",
       "    </tr>\n",
       "    <tr>\n",
       "      <td>25%</td>\n",
       "      <td>30.000000</td>\n",
       "      <td>465.000000</td>\n",
       "      <td>2.000000</td>\n",
       "      <td>2.000000</td>\n",
       "      <td>2.000000</td>\n",
       "      <td>1.000000</td>\n",
       "      <td>8053.000000</td>\n",
       "      <td>1.000000</td>\n",
       "      <td>3.000000</td>\n",
       "      <td>2.000000</td>\n",
       "      <td>80.000000</td>\n",
       "      <td>0.000000</td>\n",
       "      <td>6.00000</td>\n",
       "      <td>2.000000</td>\n",
       "      <td>2.000000</td>\n",
       "      <td>3.000000</td>\n",
       "      <td>2.000000</td>\n",
       "      <td>0.000000</td>\n",
       "      <td>2.000000</td>\n",
       "    </tr>\n",
       "    <tr>\n",
       "      <td>50%</td>\n",
       "      <td>36.000000</td>\n",
       "      <td>802.000000</td>\n",
       "      <td>3.000000</td>\n",
       "      <td>3.000000</td>\n",
       "      <td>3.000000</td>\n",
       "      <td>2.000000</td>\n",
       "      <td>14222.000000</td>\n",
       "      <td>2.000000</td>\n",
       "      <td>3.000000</td>\n",
       "      <td>3.000000</td>\n",
       "      <td>80.000000</td>\n",
       "      <td>1.000000</td>\n",
       "      <td>10.00000</td>\n",
       "      <td>3.000000</td>\n",
       "      <td>3.000000</td>\n",
       "      <td>5.000000</td>\n",
       "      <td>3.000000</td>\n",
       "      <td>1.000000</td>\n",
       "      <td>3.000000</td>\n",
       "    </tr>\n",
       "    <tr>\n",
       "      <td>75%</td>\n",
       "      <td>43.000000</td>\n",
       "      <td>1157.000000</td>\n",
       "      <td>4.000000</td>\n",
       "      <td>4.000000</td>\n",
       "      <td>3.000000</td>\n",
       "      <td>3.000000</td>\n",
       "      <td>20460.000000</td>\n",
       "      <td>4.000000</td>\n",
       "      <td>3.000000</td>\n",
       "      <td>4.000000</td>\n",
       "      <td>80.000000</td>\n",
       "      <td>1.000000</td>\n",
       "      <td>15.00000</td>\n",
       "      <td>3.000000</td>\n",
       "      <td>3.000000</td>\n",
       "      <td>10.000000</td>\n",
       "      <td>7.000000</td>\n",
       "      <td>3.000000</td>\n",
       "      <td>7.000000</td>\n",
       "    </tr>\n",
       "    <tr>\n",
       "      <td>max</td>\n",
       "      <td>60.000000</td>\n",
       "      <td>1499.000000</td>\n",
       "      <td>6.000000</td>\n",
       "      <td>129588.000000</td>\n",
       "      <td>54.000000</td>\n",
       "      <td>5.000000</td>\n",
       "      <td>26999.000000</td>\n",
       "      <td>23258.000000</td>\n",
       "      <td>13.000000</td>\n",
       "      <td>4.000000</td>\n",
       "      <td>80.000000</td>\n",
       "      <td>80.000000</td>\n",
       "      <td>40.00000</td>\n",
       "      <td>30.000000</td>\n",
       "      <td>4.000000</td>\n",
       "      <td>40.000000</td>\n",
       "      <td>22.000000</td>\n",
       "      <td>17.000000</td>\n",
       "      <td>17.000000</td>\n",
       "    </tr>\n",
       "  </tbody>\n",
       "</table>\n",
       "</div>"
      ],
      "text/plain": [
       "                Age     DailyRate     Education  EnvironmentSatisfaction  \\\n",
       "count  23433.000000  23424.000000  23424.000000             23427.000000   \n",
       "mean      36.936671    801.828765      2.910050                13.681777   \n",
       "std        9.137432    403.206166      1.024931              1186.544372   \n",
       "min       18.000000    102.000000      1.000000                 1.000000   \n",
       "25%       30.000000    465.000000      2.000000                 2.000000   \n",
       "50%       36.000000    802.000000      3.000000                 3.000000   \n",
       "75%       43.000000   1157.000000      4.000000                 4.000000   \n",
       "max       60.000000   1499.000000      6.000000            129588.000000   \n",
       "\n",
       "       JobInvolvement      JobLevel   MonthlyRate  NumCompaniesWorked  \\\n",
       "count    23427.000000  23429.000000  23425.000000        23427.000000   \n",
       "mean         2.733811      2.064023  14304.343821            3.887779   \n",
       "std          0.836860      1.105421   7102.636293          155.332904   \n",
       "min          1.000000      1.000000   2094.000000            0.000000   \n",
       "25%          2.000000      1.000000   8053.000000            1.000000   \n",
       "50%          3.000000      2.000000  14222.000000            2.000000   \n",
       "75%          3.000000      3.000000  20460.000000            4.000000   \n",
       "max         54.000000      5.000000  26999.000000        23258.000000   \n",
       "\n",
       "       PerformanceRating  RelationshipSatisfaction  StandardHours  \\\n",
       "count       23426.000000              23428.000000   23426.000000   \n",
       "mean            3.155852                  2.713334      79.993469   \n",
       "std             0.371215                  1.080030       0.706850   \n",
       "min             3.000000                  1.000000       3.000000   \n",
       "25%             3.000000                  2.000000      80.000000   \n",
       "50%             3.000000                  3.000000      80.000000   \n",
       "75%             3.000000                  4.000000      80.000000   \n",
       "max            13.000000                  4.000000      80.000000   \n",
       "\n",
       "       StockOptionLevel  TotalWorkingYears  TrainingTimesLastYear  \\\n",
       "count      23427.000000        23428.00000           23425.000000   \n",
       "mean           0.799846           11.25922               2.800171   \n",
       "std            1.122454            7.77237               1.308527   \n",
       "min            0.000000            0.00000               0.000000   \n",
       "25%            0.000000            6.00000               2.000000   \n",
       "50%            1.000000           10.00000               3.000000   \n",
       "75%            1.000000           15.00000               3.000000   \n",
       "max           80.000000           40.00000              30.000000   \n",
       "\n",
       "       WorkLifeBalance  YearsAtCompany  YearsInCurrentRole  \\\n",
       "count     23426.000000    23423.000000        23421.000000   \n",
       "mean          2.761803        7.010887            4.227445   \n",
       "std           0.705788        6.138394            3.627284   \n",
       "min           1.000000        0.000000            0.000000   \n",
       "25%           2.000000        3.000000            2.000000   \n",
       "50%           3.000000        5.000000            3.000000   \n",
       "75%           3.000000       10.000000            7.000000   \n",
       "max           4.000000       40.000000           22.000000   \n",
       "\n",
       "       YearsSinceLastPromotion  YearsWithCurrManager  \n",
       "count             23425.000000          23429.000000  \n",
       "mean                  2.183821              4.127577  \n",
       "std                   3.218615              3.572379  \n",
       "min                   0.000000              0.000000  \n",
       "25%                   0.000000              2.000000  \n",
       "50%                   1.000000              3.000000  \n",
       "75%                   3.000000              7.000000  \n",
       "max                  17.000000             17.000000  "
      ]
     },
     "execution_count": 5,
     "metadata": {},
     "output_type": "execute_result"
    }
   ],
   "source": [
    "df.describe()"
   ]
  },
  {
   "cell_type": "code",
   "execution_count": 6,
   "metadata": {},
   "outputs": [
    {
     "data": {
      "text/html": [
       "<div>\n",
       "<style scoped>\n",
       "    .dataframe tbody tr th:only-of-type {\n",
       "        vertical-align: middle;\n",
       "    }\n",
       "\n",
       "    .dataframe tbody tr th {\n",
       "        vertical-align: top;\n",
       "    }\n",
       "\n",
       "    .dataframe thead th {\n",
       "        text-align: right;\n",
       "    }\n",
       "</style>\n",
       "<table border=\"1\" class=\"dataframe\">\n",
       "  <thead>\n",
       "    <tr style=\"text-align: right;\">\n",
       "      <th></th>\n",
       "      <th>Attrition</th>\n",
       "      <th>BusinessTravel</th>\n",
       "      <th>Department</th>\n",
       "      <th>DistanceFromHome</th>\n",
       "      <th>EducationField</th>\n",
       "      <th>EmployeeCount</th>\n",
       "      <th>EmployeeNumber</th>\n",
       "      <th>Application ID</th>\n",
       "      <th>Gender</th>\n",
       "      <th>HourlyRate</th>\n",
       "      <th>JobRole</th>\n",
       "      <th>JobSatisfaction</th>\n",
       "      <th>MaritalStatus</th>\n",
       "      <th>MonthlyIncome</th>\n",
       "      <th>Over18</th>\n",
       "      <th>OverTime</th>\n",
       "      <th>PercentSalaryHike</th>\n",
       "      <th>Employee Source</th>\n",
       "    </tr>\n",
       "  </thead>\n",
       "  <tbody>\n",
       "    <tr>\n",
       "      <td>count</td>\n",
       "      <td>23423</td>\n",
       "      <td>23428</td>\n",
       "      <td>23425</td>\n",
       "      <td>23427</td>\n",
       "      <td>23427</td>\n",
       "      <td>23431</td>\n",
       "      <td>23435</td>\n",
       "      <td>23433</td>\n",
       "      <td>23426</td>\n",
       "      <td>23427</td>\n",
       "      <td>23427</td>\n",
       "      <td>23427</td>\n",
       "      <td>23425</td>\n",
       "      <td>23423</td>\n",
       "      <td>23426</td>\n",
       "      <td>23424</td>\n",
       "      <td>23422</td>\n",
       "      <td>23424</td>\n",
       "    </tr>\n",
       "    <tr>\n",
       "      <td>unique</td>\n",
       "      <td>2</td>\n",
       "      <td>3</td>\n",
       "      <td>4</td>\n",
       "      <td>59</td>\n",
       "      <td>8</td>\n",
       "      <td>3</td>\n",
       "      <td>23366</td>\n",
       "      <td>23419</td>\n",
       "      <td>4</td>\n",
       "      <td>73</td>\n",
       "      <td>11</td>\n",
       "      <td>5</td>\n",
       "      <td>4</td>\n",
       "      <td>1351</td>\n",
       "      <td>2</td>\n",
       "      <td>3</td>\n",
       "      <td>17</td>\n",
       "      <td>12</td>\n",
       "    </tr>\n",
       "    <tr>\n",
       "      <td>top</td>\n",
       "      <td>Current employee</td>\n",
       "      <td>Travel_Rarely</td>\n",
       "      <td>Research &amp; Development</td>\n",
       "      <td>1</td>\n",
       "      <td>Life Sciences</td>\n",
       "      <td>1</td>\n",
       "      <td>23244</td>\n",
       "      <td>123457</td>\n",
       "      <td>Male</td>\n",
       "      <td>66</td>\n",
       "      <td>Sales Executive</td>\n",
       "      <td>4</td>\n",
       "      <td>Married</td>\n",
       "      <td>2342</td>\n",
       "      <td>Y</td>\n",
       "      <td>No</td>\n",
       "      <td>11</td>\n",
       "      <td>Company Website</td>\n",
       "    </tr>\n",
       "    <tr>\n",
       "      <td>freq</td>\n",
       "      <td>19714</td>\n",
       "      <td>16620</td>\n",
       "      <td>15286</td>\n",
       "      <td>2416</td>\n",
       "      <td>9701</td>\n",
       "      <td>16378</td>\n",
       "      <td>7</td>\n",
       "      <td>2</td>\n",
       "      <td>14056</td>\n",
       "      <td>480</td>\n",
       "      <td>5111</td>\n",
       "      <td>7276</td>\n",
       "      <td>10709</td>\n",
       "      <td>66</td>\n",
       "      <td>23424</td>\n",
       "      <td>16790</td>\n",
       "      <td>3353</td>\n",
       "      <td>5400</td>\n",
       "    </tr>\n",
       "  </tbody>\n",
       "</table>\n",
       "</div>"
      ],
      "text/plain": [
       "               Attrition BusinessTravel              Department  \\\n",
       "count              23423          23428                   23425   \n",
       "unique                 2              3                       4   \n",
       "top     Current employee  Travel_Rarely  Research & Development   \n",
       "freq               19714          16620                   15286   \n",
       "\n",
       "       DistanceFromHome EducationField EmployeeCount EmployeeNumber  \\\n",
       "count             23427          23427         23431          23435   \n",
       "unique               59              8             3          23366   \n",
       "top                   1  Life Sciences             1          23244   \n",
       "freq               2416           9701         16378              7   \n",
       "\n",
       "       Application ID Gender HourlyRate          JobRole JobSatisfaction  \\\n",
       "count           23433  23426      23427            23427           23427   \n",
       "unique          23419      4         73               11               5   \n",
       "top            123457   Male         66  Sales Executive               4   \n",
       "freq                2  14056        480             5111            7276   \n",
       "\n",
       "       MaritalStatus MonthlyIncome Over18 OverTime PercentSalaryHike  \\\n",
       "count          23425         23423  23426    23424             23422   \n",
       "unique             4          1351      2        3                17   \n",
       "top          Married          2342      Y       No                11   \n",
       "freq           10709            66  23424    16790              3353   \n",
       "\n",
       "        Employee Source  \n",
       "count             23424  \n",
       "unique               12  \n",
       "top     Company Website  \n",
       "freq               5400  "
      ]
     },
     "execution_count": 6,
     "metadata": {},
     "output_type": "execute_result"
    }
   ],
   "source": [
    "df.describe(include='object')"
   ]
  },
  {
   "cell_type": "code",
   "execution_count": 7,
   "metadata": {},
   "outputs": [
    {
     "name": "stdout",
     "output_type": "stream",
     "text": [
      "<class 'pandas.core.frame.DataFrame'>\n",
      "RangeIndex: 23436 entries, 0 to 23435\n",
      "Data columns (total 37 columns):\n",
      "Age                         23433 non-null float64\n",
      "Attrition                   23423 non-null object\n",
      "BusinessTravel              23428 non-null object\n",
      "DailyRate                   23424 non-null float64\n",
      "Department                  23425 non-null object\n",
      "DistanceFromHome            23427 non-null object\n",
      "Education                   23424 non-null float64\n",
      "EducationField              23427 non-null object\n",
      "EmployeeCount               23431 non-null object\n",
      "EmployeeNumber              23435 non-null object\n",
      "Application ID              23433 non-null object\n",
      "EnvironmentSatisfaction     23427 non-null float64\n",
      "Gender                      23426 non-null object\n",
      "HourlyRate                  23427 non-null object\n",
      "JobInvolvement              23427 non-null float64\n",
      "JobLevel                    23429 non-null float64\n",
      "JobRole                     23427 non-null object\n",
      "JobSatisfaction             23427 non-null object\n",
      "MaritalStatus               23425 non-null object\n",
      "MonthlyIncome               23423 non-null object\n",
      "MonthlyRate                 23425 non-null float64\n",
      "NumCompaniesWorked          23427 non-null float64\n",
      "Over18                      23426 non-null object\n",
      "OverTime                    23424 non-null object\n",
      "PercentSalaryHike           23422 non-null object\n",
      "PerformanceRating           23426 non-null float64\n",
      "RelationshipSatisfaction    23428 non-null float64\n",
      "StandardHours               23426 non-null float64\n",
      "StockOptionLevel            23427 non-null float64\n",
      "TotalWorkingYears           23428 non-null float64\n",
      "TrainingTimesLastYear       23425 non-null float64\n",
      "WorkLifeBalance             23426 non-null float64\n",
      "YearsAtCompany              23423 non-null float64\n",
      "YearsInCurrentRole          23421 non-null float64\n",
      "YearsSinceLastPromotion     23425 non-null float64\n",
      "YearsWithCurrManager        23429 non-null float64\n",
      "Employee Source             23424 non-null object\n",
      "dtypes: float64(19), object(18)\n",
      "memory usage: 6.6+ MB\n"
     ]
    }
   ],
   "source": [
    "df.info()"
   ]
  },
  {
   "cell_type": "code",
   "execution_count": 8,
   "metadata": {},
   "outputs": [
    {
     "data": {
      "text/plain": [
       "Age                          3\n",
       "Attrition                   13\n",
       "BusinessTravel               8\n",
       "DailyRate                   12\n",
       "Department                  11\n",
       "DistanceFromHome             9\n",
       "Education                   12\n",
       "EducationField               9\n",
       "EmployeeCount                5\n",
       "EmployeeNumber               1\n",
       "Application ID               3\n",
       "EnvironmentSatisfaction      9\n",
       "Gender                      10\n",
       "HourlyRate                   9\n",
       "JobInvolvement               9\n",
       "JobLevel                     7\n",
       "JobRole                      9\n",
       "JobSatisfaction              9\n",
       "MaritalStatus               11\n",
       "MonthlyIncome               13\n",
       "MonthlyRate                 11\n",
       "NumCompaniesWorked           9\n",
       "Over18                      10\n",
       "OverTime                    12\n",
       "PercentSalaryHike           14\n",
       "PerformanceRating           10\n",
       "RelationshipSatisfaction     8\n",
       "StandardHours               10\n",
       "StockOptionLevel             9\n",
       "TotalWorkingYears            8\n",
       "TrainingTimesLastYear       11\n",
       "WorkLifeBalance             10\n",
       "YearsAtCompany              13\n",
       "YearsInCurrentRole          15\n",
       "YearsSinceLastPromotion     11\n",
       "YearsWithCurrManager         7\n",
       "Employee Source             12\n",
       "dtype: int64"
      ]
     },
     "execution_count": 8,
     "metadata": {},
     "output_type": "execute_result"
    }
   ],
   "source": [
    "df.isnull().sum()"
   ]
  },
  {
   "cell_type": "code",
   "execution_count": 9,
   "metadata": {},
   "outputs": [
    {
     "name": "stdout",
     "output_type": "stream",
     "text": [
      "                          Total   Percent\n",
      "Age                           3  0.012801\n",
      "Application ID                3  0.012801\n",
      "Attrition                    13  0.055470\n",
      "BusinessTravel                8  0.034136\n",
      "DailyRate                    12  0.051203\n",
      "Department                   11  0.046936\n",
      "DistanceFromHome              9  0.038402\n",
      "Education                    12  0.051203\n",
      "EducationField                9  0.038402\n",
      "Employee Source              12  0.051203\n",
      "EmployeeCount                 5  0.021335\n",
      "EmployeeNumber                1  0.004267\n",
      "EnvironmentSatisfaction       9  0.038402\n",
      "Gender                       10  0.042669\n",
      "HourlyRate                    9  0.038402\n",
      "JobInvolvement                9  0.038402\n",
      "JobLevel                      7  0.029869\n",
      "JobRole                       9  0.038402\n",
      "JobSatisfaction               9  0.038402\n",
      "MaritalStatus                11  0.046936\n",
      "MonthlyIncome                13  0.055470\n",
      "MonthlyRate                  11  0.046936\n",
      "NumCompaniesWorked            9  0.038402\n",
      "Over18                       10  0.042669\n",
      "OverTime                     12  0.051203\n",
      "PercentSalaryHike            14  0.059737\n",
      "PerformanceRating            10  0.042669\n",
      "RelationshipSatisfaction      8  0.034136\n",
      "StandardHours                10  0.042669\n",
      "StockOptionLevel              9  0.038402\n",
      "TotalWorkingYears             8  0.034136\n",
      "TrainingTimesLastYear        11  0.046936\n",
      "WorkLifeBalance              10  0.042669\n",
      "YearsAtCompany               13  0.055470\n",
      "YearsInCurrentRole           15  0.064004\n",
      "YearsSinceLastPromotion      11  0.046936\n",
      "YearsWithCurrManager          7  0.029869\n"
     ]
    }
   ],
   "source": [
    "total = df.isnull().sum()\n",
    "percent = ((df.isnull().sum()/df.isnull().count())*100).sort_values(ascending=False)\n",
    "\n",
    "missing_data = pd.concat([total, percent], axis=1, keys=['Total', 'Percent'])\n",
    "\n",
    "print(missing_data)"
   ]
  },
  {
   "cell_type": "code",
   "execution_count": 10,
   "metadata": {},
   "outputs": [],
   "source": [
    "df['Attrition'] = df['Attrition'].replace(['Current employee','Voluntary Resignation'],[0,1])"
   ]
  },
  {
   "cell_type": "code",
   "execution_count": 11,
   "metadata": {},
   "outputs": [
    {
     "data": {
      "text/html": [
       "<div>\n",
       "<style scoped>\n",
       "    .dataframe tbody tr th:only-of-type {\n",
       "        vertical-align: middle;\n",
       "    }\n",
       "\n",
       "    .dataframe tbody tr th {\n",
       "        vertical-align: top;\n",
       "    }\n",
       "\n",
       "    .dataframe thead th {\n",
       "        text-align: right;\n",
       "    }\n",
       "</style>\n",
       "<table border=\"1\" class=\"dataframe\">\n",
       "  <thead>\n",
       "    <tr style=\"text-align: right;\">\n",
       "      <th></th>\n",
       "      <th>Age</th>\n",
       "      <th>Attrition</th>\n",
       "      <th>BusinessTravel</th>\n",
       "      <th>DailyRate</th>\n",
       "      <th>Department</th>\n",
       "      <th>DistanceFromHome</th>\n",
       "      <th>Education</th>\n",
       "      <th>EducationField</th>\n",
       "      <th>EmployeeCount</th>\n",
       "      <th>EmployeeNumber</th>\n",
       "      <th>...</th>\n",
       "      <th>StandardHours</th>\n",
       "      <th>StockOptionLevel</th>\n",
       "      <th>TotalWorkingYears</th>\n",
       "      <th>TrainingTimesLastYear</th>\n",
       "      <th>WorkLifeBalance</th>\n",
       "      <th>YearsAtCompany</th>\n",
       "      <th>YearsInCurrentRole</th>\n",
       "      <th>YearsSinceLastPromotion</th>\n",
       "      <th>YearsWithCurrManager</th>\n",
       "      <th>Employee Source</th>\n",
       "    </tr>\n",
       "  </thead>\n",
       "  <tbody>\n",
       "    <tr>\n",
       "      <td>15655</td>\n",
       "      <td>33.0</td>\n",
       "      <td>0.0</td>\n",
       "      <td>Travel_Frequently</td>\n",
       "      <td>NaN</td>\n",
       "      <td>1296</td>\n",
       "      <td>Research &amp; Development</td>\n",
       "      <td>6.0</td>\n",
       "      <td>3</td>\n",
       "      <td>Marketing</td>\n",
       "      <td>1</td>\n",
       "      <td>...</td>\n",
       "      <td>4.0</td>\n",
       "      <td>80.0</td>\n",
       "      <td>0.0</td>\n",
       "      <td>22.0</td>\n",
       "      <td>3.0</td>\n",
       "      <td>3.0</td>\n",
       "      <td>22.0</td>\n",
       "      <td>17.0</td>\n",
       "      <td>11.0</td>\n",
       "      <td>15</td>\n",
       "    </tr>\n",
       "  </tbody>\n",
       "</table>\n",
       "<p>1 rows × 37 columns</p>\n",
       "</div>"
      ],
      "text/plain": [
       "        Age  Attrition     BusinessTravel  DailyRate Department  \\\n",
       "15655  33.0        0.0  Travel_Frequently        NaN       1296   \n",
       "\n",
       "             DistanceFromHome  Education EducationField EmployeeCount  \\\n",
       "15655  Research & Development        6.0              3     Marketing   \n",
       "\n",
       "      EmployeeNumber  ... StandardHours  StockOptionLevel TotalWorkingYears  \\\n",
       "15655              1  ...           4.0              80.0               0.0   \n",
       "\n",
       "      TrainingTimesLastYear  WorkLifeBalance  YearsAtCompany  \\\n",
       "15655                  22.0              3.0             3.0   \n",
       "\n",
       "      YearsInCurrentRole YearsSinceLastPromotion YearsWithCurrManager  \\\n",
       "15655               22.0                    17.0                 11.0   \n",
       "\n",
       "      Employee Source  \n",
       "15655              15  \n",
       "\n",
       "[1 rows x 37 columns]"
      ]
     },
     "execution_count": 11,
     "metadata": {},
     "output_type": "execute_result"
    }
   ],
   "source": [
    "df[df['Education']==6]"
   ]
  },
  {
   "cell_type": "code",
   "execution_count": 12,
   "metadata": {},
   "outputs": [],
   "source": [
    "df.drop(15655,inplace=True)"
   ]
  },
  {
   "cell_type": "code",
   "execution_count": 13,
   "metadata": {},
   "outputs": [],
   "source": [
    "df['Education'] = df['Education'].replace([1,2,3,4,5],['Below college','College','Bachelors','Master','Doctorate'])"
   ]
  },
  {
   "cell_type": "code",
   "execution_count": 14,
   "metadata": {},
   "outputs": [
    {
     "data": {
      "text/plain": [
       "Index(['Age', 'Attrition', 'BusinessTravel', 'DailyRate', 'Department',\n",
       "       'DistanceFromHome', 'Education', 'EducationField', 'EmployeeCount',\n",
       "       'EmployeeNumber', 'Application ID', 'EnvironmentSatisfaction', 'Gender',\n",
       "       'HourlyRate', 'JobInvolvement', 'JobLevel', 'JobRole',\n",
       "       'JobSatisfaction', 'MaritalStatus', 'MonthlyIncome', 'MonthlyRate',\n",
       "       'NumCompaniesWorked', 'Over18', 'OverTime', 'PercentSalaryHike',\n",
       "       'PerformanceRating', 'RelationshipSatisfaction', 'StandardHours',\n",
       "       'StockOptionLevel', 'TotalWorkingYears', 'TrainingTimesLastYear',\n",
       "       'WorkLifeBalance', 'YearsAtCompany', 'YearsInCurrentRole',\n",
       "       'YearsSinceLastPromotion', 'YearsWithCurrManager', 'Employee Source'],\n",
       "      dtype='object')"
      ]
     },
     "execution_count": 14,
     "metadata": {},
     "output_type": "execute_result"
    }
   ],
   "source": [
    "df.columns"
   ]
  },
  {
   "cell_type": "code",
   "execution_count": 15,
   "metadata": {},
   "outputs": [],
   "source": [
    "df.drop(['EmployeeCount','EmployeeNumber','Application ID','Over18'],inplace=True,axis=1)"
   ]
  },
  {
   "cell_type": "code",
   "execution_count": 16,
   "metadata": {},
   "outputs": [
    {
     "data": {
      "text/html": [
       "<div>\n",
       "<style scoped>\n",
       "    .dataframe tbody tr th:only-of-type {\n",
       "        vertical-align: middle;\n",
       "    }\n",
       "\n",
       "    .dataframe tbody tr th {\n",
       "        vertical-align: top;\n",
       "    }\n",
       "\n",
       "    .dataframe thead th {\n",
       "        text-align: right;\n",
       "    }\n",
       "</style>\n",
       "<table border=\"1\" class=\"dataframe\">\n",
       "  <thead>\n",
       "    <tr style=\"text-align: right;\">\n",
       "      <th></th>\n",
       "      <th>EnvironmentSatisfaction</th>\n",
       "      <th>JobSatisfaction</th>\n",
       "      <th>PerformanceRating</th>\n",
       "      <th>RelationshipSatisfaction</th>\n",
       "      <th>StockOptionLevel</th>\n",
       "      <th>WorkLifeBalance</th>\n",
       "    </tr>\n",
       "  </thead>\n",
       "  <tbody>\n",
       "    <tr>\n",
       "      <td>0</td>\n",
       "      <td>2.0</td>\n",
       "      <td>4</td>\n",
       "      <td>3.0</td>\n",
       "      <td>1.0</td>\n",
       "      <td>0.0</td>\n",
       "      <td>1.0</td>\n",
       "    </tr>\n",
       "    <tr>\n",
       "      <td>1</td>\n",
       "      <td>2.0</td>\n",
       "      <td>4</td>\n",
       "      <td>3.0</td>\n",
       "      <td>1.0</td>\n",
       "      <td>0.0</td>\n",
       "      <td>1.0</td>\n",
       "    </tr>\n",
       "    <tr>\n",
       "      <td>2</td>\n",
       "      <td>2.0</td>\n",
       "      <td>4</td>\n",
       "      <td>3.0</td>\n",
       "      <td>1.0</td>\n",
       "      <td>0.0</td>\n",
       "      <td>1.0</td>\n",
       "    </tr>\n",
       "    <tr>\n",
       "      <td>3</td>\n",
       "      <td>2.0</td>\n",
       "      <td>4</td>\n",
       "      <td>3.0</td>\n",
       "      <td>1.0</td>\n",
       "      <td>0.0</td>\n",
       "      <td>1.0</td>\n",
       "    </tr>\n",
       "    <tr>\n",
       "      <td>4</td>\n",
       "      <td>2.0</td>\n",
       "      <td>4</td>\n",
       "      <td>3.0</td>\n",
       "      <td>1.0</td>\n",
       "      <td>0.0</td>\n",
       "      <td>1.0</td>\n",
       "    </tr>\n",
       "    <tr>\n",
       "      <td>...</td>\n",
       "      <td>...</td>\n",
       "      <td>...</td>\n",
       "      <td>...</td>\n",
       "      <td>...</td>\n",
       "      <td>...</td>\n",
       "      <td>...</td>\n",
       "    </tr>\n",
       "    <tr>\n",
       "      <td>23431</td>\n",
       "      <td>3.0</td>\n",
       "      <td>4</td>\n",
       "      <td>4.0</td>\n",
       "      <td>3.0</td>\n",
       "      <td>1.0</td>\n",
       "      <td>3.0</td>\n",
       "    </tr>\n",
       "    <tr>\n",
       "      <td>23432</td>\n",
       "      <td>3.0</td>\n",
       "      <td>4</td>\n",
       "      <td>4.0</td>\n",
       "      <td>3.0</td>\n",
       "      <td>1.0</td>\n",
       "      <td>4.0</td>\n",
       "    </tr>\n",
       "    <tr>\n",
       "      <td>23433</td>\n",
       "      <td>4.0</td>\n",
       "      <td>3</td>\n",
       "      <td>3.0</td>\n",
       "      <td>3.0</td>\n",
       "      <td>2.0</td>\n",
       "      <td>2.0</td>\n",
       "    </tr>\n",
       "    <tr>\n",
       "      <td>23434</td>\n",
       "      <td>3.0</td>\n",
       "      <td>1</td>\n",
       "      <td>3.0</td>\n",
       "      <td>4.0</td>\n",
       "      <td>0.0</td>\n",
       "      <td>3.0</td>\n",
       "    </tr>\n",
       "    <tr>\n",
       "      <td>23435</td>\n",
       "      <td>4.0</td>\n",
       "      <td>4</td>\n",
       "      <td>3.0</td>\n",
       "      <td>3.0</td>\n",
       "      <td>0.0</td>\n",
       "      <td>3.0</td>\n",
       "    </tr>\n",
       "  </tbody>\n",
       "</table>\n",
       "<p>23435 rows × 6 columns</p>\n",
       "</div>"
      ],
      "text/plain": [
       "       EnvironmentSatisfaction JobSatisfaction  PerformanceRating  \\\n",
       "0                          2.0               4                3.0   \n",
       "1                          2.0               4                3.0   \n",
       "2                          2.0               4                3.0   \n",
       "3                          2.0               4                3.0   \n",
       "4                          2.0               4                3.0   \n",
       "...                        ...             ...                ...   \n",
       "23431                      3.0               4                4.0   \n",
       "23432                      3.0               4                4.0   \n",
       "23433                      4.0               3                3.0   \n",
       "23434                      3.0               1                3.0   \n",
       "23435                      4.0               4                3.0   \n",
       "\n",
       "       RelationshipSatisfaction  StockOptionLevel  WorkLifeBalance  \n",
       "0                           1.0               0.0              1.0  \n",
       "1                           1.0               0.0              1.0  \n",
       "2                           1.0               0.0              1.0  \n",
       "3                           1.0               0.0              1.0  \n",
       "4                           1.0               0.0              1.0  \n",
       "...                         ...               ...              ...  \n",
       "23431                       3.0               1.0              3.0  \n",
       "23432                       3.0               1.0              4.0  \n",
       "23433                       3.0               2.0              2.0  \n",
       "23434                       4.0               0.0              3.0  \n",
       "23435                       3.0               0.0              3.0  \n",
       "\n",
       "[23435 rows x 6 columns]"
      ]
     },
     "execution_count": 16,
     "metadata": {},
     "output_type": "execute_result"
    }
   ],
   "source": [
    "df[['EnvironmentSatisfaction','JobSatisfaction','PerformanceRating', 'RelationshipSatisfaction','StockOptionLevel','WorkLifeBalance']]"
   ]
  },
  {
   "cell_type": "code",
   "execution_count": 17,
   "metadata": {},
   "outputs": [],
   "source": [
    "df['Gender'] = df['Gender'].replace(['Male','Female'],[0,1])"
   ]
  },
  {
   "cell_type": "code",
   "execution_count": 18,
   "metadata": {},
   "outputs": [
    {
     "data": {
      "text/html": [
       "<div>\n",
       "<style scoped>\n",
       "    .dataframe tbody tr th:only-of-type {\n",
       "        vertical-align: middle;\n",
       "    }\n",
       "\n",
       "    .dataframe tbody tr th {\n",
       "        vertical-align: top;\n",
       "    }\n",
       "\n",
       "    .dataframe thead th {\n",
       "        text-align: right;\n",
       "    }\n",
       "</style>\n",
       "<table border=\"1\" class=\"dataframe\">\n",
       "  <thead>\n",
       "    <tr style=\"text-align: right;\">\n",
       "      <th></th>\n",
       "      <th>Age</th>\n",
       "      <th>Attrition</th>\n",
       "      <th>BusinessTravel</th>\n",
       "      <th>DailyRate</th>\n",
       "      <th>Department</th>\n",
       "      <th>DistanceFromHome</th>\n",
       "      <th>Education</th>\n",
       "      <th>EducationField</th>\n",
       "      <th>EnvironmentSatisfaction</th>\n",
       "      <th>Gender</th>\n",
       "      <th>...</th>\n",
       "      <th>StandardHours</th>\n",
       "      <th>StockOptionLevel</th>\n",
       "      <th>TotalWorkingYears</th>\n",
       "      <th>TrainingTimesLastYear</th>\n",
       "      <th>WorkLifeBalance</th>\n",
       "      <th>YearsAtCompany</th>\n",
       "      <th>YearsInCurrentRole</th>\n",
       "      <th>YearsSinceLastPromotion</th>\n",
       "      <th>YearsWithCurrManager</th>\n",
       "      <th>Employee Source</th>\n",
       "    </tr>\n",
       "  </thead>\n",
       "  <tbody>\n",
       "    <tr>\n",
       "      <td>17027</td>\n",
       "      <td>44.0</td>\n",
       "      <td>0.0</td>\n",
       "      <td>Non-Travel</td>\n",
       "      <td>111.0</td>\n",
       "      <td>Research &amp; Development</td>\n",
       "      <td>17</td>\n",
       "      <td>Bachelors</td>\n",
       "      <td>Medical</td>\n",
       "      <td>129588.0</td>\n",
       "      <td>2</td>\n",
       "      <td>...</td>\n",
       "      <td>3.0</td>\n",
       "      <td>80.0</td>\n",
       "      <td>0.0</td>\n",
       "      <td>30.0</td>\n",
       "      <td>2.0</td>\n",
       "      <td>3.0</td>\n",
       "      <td>5.0</td>\n",
       "      <td>4.0</td>\n",
       "      <td>1.0</td>\n",
       "      <td>2</td>\n",
       "    </tr>\n",
       "  </tbody>\n",
       "</table>\n",
       "<p>1 rows × 33 columns</p>\n",
       "</div>"
      ],
      "text/plain": [
       "        Age  Attrition BusinessTravel  DailyRate              Department  \\\n",
       "17027  44.0        0.0     Non-Travel      111.0  Research & Development   \n",
       "\n",
       "      DistanceFromHome  Education EducationField  EnvironmentSatisfaction  \\\n",
       "17027               17  Bachelors        Medical                 129588.0   \n",
       "\n",
       "      Gender  ... StandardHours  StockOptionLevel  TotalWorkingYears  \\\n",
       "17027      2  ...           3.0              80.0                0.0   \n",
       "\n",
       "      TrainingTimesLastYear WorkLifeBalance YearsAtCompany YearsInCurrentRole  \\\n",
       "17027                  30.0             2.0            3.0                5.0   \n",
       "\n",
       "       YearsSinceLastPromotion  YearsWithCurrManager Employee Source  \n",
       "17027                      4.0                   1.0               2  \n",
       "\n",
       "[1 rows x 33 columns]"
      ]
     },
     "execution_count": 18,
     "metadata": {},
     "output_type": "execute_result"
    }
   ],
   "source": [
    "df[df['Gender']=='2']"
   ]
  },
  {
   "cell_type": "code",
   "execution_count": 19,
   "metadata": {},
   "outputs": [],
   "source": [
    "df.drop(17027,inplace=True)"
   ]
  },
  {
   "cell_type": "markdown",
   "metadata": {},
   "source": [
    "## Null Imputation"
   ]
  },
  {
   "cell_type": "code",
   "execution_count": 20,
   "metadata": {},
   "outputs": [],
   "source": [
    "df['Age'] = df['Age'].fillna(df['Age'].mean())"
   ]
  },
  {
   "cell_type": "code",
   "execution_count": 21,
   "metadata": {},
   "outputs": [],
   "source": [
    "df['Attrition'] = df['Attrition'].fillna(df['Attrition'].mode()[0])"
   ]
  },
  {
   "cell_type": "code",
   "execution_count": 22,
   "metadata": {},
   "outputs": [],
   "source": [
    "df['BusinessTravel'] = df['BusinessTravel'].fillna(df['BusinessTravel'].mode()[0])"
   ]
  },
  {
   "cell_type": "code",
   "execution_count": 23,
   "metadata": {},
   "outputs": [],
   "source": [
    "df['DailyRate'] = df['DailyRate'].fillna(df['DailyRate'].mean())"
   ]
  },
  {
   "cell_type": "code",
   "execution_count": 24,
   "metadata": {},
   "outputs": [],
   "source": [
    "df['Department'] = df['Department'].fillna(df['Department'].mode()[0])"
   ]
  },
  {
   "cell_type": "code",
   "execution_count": 25,
   "metadata": {},
   "outputs": [],
   "source": [
    "df['DistanceFromHome'] = df['DistanceFromHome'].astype(float)\n",
    "df['DistanceFromHome'] = df['DistanceFromHome'].fillna(df['DistanceFromHome'].mean())"
   ]
  },
  {
   "cell_type": "code",
   "execution_count": 26,
   "metadata": {},
   "outputs": [],
   "source": [
    "df['Education'] = df['Education'].fillna(df['Education'].mode()[0])"
   ]
  },
  {
   "cell_type": "code",
   "execution_count": 27,
   "metadata": {},
   "outputs": [],
   "source": [
    "df['EducationField'] = df['EducationField'].fillna(df['EducationField'].mode()[0])"
   ]
  },
  {
   "cell_type": "code",
   "execution_count": 28,
   "metadata": {},
   "outputs": [],
   "source": [
    "df['EnvironmentSatisfaction'] = df['EnvironmentSatisfaction'].fillna(df['EnvironmentSatisfaction'].median())"
   ]
  },
  {
   "cell_type": "code",
   "execution_count": 29,
   "metadata": {},
   "outputs": [],
   "source": [
    "df['Gender'] = df['Gender'].fillna(df['Gender'].mode()[0])"
   ]
  },
  {
   "cell_type": "code",
   "execution_count": 30,
   "metadata": {},
   "outputs": [],
   "source": [
    "df['HourlyRate'] = df['HourlyRate'].astype(float)\n",
    "df['HourlyRate'] = df['HourlyRate'].fillna(df['HourlyRate'].mean())"
   ]
  },
  {
   "cell_type": "code",
   "execution_count": 31,
   "metadata": {},
   "outputs": [],
   "source": [
    "df['JobInvolvement'] = df['JobInvolvement'].fillna(df['JobInvolvement'].median())"
   ]
  },
  {
   "cell_type": "code",
   "execution_count": 32,
   "metadata": {},
   "outputs": [],
   "source": [
    "df['JobLevel'] = df['JobLevel'].fillna(df['JobLevel'].mean())"
   ]
  },
  {
   "cell_type": "code",
   "execution_count": 33,
   "metadata": {},
   "outputs": [],
   "source": [
    "df['JobRole'] = df['JobRole'].fillna(df['JobRole'].mode()[0])"
   ]
  },
  {
   "cell_type": "code",
   "execution_count": 34,
   "metadata": {},
   "outputs": [],
   "source": [
    "df['JobSatisfaction'] = df['JobSatisfaction'].astype(float)\n",
    "df['JobSatisfaction'] = df['JobSatisfaction'].fillna(df['JobSatisfaction'].mean())"
   ]
  },
  {
   "cell_type": "code",
   "execution_count": 35,
   "metadata": {},
   "outputs": [],
   "source": [
    "df['MaritalStatus'] = df['MaritalStatus'].fillna(df['MaritalStatus'].mode()[0])"
   ]
  },
  {
   "cell_type": "code",
   "execution_count": 36,
   "metadata": {},
   "outputs": [],
   "source": [
    "df['MonthlyIncome'] = df['MonthlyIncome'].astype(float)\n",
    "df['MonthlyIncome'] = df['MonthlyIncome'].fillna(df['MonthlyIncome'].median())"
   ]
  },
  {
   "cell_type": "code",
   "execution_count": 37,
   "metadata": {},
   "outputs": [],
   "source": [
    "df['MonthlyRate'] = df['MonthlyRate'].fillna(df['MonthlyRate'].mean())"
   ]
  },
  {
   "cell_type": "code",
   "execution_count": 38,
   "metadata": {},
   "outputs": [],
   "source": [
    "df['NumCompaniesWorked'] = df['NumCompaniesWorked'].fillna(df['NumCompaniesWorked'].median())"
   ]
  },
  {
   "cell_type": "code",
   "execution_count": 39,
   "metadata": {},
   "outputs": [],
   "source": [
    "df['OverTime'] = df['OverTime'].fillna(df['OverTime'].mode()[0])"
   ]
  },
  {
   "cell_type": "code",
   "execution_count": 40,
   "metadata": {},
   "outputs": [],
   "source": [
    "df['PercentSalaryHike'] = df['PercentSalaryHike'].astype(float)\n",
    "df['PercentSalaryHike'] = df['PercentSalaryHike'].fillna(df['PercentSalaryHike'].mean())"
   ]
  },
  {
   "cell_type": "code",
   "execution_count": 41,
   "metadata": {},
   "outputs": [],
   "source": [
    "df['PerformanceRating'] = df['PerformanceRating'].fillna(df['PerformanceRating'].median())"
   ]
  },
  {
   "cell_type": "code",
   "execution_count": 42,
   "metadata": {},
   "outputs": [],
   "source": [
    "df['RelationshipSatisfaction'] = df['RelationshipSatisfaction'].fillna(df['RelationshipSatisfaction'].mean())"
   ]
  },
  {
   "cell_type": "code",
   "execution_count": 43,
   "metadata": {},
   "outputs": [],
   "source": [
    "df['StandardHours'] = df['StandardHours'].fillna(df['StandardHours'].mean())"
   ]
  },
  {
   "cell_type": "code",
   "execution_count": 44,
   "metadata": {},
   "outputs": [],
   "source": [
    "df['StockOptionLevel'] = df['StockOptionLevel'].fillna(df['StockOptionLevel'].median())"
   ]
  },
  {
   "cell_type": "code",
   "execution_count": 45,
   "metadata": {},
   "outputs": [],
   "source": [
    "df['TotalWorkingYears'] = df['TotalWorkingYears'].fillna(df['TotalWorkingYears'].median())"
   ]
  },
  {
   "cell_type": "code",
   "execution_count": 46,
   "metadata": {},
   "outputs": [],
   "source": [
    "df['TrainingTimesLastYear'] = df['TrainingTimesLastYear'].fillna(df['TrainingTimesLastYear'].median())"
   ]
  },
  {
   "cell_type": "code",
   "execution_count": 47,
   "metadata": {},
   "outputs": [],
   "source": [
    "df['WorkLifeBalance'] = df['WorkLifeBalance'].fillna(df['WorkLifeBalance'].mean())"
   ]
  },
  {
   "cell_type": "code",
   "execution_count": 48,
   "metadata": {},
   "outputs": [],
   "source": [
    "df['YearsAtCompany'] = df['YearsAtCompany'].fillna(df['YearsAtCompany'].median())"
   ]
  },
  {
   "cell_type": "code",
   "execution_count": 49,
   "metadata": {},
   "outputs": [],
   "source": [
    "df['YearsInCurrentRole'] = df['YearsInCurrentRole'].fillna(df['YearsInCurrentRole'].median())"
   ]
  },
  {
   "cell_type": "code",
   "execution_count": 50,
   "metadata": {},
   "outputs": [],
   "source": [
    "df['YearsSinceLastPromotion'] = df['YearsSinceLastPromotion'].fillna(df['YearsSinceLastPromotion'].median())"
   ]
  },
  {
   "cell_type": "code",
   "execution_count": 51,
   "metadata": {},
   "outputs": [],
   "source": [
    "df['YearsWithCurrManager'] = df['YearsWithCurrManager'].fillna(df['YearsWithCurrManager'].median())"
   ]
  },
  {
   "cell_type": "code",
   "execution_count": 52,
   "metadata": {},
   "outputs": [],
   "source": [
    "df['Employee Source'] = df['Employee Source'].fillna(df['Employee Source'].mode()[0])"
   ]
  },
  {
   "cell_type": "code",
   "execution_count": 53,
   "metadata": {},
   "outputs": [],
   "source": [
    "df.drop('StandardHours',axis=1,inplace=True)"
   ]
  },
  {
   "cell_type": "code",
   "execution_count": 54,
   "metadata": {},
   "outputs": [
    {
     "data": {
      "text/plain": [
       "Age                         0\n",
       "Attrition                   0\n",
       "BusinessTravel              0\n",
       "DailyRate                   0\n",
       "Department                  0\n",
       "DistanceFromHome            0\n",
       "Education                   0\n",
       "EducationField              0\n",
       "EnvironmentSatisfaction     0\n",
       "Gender                      0\n",
       "HourlyRate                  0\n",
       "JobInvolvement              0\n",
       "JobLevel                    0\n",
       "JobRole                     0\n",
       "JobSatisfaction             0\n",
       "MaritalStatus               0\n",
       "MonthlyIncome               0\n",
       "MonthlyRate                 0\n",
       "NumCompaniesWorked          0\n",
       "OverTime                    0\n",
       "PercentSalaryHike           0\n",
       "PerformanceRating           0\n",
       "RelationshipSatisfaction    0\n",
       "StockOptionLevel            0\n",
       "TotalWorkingYears           0\n",
       "TrainingTimesLastYear       0\n",
       "WorkLifeBalance             0\n",
       "YearsAtCompany              0\n",
       "YearsInCurrentRole          0\n",
       "YearsSinceLastPromotion     0\n",
       "YearsWithCurrManager        0\n",
       "Employee Source             0\n",
       "dtype: int64"
      ]
     },
     "execution_count": 54,
     "metadata": {},
     "output_type": "execute_result"
    }
   ],
   "source": [
    "df.isnull().sum()"
   ]
  },
  {
   "cell_type": "markdown",
   "metadata": {},
   "source": [
    "## Checking for Outliers"
   ]
  },
  {
   "cell_type": "code",
   "execution_count": 55,
   "metadata": {},
   "outputs": [],
   "source": [
    "Q1 = df.quantile(0.25)\n",
    "Q3 = df.quantile(0.75)\n",
    "IQR = Q3 - Q1"
   ]
  },
  {
   "cell_type": "code",
   "execution_count": 56,
   "metadata": {},
   "outputs": [],
   "source": [
    "total_out = ((df < (Q1 - 1.5 * IQR)) | (df > (Q3 + 1.5 * IQR))).sum()"
   ]
  },
  {
   "cell_type": "code",
   "execution_count": 57,
   "metadata": {},
   "outputs": [],
   "source": [
    "percent_out = ((((df < (Q1 - 1.5 * IQR)) | (df > (Q3 + 1.5 * IQR))).sum()/df.count())*100).sort_values(ascending=False)"
   ]
  },
  {
   "cell_type": "code",
   "execution_count": 58,
   "metadata": {
    "scrolled": false
   },
   "outputs": [
    {
     "data": {
      "text/html": [
       "<div>\n",
       "<style scoped>\n",
       "    .dataframe tbody tr th:only-of-type {\n",
       "        vertical-align: middle;\n",
       "    }\n",
       "\n",
       "    .dataframe tbody tr th {\n",
       "        vertical-align: top;\n",
       "    }\n",
       "\n",
       "    .dataframe thead th {\n",
       "        text-align: right;\n",
       "    }\n",
       "</style>\n",
       "<table border=\"1\" class=\"dataframe\">\n",
       "  <thead>\n",
       "    <tr style=\"text-align: right;\">\n",
       "      <th></th>\n",
       "      <th>Total</th>\n",
       "      <th>Percent</th>\n",
       "    </tr>\n",
       "  </thead>\n",
       "  <tbody>\n",
       "    <tr>\n",
       "      <td>Age</td>\n",
       "      <td>0</td>\n",
       "      <td>0.000000</td>\n",
       "    </tr>\n",
       "    <tr>\n",
       "      <td>Attrition</td>\n",
       "      <td>3709</td>\n",
       "      <td>15.827430</td>\n",
       "    </tr>\n",
       "    <tr>\n",
       "      <td>BusinessTravel</td>\n",
       "      <td>0</td>\n",
       "      <td>0.000000</td>\n",
       "    </tr>\n",
       "    <tr>\n",
       "      <td>DailyRate</td>\n",
       "      <td>0</td>\n",
       "      <td>0.000000</td>\n",
       "    </tr>\n",
       "    <tr>\n",
       "      <td>Department</td>\n",
       "      <td>0</td>\n",
       "      <td>0.000000</td>\n",
       "    </tr>\n",
       "    <tr>\n",
       "      <td>DistanceFromHome</td>\n",
       "      <td>0</td>\n",
       "      <td>0.000000</td>\n",
       "    </tr>\n",
       "    <tr>\n",
       "      <td>Education</td>\n",
       "      <td>0</td>\n",
       "      <td>0.000000</td>\n",
       "    </tr>\n",
       "    <tr>\n",
       "      <td>EducationField</td>\n",
       "      <td>0</td>\n",
       "      <td>0.000000</td>\n",
       "    </tr>\n",
       "    <tr>\n",
       "      <td>Employee Source</td>\n",
       "      <td>0</td>\n",
       "      <td>0.000000</td>\n",
       "    </tr>\n",
       "    <tr>\n",
       "      <td>EnvironmentSatisfaction</td>\n",
       "      <td>0</td>\n",
       "      <td>0.000000</td>\n",
       "    </tr>\n",
       "    <tr>\n",
       "      <td>Gender</td>\n",
       "      <td>0</td>\n",
       "      <td>0.000000</td>\n",
       "    </tr>\n",
       "    <tr>\n",
       "      <td>HourlyRate</td>\n",
       "      <td>0</td>\n",
       "      <td>0.000000</td>\n",
       "    </tr>\n",
       "    <tr>\n",
       "      <td>JobInvolvement</td>\n",
       "      <td>0</td>\n",
       "      <td>0.000000</td>\n",
       "    </tr>\n",
       "    <tr>\n",
       "      <td>JobLevel</td>\n",
       "      <td>0</td>\n",
       "      <td>0.000000</td>\n",
       "    </tr>\n",
       "    <tr>\n",
       "      <td>JobRole</td>\n",
       "      <td>0</td>\n",
       "      <td>0.000000</td>\n",
       "    </tr>\n",
       "    <tr>\n",
       "      <td>JobSatisfaction</td>\n",
       "      <td>0</td>\n",
       "      <td>0.000000</td>\n",
       "    </tr>\n",
       "    <tr>\n",
       "      <td>MaritalStatus</td>\n",
       "      <td>0</td>\n",
       "      <td>0.000000</td>\n",
       "    </tr>\n",
       "    <tr>\n",
       "      <td>MonthlyIncome</td>\n",
       "      <td>1815</td>\n",
       "      <td>7.745157</td>\n",
       "    </tr>\n",
       "    <tr>\n",
       "      <td>MonthlyRate</td>\n",
       "      <td>0</td>\n",
       "      <td>0.000000</td>\n",
       "    </tr>\n",
       "    <tr>\n",
       "      <td>NumCompaniesWorked</td>\n",
       "      <td>818</td>\n",
       "      <td>3.490655</td>\n",
       "    </tr>\n",
       "    <tr>\n",
       "      <td>OverTime</td>\n",
       "      <td>0</td>\n",
       "      <td>0.000000</td>\n",
       "    </tr>\n",
       "    <tr>\n",
       "      <td>PercentSalaryHike</td>\n",
       "      <td>0</td>\n",
       "      <td>0.000000</td>\n",
       "    </tr>\n",
       "    <tr>\n",
       "      <td>PerformanceRating</td>\n",
       "      <td>3633</td>\n",
       "      <td>15.503115</td>\n",
       "    </tr>\n",
       "    <tr>\n",
       "      <td>RelationshipSatisfaction</td>\n",
       "      <td>0</td>\n",
       "      <td>0.000000</td>\n",
       "    </tr>\n",
       "    <tr>\n",
       "      <td>StockOptionLevel</td>\n",
       "      <td>1343</td>\n",
       "      <td>5.730989</td>\n",
       "    </tr>\n",
       "    <tr>\n",
       "      <td>TotalWorkingYears</td>\n",
       "      <td>1002</td>\n",
       "      <td>4.275839</td>\n",
       "    </tr>\n",
       "    <tr>\n",
       "      <td>TrainingTimesLastYear</td>\n",
       "      <td>3796</td>\n",
       "      <td>16.198686</td>\n",
       "    </tr>\n",
       "    <tr>\n",
       "      <td>WorkLifeBalance</td>\n",
       "      <td>0</td>\n",
       "      <td>0.000000</td>\n",
       "    </tr>\n",
       "    <tr>\n",
       "      <td>YearsAtCompany</td>\n",
       "      <td>1664</td>\n",
       "      <td>7.100794</td>\n",
       "    </tr>\n",
       "    <tr>\n",
       "      <td>YearsInCurrentRole</td>\n",
       "      <td>339</td>\n",
       "      <td>1.446616</td>\n",
       "    </tr>\n",
       "    <tr>\n",
       "      <td>YearsSinceLastPromotion</td>\n",
       "      <td>1696</td>\n",
       "      <td>7.237347</td>\n",
       "    </tr>\n",
       "    <tr>\n",
       "      <td>YearsWithCurrManager</td>\n",
       "      <td>223</td>\n",
       "      <td>0.951609</td>\n",
       "    </tr>\n",
       "  </tbody>\n",
       "</table>\n",
       "</div>"
      ],
      "text/plain": [
       "                          Total    Percent\n",
       "Age                           0   0.000000\n",
       "Attrition                  3709  15.827430\n",
       "BusinessTravel                0   0.000000\n",
       "DailyRate                     0   0.000000\n",
       "Department                    0   0.000000\n",
       "DistanceFromHome              0   0.000000\n",
       "Education                     0   0.000000\n",
       "EducationField                0   0.000000\n",
       "Employee Source               0   0.000000\n",
       "EnvironmentSatisfaction       0   0.000000\n",
       "Gender                        0   0.000000\n",
       "HourlyRate                    0   0.000000\n",
       "JobInvolvement                0   0.000000\n",
       "JobLevel                      0   0.000000\n",
       "JobRole                       0   0.000000\n",
       "JobSatisfaction               0   0.000000\n",
       "MaritalStatus                 0   0.000000\n",
       "MonthlyIncome              1815   7.745157\n",
       "MonthlyRate                   0   0.000000\n",
       "NumCompaniesWorked          818   3.490655\n",
       "OverTime                      0   0.000000\n",
       "PercentSalaryHike             0   0.000000\n",
       "PerformanceRating          3633  15.503115\n",
       "RelationshipSatisfaction      0   0.000000\n",
       "StockOptionLevel           1343   5.730989\n",
       "TotalWorkingYears          1002   4.275839\n",
       "TrainingTimesLastYear      3796  16.198686\n",
       "WorkLifeBalance               0   0.000000\n",
       "YearsAtCompany             1664   7.100794\n",
       "YearsInCurrentRole          339   1.446616\n",
       "YearsSinceLastPromotion    1696   7.237347\n",
       "YearsWithCurrManager        223   0.951609"
      ]
     },
     "execution_count": 58,
     "metadata": {},
     "output_type": "execute_result"
    }
   ],
   "source": [
    "outliers = pd.concat([total_out, percent_out], axis=1, keys=['Total', 'Percent'])\n",
    "outliers"
   ]
  },
  {
   "cell_type": "code",
   "execution_count": 59,
   "metadata": {},
   "outputs": [],
   "source": [
    "col = ['BusinessTravel','Education','Department','EducationField','Gender','JobRole','MaritalStatus', 'OverTime','Employee Source']"
   ]
  },
  {
   "cell_type": "code",
   "execution_count": 60,
   "metadata": {},
   "outputs": [],
   "source": [
    "dfnew = pd.get_dummies(df[col] , drop_first = True) "
   ]
  },
  {
   "cell_type": "code",
   "execution_count": 61,
   "metadata": {},
   "outputs": [],
   "source": [
    "df.drop(col,inplace=True,axis=1)"
   ]
  },
  {
   "cell_type": "code",
   "execution_count": 62,
   "metadata": {},
   "outputs": [],
   "source": [
    "df=pd.concat([df,dfnew],axis=1)"
   ]
  },
  {
   "cell_type": "code",
   "execution_count": 63,
   "metadata": {},
   "outputs": [
    {
     "data": {
      "text/html": [
       "<div>\n",
       "<style scoped>\n",
       "    .dataframe tbody tr th:only-of-type {\n",
       "        vertical-align: middle;\n",
       "    }\n",
       "\n",
       "    .dataframe tbody tr th {\n",
       "        vertical-align: top;\n",
       "    }\n",
       "\n",
       "    .dataframe thead th {\n",
       "        text-align: right;\n",
       "    }\n",
       "</style>\n",
       "<table border=\"1\" class=\"dataframe\">\n",
       "  <thead>\n",
       "    <tr style=\"text-align: right;\">\n",
       "      <th></th>\n",
       "      <th>0</th>\n",
       "      <th>1</th>\n",
       "      <th>2</th>\n",
       "      <th>3</th>\n",
       "      <th>4</th>\n",
       "      <th>5</th>\n",
       "      <th>6</th>\n",
       "      <th>7</th>\n",
       "      <th>8</th>\n",
       "      <th>9</th>\n",
       "      <th>...</th>\n",
       "      <th>23426</th>\n",
       "      <th>23427</th>\n",
       "      <th>23428</th>\n",
       "      <th>23429</th>\n",
       "      <th>23430</th>\n",
       "      <th>23431</th>\n",
       "      <th>23432</th>\n",
       "      <th>23433</th>\n",
       "      <th>23434</th>\n",
       "      <th>23435</th>\n",
       "    </tr>\n",
       "  </thead>\n",
       "  <tbody>\n",
       "    <tr>\n",
       "      <td>Age</td>\n",
       "      <td>41.0</td>\n",
       "      <td>41.0</td>\n",
       "      <td>41.0</td>\n",
       "      <td>41.0</td>\n",
       "      <td>41.0</td>\n",
       "      <td>41.0</td>\n",
       "      <td>41.0</td>\n",
       "      <td>41.0</td>\n",
       "      <td>41.0</td>\n",
       "      <td>41.0</td>\n",
       "      <td>...</td>\n",
       "      <td>60.0</td>\n",
       "      <td>60.0</td>\n",
       "      <td>60.0</td>\n",
       "      <td>60.0</td>\n",
       "      <td>60.0</td>\n",
       "      <td>60.0</td>\n",
       "      <td>60.0</td>\n",
       "      <td>36.936537</td>\n",
       "      <td>36.936537</td>\n",
       "      <td>36.936537</td>\n",
       "    </tr>\n",
       "    <tr>\n",
       "      <td>Attrition</td>\n",
       "      <td>1.0</td>\n",
       "      <td>1.0</td>\n",
       "      <td>1.0</td>\n",
       "      <td>1.0</td>\n",
       "      <td>1.0</td>\n",
       "      <td>1.0</td>\n",
       "      <td>1.0</td>\n",
       "      <td>1.0</td>\n",
       "      <td>1.0</td>\n",
       "      <td>1.0</td>\n",
       "      <td>...</td>\n",
       "      <td>0.0</td>\n",
       "      <td>0.0</td>\n",
       "      <td>0.0</td>\n",
       "      <td>0.0</td>\n",
       "      <td>0.0</td>\n",
       "      <td>0.0</td>\n",
       "      <td>0.0</td>\n",
       "      <td>1.000000</td>\n",
       "      <td>0.000000</td>\n",
       "      <td>0.000000</td>\n",
       "    </tr>\n",
       "    <tr>\n",
       "      <td>DailyRate</td>\n",
       "      <td>1102.0</td>\n",
       "      <td>1102.0</td>\n",
       "      <td>1102.0</td>\n",
       "      <td>1102.0</td>\n",
       "      <td>1102.0</td>\n",
       "      <td>1102.0</td>\n",
       "      <td>1102.0</td>\n",
       "      <td>1102.0</td>\n",
       "      <td>1102.0</td>\n",
       "      <td>1102.0</td>\n",
       "      <td>...</td>\n",
       "      <td>370.0</td>\n",
       "      <td>370.0</td>\n",
       "      <td>370.0</td>\n",
       "      <td>370.0</td>\n",
       "      <td>370.0</td>\n",
       "      <td>370.0</td>\n",
       "      <td>370.0</td>\n",
       "      <td>1009.000000</td>\n",
       "      <td>1354.000000</td>\n",
       "      <td>1142.000000</td>\n",
       "    </tr>\n",
       "    <tr>\n",
       "      <td>DistanceFromHome</td>\n",
       "      <td>1.0</td>\n",
       "      <td>1.0</td>\n",
       "      <td>1.0</td>\n",
       "      <td>1.0</td>\n",
       "      <td>1.0</td>\n",
       "      <td>1.0</td>\n",
       "      <td>1.0</td>\n",
       "      <td>1.0</td>\n",
       "      <td>1.0</td>\n",
       "      <td>1.0</td>\n",
       "      <td>...</td>\n",
       "      <td>1.0</td>\n",
       "      <td>1.0</td>\n",
       "      <td>1.0</td>\n",
       "      <td>1.0</td>\n",
       "      <td>1.0</td>\n",
       "      <td>1.0</td>\n",
       "      <td>1.0</td>\n",
       "      <td>1.000000</td>\n",
       "      <td>5.000000</td>\n",
       "      <td>8.000000</td>\n",
       "    </tr>\n",
       "    <tr>\n",
       "      <td>EnvironmentSatisfaction</td>\n",
       "      <td>2.0</td>\n",
       "      <td>2.0</td>\n",
       "      <td>2.0</td>\n",
       "      <td>2.0</td>\n",
       "      <td>2.0</td>\n",
       "      <td>4.0</td>\n",
       "      <td>1.0</td>\n",
       "      <td>2.0</td>\n",
       "      <td>2.0</td>\n",
       "      <td>2.0</td>\n",
       "      <td>...</td>\n",
       "      <td>3.0</td>\n",
       "      <td>3.0</td>\n",
       "      <td>3.0</td>\n",
       "      <td>3.0</td>\n",
       "      <td>3.0</td>\n",
       "      <td>3.0</td>\n",
       "      <td>3.0</td>\n",
       "      <td>4.000000</td>\n",
       "      <td>3.000000</td>\n",
       "      <td>4.000000</td>\n",
       "    </tr>\n",
       "    <tr>\n",
       "      <td>HourlyRate</td>\n",
       "      <td>94.0</td>\n",
       "      <td>94.0</td>\n",
       "      <td>94.0</td>\n",
       "      <td>94.0</td>\n",
       "      <td>94.0</td>\n",
       "      <td>33.0</td>\n",
       "      <td>41.0</td>\n",
       "      <td>94.0</td>\n",
       "      <td>94.0</td>\n",
       "      <td>94.0</td>\n",
       "      <td>...</td>\n",
       "      <td>92.0</td>\n",
       "      <td>92.0</td>\n",
       "      <td>92.0</td>\n",
       "      <td>92.0</td>\n",
       "      <td>92.0</td>\n",
       "      <td>92.0</td>\n",
       "      <td>92.0</td>\n",
       "      <td>83.000000</td>\n",
       "      <td>45.000000</td>\n",
       "      <td>72.000000</td>\n",
       "    </tr>\n",
       "    <tr>\n",
       "      <td>JobInvolvement</td>\n",
       "      <td>3.0</td>\n",
       "      <td>3.0</td>\n",
       "      <td>3.0</td>\n",
       "      <td>3.0</td>\n",
       "      <td>3.0</td>\n",
       "      <td>3.0</td>\n",
       "      <td>3.0</td>\n",
       "      <td>3.0</td>\n",
       "      <td>3.0</td>\n",
       "      <td>3.0</td>\n",
       "      <td>...</td>\n",
       "      <td>1.0</td>\n",
       "      <td>1.0</td>\n",
       "      <td>1.0</td>\n",
       "      <td>1.0</td>\n",
       "      <td>1.0</td>\n",
       "      <td>1.0</td>\n",
       "      <td>1.0</td>\n",
       "      <td>3.000000</td>\n",
       "      <td>2.000000</td>\n",
       "      <td>3.000000</td>\n",
       "    </tr>\n",
       "    <tr>\n",
       "      <td>JobLevel</td>\n",
       "      <td>2.0</td>\n",
       "      <td>2.0</td>\n",
       "      <td>2.0</td>\n",
       "      <td>2.0</td>\n",
       "      <td>2.0</td>\n",
       "      <td>4.0</td>\n",
       "      <td>5.0</td>\n",
       "      <td>2.0</td>\n",
       "      <td>2.0</td>\n",
       "      <td>2.0</td>\n",
       "      <td>...</td>\n",
       "      <td>3.0</td>\n",
       "      <td>3.0</td>\n",
       "      <td>3.0</td>\n",
       "      <td>3.0</td>\n",
       "      <td>3.0</td>\n",
       "      <td>3.0</td>\n",
       "      <td>3.0</td>\n",
       "      <td>2.000000</td>\n",
       "      <td>3.000000</td>\n",
       "      <td>2.000000</td>\n",
       "    </tr>\n",
       "    <tr>\n",
       "      <td>JobSatisfaction</td>\n",
       "      <td>4.0</td>\n",
       "      <td>4.0</td>\n",
       "      <td>4.0</td>\n",
       "      <td>4.0</td>\n",
       "      <td>4.0</td>\n",
       "      <td>3.0</td>\n",
       "      <td>1.0</td>\n",
       "      <td>4.0</td>\n",
       "      <td>4.0</td>\n",
       "      <td>4.0</td>\n",
       "      <td>...</td>\n",
       "      <td>4.0</td>\n",
       "      <td>4.0</td>\n",
       "      <td>4.0</td>\n",
       "      <td>4.0</td>\n",
       "      <td>4.0</td>\n",
       "      <td>4.0</td>\n",
       "      <td>4.0</td>\n",
       "      <td>3.000000</td>\n",
       "      <td>1.000000</td>\n",
       "      <td>4.000000</td>\n",
       "    </tr>\n",
       "    <tr>\n",
       "      <td>MonthlyIncome</td>\n",
       "      <td>5993.0</td>\n",
       "      <td>5993.0</td>\n",
       "      <td>5993.0</td>\n",
       "      <td>5993.0</td>\n",
       "      <td>5993.0</td>\n",
       "      <td>14756.0</td>\n",
       "      <td>19566.0</td>\n",
       "      <td>5993.0</td>\n",
       "      <td>5993.0</td>\n",
       "      <td>5993.0</td>\n",
       "      <td>...</td>\n",
       "      <td>10883.0</td>\n",
       "      <td>10883.0</td>\n",
       "      <td>10883.0</td>\n",
       "      <td>10883.0</td>\n",
       "      <td>10883.0</td>\n",
       "      <td>10883.0</td>\n",
       "      <td>10883.0</td>\n",
       "      <td>5301.000000</td>\n",
       "      <td>11631.000000</td>\n",
       "      <td>4069.000000</td>\n",
       "    </tr>\n",
       "    <tr>\n",
       "      <td>MonthlyRate</td>\n",
       "      <td>19479.0</td>\n",
       "      <td>19479.0</td>\n",
       "      <td>19479.0</td>\n",
       "      <td>19479.0</td>\n",
       "      <td>19479.0</td>\n",
       "      <td>19730.0</td>\n",
       "      <td>3854.0</td>\n",
       "      <td>19479.0</td>\n",
       "      <td>19479.0</td>\n",
       "      <td>19479.0</td>\n",
       "      <td>...</td>\n",
       "      <td>20467.0</td>\n",
       "      <td>20467.0</td>\n",
       "      <td>20467.0</td>\n",
       "      <td>20467.0</td>\n",
       "      <td>20467.0</td>\n",
       "      <td>20467.0</td>\n",
       "      <td>20467.0</td>\n",
       "      <td>2939.000000</td>\n",
       "      <td>5615.000000</td>\n",
       "      <td>8841.000000</td>\n",
       "    </tr>\n",
       "    <tr>\n",
       "      <td>NumCompaniesWorked</td>\n",
       "      <td>8.0</td>\n",
       "      <td>4.0</td>\n",
       "      <td>8.0</td>\n",
       "      <td>4.0</td>\n",
       "      <td>8.0</td>\n",
       "      <td>2.0</td>\n",
       "      <td>5.0</td>\n",
       "      <td>4.0</td>\n",
       "      <td>8.0</td>\n",
       "      <td>4.0</td>\n",
       "      <td>...</td>\n",
       "      <td>0.0</td>\n",
       "      <td>3.0</td>\n",
       "      <td>0.0</td>\n",
       "      <td>3.0</td>\n",
       "      <td>0.0</td>\n",
       "      <td>3.0</td>\n",
       "      <td>0.0</td>\n",
       "      <td>4.000000</td>\n",
       "      <td>2.000000</td>\n",
       "      <td>3.000000</td>\n",
       "    </tr>\n",
       "    <tr>\n",
       "      <td>PercentSalaryHike</td>\n",
       "      <td>11.0</td>\n",
       "      <td>11.0</td>\n",
       "      <td>11.0</td>\n",
       "      <td>11.0</td>\n",
       "      <td>11.0</td>\n",
       "      <td>14.0</td>\n",
       "      <td>11.0</td>\n",
       "      <td>11.0</td>\n",
       "      <td>11.0</td>\n",
       "      <td>11.0</td>\n",
       "      <td>...</td>\n",
       "      <td>20.0</td>\n",
       "      <td>20.0</td>\n",
       "      <td>20.0</td>\n",
       "      <td>20.0</td>\n",
       "      <td>20.0</td>\n",
       "      <td>20.0</td>\n",
       "      <td>20.0</td>\n",
       "      <td>15.000000</td>\n",
       "      <td>12.000000</td>\n",
       "      <td>18.000000</td>\n",
       "    </tr>\n",
       "    <tr>\n",
       "      <td>PerformanceRating</td>\n",
       "      <td>3.0</td>\n",
       "      <td>3.0</td>\n",
       "      <td>3.0</td>\n",
       "      <td>3.0</td>\n",
       "      <td>3.0</td>\n",
       "      <td>3.0</td>\n",
       "      <td>3.0</td>\n",
       "      <td>3.0</td>\n",
       "      <td>3.0</td>\n",
       "      <td>3.0</td>\n",
       "      <td>...</td>\n",
       "      <td>3.0</td>\n",
       "      <td>4.0</td>\n",
       "      <td>4.0</td>\n",
       "      <td>3.0</td>\n",
       "      <td>3.0</td>\n",
       "      <td>4.0</td>\n",
       "      <td>4.0</td>\n",
       "      <td>3.000000</td>\n",
       "      <td>3.000000</td>\n",
       "      <td>3.000000</td>\n",
       "    </tr>\n",
       "    <tr>\n",
       "      <td>RelationshipSatisfaction</td>\n",
       "      <td>1.0</td>\n",
       "      <td>1.0</td>\n",
       "      <td>1.0</td>\n",
       "      <td>1.0</td>\n",
       "      <td>1.0</td>\n",
       "      <td>3.0</td>\n",
       "      <td>4.0</td>\n",
       "      <td>1.0</td>\n",
       "      <td>1.0</td>\n",
       "      <td>1.0</td>\n",
       "      <td>...</td>\n",
       "      <td>3.0</td>\n",
       "      <td>3.0</td>\n",
       "      <td>3.0</td>\n",
       "      <td>3.0</td>\n",
       "      <td>3.0</td>\n",
       "      <td>3.0</td>\n",
       "      <td>3.0</td>\n",
       "      <td>3.000000</td>\n",
       "      <td>4.000000</td>\n",
       "      <td>3.000000</td>\n",
       "    </tr>\n",
       "    <tr>\n",
       "      <td>StockOptionLevel</td>\n",
       "      <td>0.0</td>\n",
       "      <td>0.0</td>\n",
       "      <td>0.0</td>\n",
       "      <td>0.0</td>\n",
       "      <td>0.0</td>\n",
       "      <td>3.0</td>\n",
       "      <td>0.0</td>\n",
       "      <td>0.0</td>\n",
       "      <td>0.0</td>\n",
       "      <td>0.0</td>\n",
       "      <td>...</td>\n",
       "      <td>1.0</td>\n",
       "      <td>1.0</td>\n",
       "      <td>1.0</td>\n",
       "      <td>1.0</td>\n",
       "      <td>1.0</td>\n",
       "      <td>1.0</td>\n",
       "      <td>1.0</td>\n",
       "      <td>2.000000</td>\n",
       "      <td>0.000000</td>\n",
       "      <td>0.000000</td>\n",
       "    </tr>\n",
       "    <tr>\n",
       "      <td>TotalWorkingYears</td>\n",
       "      <td>8.0</td>\n",
       "      <td>8.0</td>\n",
       "      <td>8.0</td>\n",
       "      <td>8.0</td>\n",
       "      <td>8.0</td>\n",
       "      <td>21.0</td>\n",
       "      <td>33.0</td>\n",
       "      <td>8.0</td>\n",
       "      <td>8.0</td>\n",
       "      <td>8.0</td>\n",
       "      <td>...</td>\n",
       "      <td>19.0</td>\n",
       "      <td>20.0</td>\n",
       "      <td>19.0</td>\n",
       "      <td>19.0</td>\n",
       "      <td>19.0</td>\n",
       "      <td>20.0</td>\n",
       "      <td>19.0</td>\n",
       "      <td>4.000000</td>\n",
       "      <td>14.000000</td>\n",
       "      <td>8.000000</td>\n",
       "    </tr>\n",
       "    <tr>\n",
       "      <td>TrainingTimesLastYear</td>\n",
       "      <td>0.0</td>\n",
       "      <td>0.0</td>\n",
       "      <td>0.0</td>\n",
       "      <td>0.0</td>\n",
       "      <td>0.0</td>\n",
       "      <td>2.0</td>\n",
       "      <td>5.0</td>\n",
       "      <td>0.0</td>\n",
       "      <td>0.0</td>\n",
       "      <td>0.0</td>\n",
       "      <td>...</td>\n",
       "      <td>2.0</td>\n",
       "      <td>2.0</td>\n",
       "      <td>2.0</td>\n",
       "      <td>2.0</td>\n",
       "      <td>2.0</td>\n",
       "      <td>2.0</td>\n",
       "      <td>2.0</td>\n",
       "      <td>2.000000</td>\n",
       "      <td>6.000000</td>\n",
       "      <td>2.000000</td>\n",
       "    </tr>\n",
       "    <tr>\n",
       "      <td>WorkLifeBalance</td>\n",
       "      <td>1.0</td>\n",
       "      <td>1.0</td>\n",
       "      <td>1.0</td>\n",
       "      <td>1.0</td>\n",
       "      <td>1.0</td>\n",
       "      <td>3.0</td>\n",
       "      <td>1.0</td>\n",
       "      <td>1.0</td>\n",
       "      <td>1.0</td>\n",
       "      <td>1.0</td>\n",
       "      <td>...</td>\n",
       "      <td>4.0</td>\n",
       "      <td>3.0</td>\n",
       "      <td>4.0</td>\n",
       "      <td>4.0</td>\n",
       "      <td>4.0</td>\n",
       "      <td>3.0</td>\n",
       "      <td>4.0</td>\n",
       "      <td>2.000000</td>\n",
       "      <td>3.000000</td>\n",
       "      <td>3.000000</td>\n",
       "    </tr>\n",
       "    <tr>\n",
       "      <td>YearsAtCompany</td>\n",
       "      <td>6.0</td>\n",
       "      <td>6.0</td>\n",
       "      <td>6.0</td>\n",
       "      <td>6.0</td>\n",
       "      <td>6.0</td>\n",
       "      <td>5.0</td>\n",
       "      <td>29.0</td>\n",
       "      <td>6.0</td>\n",
       "      <td>6.0</td>\n",
       "      <td>6.0</td>\n",
       "      <td>...</td>\n",
       "      <td>1.0</td>\n",
       "      <td>20.0</td>\n",
       "      <td>1.0</td>\n",
       "      <td>1.0</td>\n",
       "      <td>1.0</td>\n",
       "      <td>20.0</td>\n",
       "      <td>1.0</td>\n",
       "      <td>2.000000</td>\n",
       "      <td>11.000000</td>\n",
       "      <td>2.000000</td>\n",
       "    </tr>\n",
       "    <tr>\n",
       "      <td>YearsInCurrentRole</td>\n",
       "      <td>4.0</td>\n",
       "      <td>4.0</td>\n",
       "      <td>4.0</td>\n",
       "      <td>4.0</td>\n",
       "      <td>4.0</td>\n",
       "      <td>0.0</td>\n",
       "      <td>8.0</td>\n",
       "      <td>4.0</td>\n",
       "      <td>4.0</td>\n",
       "      <td>4.0</td>\n",
       "      <td>...</td>\n",
       "      <td>0.0</td>\n",
       "      <td>7.0</td>\n",
       "      <td>0.0</td>\n",
       "      <td>0.0</td>\n",
       "      <td>0.0</td>\n",
       "      <td>7.0</td>\n",
       "      <td>0.0</td>\n",
       "      <td>1.000000</td>\n",
       "      <td>10.000000</td>\n",
       "      <td>2.000000</td>\n",
       "    </tr>\n",
       "    <tr>\n",
       "      <td>YearsSinceLastPromotion</td>\n",
       "      <td>0.0</td>\n",
       "      <td>0.0</td>\n",
       "      <td>0.0</td>\n",
       "      <td>0.0</td>\n",
       "      <td>0.0</td>\n",
       "      <td>0.0</td>\n",
       "      <td>11.0</td>\n",
       "      <td>0.0</td>\n",
       "      <td>0.0</td>\n",
       "      <td>0.0</td>\n",
       "      <td>...</td>\n",
       "      <td>0.0</td>\n",
       "      <td>2.0</td>\n",
       "      <td>0.0</td>\n",
       "      <td>0.0</td>\n",
       "      <td>0.0</td>\n",
       "      <td>2.0</td>\n",
       "      <td>0.0</td>\n",
       "      <td>2.000000</td>\n",
       "      <td>5.000000</td>\n",
       "      <td>2.000000</td>\n",
       "    </tr>\n",
       "    <tr>\n",
       "      <td>YearsWithCurrManager</td>\n",
       "      <td>5.0</td>\n",
       "      <td>5.0</td>\n",
       "      <td>5.0</td>\n",
       "      <td>5.0</td>\n",
       "      <td>5.0</td>\n",
       "      <td>2.0</td>\n",
       "      <td>10.0</td>\n",
       "      <td>5.0</td>\n",
       "      <td>5.0</td>\n",
       "      <td>5.0</td>\n",
       "      <td>...</td>\n",
       "      <td>0.0</td>\n",
       "      <td>13.0</td>\n",
       "      <td>0.0</td>\n",
       "      <td>0.0</td>\n",
       "      <td>0.0</td>\n",
       "      <td>13.0</td>\n",
       "      <td>0.0</td>\n",
       "      <td>2.000000</td>\n",
       "      <td>8.000000</td>\n",
       "      <td>2.000000</td>\n",
       "    </tr>\n",
       "    <tr>\n",
       "      <td>Gender</td>\n",
       "      <td>1.0</td>\n",
       "      <td>1.0</td>\n",
       "      <td>1.0</td>\n",
       "      <td>1.0</td>\n",
       "      <td>1.0</td>\n",
       "      <td>1.0</td>\n",
       "      <td>1.0</td>\n",
       "      <td>1.0</td>\n",
       "      <td>1.0</td>\n",
       "      <td>1.0</td>\n",
       "      <td>...</td>\n",
       "      <td>0.0</td>\n",
       "      <td>0.0</td>\n",
       "      <td>0.0</td>\n",
       "      <td>0.0</td>\n",
       "      <td>0.0</td>\n",
       "      <td>0.0</td>\n",
       "      <td>0.0</td>\n",
       "      <td>0.000000</td>\n",
       "      <td>1.000000</td>\n",
       "      <td>0.000000</td>\n",
       "    </tr>\n",
       "    <tr>\n",
       "      <td>BusinessTravel_Travel_Frequently</td>\n",
       "      <td>0.0</td>\n",
       "      <td>0.0</td>\n",
       "      <td>0.0</td>\n",
       "      <td>0.0</td>\n",
       "      <td>0.0</td>\n",
       "      <td>0.0</td>\n",
       "      <td>0.0</td>\n",
       "      <td>0.0</td>\n",
       "      <td>0.0</td>\n",
       "      <td>0.0</td>\n",
       "      <td>...</td>\n",
       "      <td>0.0</td>\n",
       "      <td>0.0</td>\n",
       "      <td>0.0</td>\n",
       "      <td>0.0</td>\n",
       "      <td>0.0</td>\n",
       "      <td>0.0</td>\n",
       "      <td>0.0</td>\n",
       "      <td>1.000000</td>\n",
       "      <td>0.000000</td>\n",
       "      <td>0.000000</td>\n",
       "    </tr>\n",
       "    <tr>\n",
       "      <td>BusinessTravel_Travel_Rarely</td>\n",
       "      <td>1.0</td>\n",
       "      <td>1.0</td>\n",
       "      <td>1.0</td>\n",
       "      <td>1.0</td>\n",
       "      <td>1.0</td>\n",
       "      <td>1.0</td>\n",
       "      <td>1.0</td>\n",
       "      <td>1.0</td>\n",
       "      <td>1.0</td>\n",
       "      <td>1.0</td>\n",
       "      <td>...</td>\n",
       "      <td>1.0</td>\n",
       "      <td>1.0</td>\n",
       "      <td>1.0</td>\n",
       "      <td>1.0</td>\n",
       "      <td>1.0</td>\n",
       "      <td>1.0</td>\n",
       "      <td>1.0</td>\n",
       "      <td>0.000000</td>\n",
       "      <td>1.000000</td>\n",
       "      <td>0.000000</td>\n",
       "    </tr>\n",
       "    <tr>\n",
       "      <td>Education_Below college</td>\n",
       "      <td>0.0</td>\n",
       "      <td>0.0</td>\n",
       "      <td>0.0</td>\n",
       "      <td>0.0</td>\n",
       "      <td>0.0</td>\n",
       "      <td>0.0</td>\n",
       "      <td>0.0</td>\n",
       "      <td>0.0</td>\n",
       "      <td>0.0</td>\n",
       "      <td>0.0</td>\n",
       "      <td>...</td>\n",
       "      <td>0.0</td>\n",
       "      <td>0.0</td>\n",
       "      <td>0.0</td>\n",
       "      <td>0.0</td>\n",
       "      <td>0.0</td>\n",
       "      <td>0.0</td>\n",
       "      <td>0.0</td>\n",
       "      <td>0.000000</td>\n",
       "      <td>0.000000</td>\n",
       "      <td>0.000000</td>\n",
       "    </tr>\n",
       "    <tr>\n",
       "      <td>Education_College</td>\n",
       "      <td>1.0</td>\n",
       "      <td>1.0</td>\n",
       "      <td>1.0</td>\n",
       "      <td>1.0</td>\n",
       "      <td>1.0</td>\n",
       "      <td>1.0</td>\n",
       "      <td>1.0</td>\n",
       "      <td>1.0</td>\n",
       "      <td>1.0</td>\n",
       "      <td>1.0</td>\n",
       "      <td>...</td>\n",
       "      <td>0.0</td>\n",
       "      <td>0.0</td>\n",
       "      <td>0.0</td>\n",
       "      <td>0.0</td>\n",
       "      <td>0.0</td>\n",
       "      <td>0.0</td>\n",
       "      <td>0.0</td>\n",
       "      <td>0.000000</td>\n",
       "      <td>0.000000</td>\n",
       "      <td>1.000000</td>\n",
       "    </tr>\n",
       "    <tr>\n",
       "      <td>Education_Doctorate</td>\n",
       "      <td>0.0</td>\n",
       "      <td>0.0</td>\n",
       "      <td>0.0</td>\n",
       "      <td>0.0</td>\n",
       "      <td>0.0</td>\n",
       "      <td>0.0</td>\n",
       "      <td>0.0</td>\n",
       "      <td>0.0</td>\n",
       "      <td>0.0</td>\n",
       "      <td>0.0</td>\n",
       "      <td>...</td>\n",
       "      <td>0.0</td>\n",
       "      <td>0.0</td>\n",
       "      <td>0.0</td>\n",
       "      <td>0.0</td>\n",
       "      <td>0.0</td>\n",
       "      <td>0.0</td>\n",
       "      <td>0.0</td>\n",
       "      <td>0.000000</td>\n",
       "      <td>0.000000</td>\n",
       "      <td>0.000000</td>\n",
       "    </tr>\n",
       "    <tr>\n",
       "      <td>Education_Master</td>\n",
       "      <td>0.0</td>\n",
       "      <td>0.0</td>\n",
       "      <td>0.0</td>\n",
       "      <td>0.0</td>\n",
       "      <td>0.0</td>\n",
       "      <td>0.0</td>\n",
       "      <td>0.0</td>\n",
       "      <td>0.0</td>\n",
       "      <td>0.0</td>\n",
       "      <td>0.0</td>\n",
       "      <td>...</td>\n",
       "      <td>1.0</td>\n",
       "      <td>1.0</td>\n",
       "      <td>1.0</td>\n",
       "      <td>1.0</td>\n",
       "      <td>1.0</td>\n",
       "      <td>1.0</td>\n",
       "      <td>1.0</td>\n",
       "      <td>0.000000</td>\n",
       "      <td>0.000000</td>\n",
       "      <td>0.000000</td>\n",
       "    </tr>\n",
       "    <tr>\n",
       "      <td>Department_Research &amp; Development</td>\n",
       "      <td>0.0</td>\n",
       "      <td>0.0</td>\n",
       "      <td>0.0</td>\n",
       "      <td>0.0</td>\n",
       "      <td>0.0</td>\n",
       "      <td>0.0</td>\n",
       "      <td>0.0</td>\n",
       "      <td>0.0</td>\n",
       "      <td>0.0</td>\n",
       "      <td>0.0</td>\n",
       "      <td>...</td>\n",
       "      <td>1.0</td>\n",
       "      <td>1.0</td>\n",
       "      <td>1.0</td>\n",
       "      <td>1.0</td>\n",
       "      <td>1.0</td>\n",
       "      <td>1.0</td>\n",
       "      <td>1.0</td>\n",
       "      <td>1.000000</td>\n",
       "      <td>1.000000</td>\n",
       "      <td>1.000000</td>\n",
       "    </tr>\n",
       "    <tr>\n",
       "      <td>Department_Sales</td>\n",
       "      <td>1.0</td>\n",
       "      <td>1.0</td>\n",
       "      <td>1.0</td>\n",
       "      <td>1.0</td>\n",
       "      <td>1.0</td>\n",
       "      <td>1.0</td>\n",
       "      <td>1.0</td>\n",
       "      <td>1.0</td>\n",
       "      <td>1.0</td>\n",
       "      <td>1.0</td>\n",
       "      <td>...</td>\n",
       "      <td>0.0</td>\n",
       "      <td>0.0</td>\n",
       "      <td>0.0</td>\n",
       "      <td>0.0</td>\n",
       "      <td>0.0</td>\n",
       "      <td>0.0</td>\n",
       "      <td>0.0</td>\n",
       "      <td>0.000000</td>\n",
       "      <td>0.000000</td>\n",
       "      <td>0.000000</td>\n",
       "    </tr>\n",
       "    <tr>\n",
       "      <td>EducationField_Life Sciences</td>\n",
       "      <td>1.0</td>\n",
       "      <td>1.0</td>\n",
       "      <td>1.0</td>\n",
       "      <td>1.0</td>\n",
       "      <td>1.0</td>\n",
       "      <td>1.0</td>\n",
       "      <td>1.0</td>\n",
       "      <td>1.0</td>\n",
       "      <td>1.0</td>\n",
       "      <td>1.0</td>\n",
       "      <td>...</td>\n",
       "      <td>1.0</td>\n",
       "      <td>0.0</td>\n",
       "      <td>1.0</td>\n",
       "      <td>0.0</td>\n",
       "      <td>1.0</td>\n",
       "      <td>0.0</td>\n",
       "      <td>1.0</td>\n",
       "      <td>1.000000</td>\n",
       "      <td>0.000000</td>\n",
       "      <td>1.000000</td>\n",
       "    </tr>\n",
       "    <tr>\n",
       "      <td>EducationField_Marketing</td>\n",
       "      <td>0.0</td>\n",
       "      <td>0.0</td>\n",
       "      <td>0.0</td>\n",
       "      <td>0.0</td>\n",
       "      <td>0.0</td>\n",
       "      <td>0.0</td>\n",
       "      <td>0.0</td>\n",
       "      <td>0.0</td>\n",
       "      <td>0.0</td>\n",
       "      <td>0.0</td>\n",
       "      <td>...</td>\n",
       "      <td>0.0</td>\n",
       "      <td>0.0</td>\n",
       "      <td>0.0</td>\n",
       "      <td>0.0</td>\n",
       "      <td>0.0</td>\n",
       "      <td>0.0</td>\n",
       "      <td>0.0</td>\n",
       "      <td>0.000000</td>\n",
       "      <td>0.000000</td>\n",
       "      <td>0.000000</td>\n",
       "    </tr>\n",
       "    <tr>\n",
       "      <td>EducationField_Medical</td>\n",
       "      <td>0.0</td>\n",
       "      <td>0.0</td>\n",
       "      <td>0.0</td>\n",
       "      <td>0.0</td>\n",
       "      <td>0.0</td>\n",
       "      <td>0.0</td>\n",
       "      <td>0.0</td>\n",
       "      <td>0.0</td>\n",
       "      <td>0.0</td>\n",
       "      <td>0.0</td>\n",
       "      <td>...</td>\n",
       "      <td>0.0</td>\n",
       "      <td>1.0</td>\n",
       "      <td>0.0</td>\n",
       "      <td>1.0</td>\n",
       "      <td>0.0</td>\n",
       "      <td>1.0</td>\n",
       "      <td>0.0</td>\n",
       "      <td>0.000000</td>\n",
       "      <td>1.000000</td>\n",
       "      <td>0.000000</td>\n",
       "    </tr>\n",
       "    <tr>\n",
       "      <td>EducationField_Other</td>\n",
       "      <td>0.0</td>\n",
       "      <td>0.0</td>\n",
       "      <td>0.0</td>\n",
       "      <td>0.0</td>\n",
       "      <td>0.0</td>\n",
       "      <td>0.0</td>\n",
       "      <td>0.0</td>\n",
       "      <td>0.0</td>\n",
       "      <td>0.0</td>\n",
       "      <td>0.0</td>\n",
       "      <td>...</td>\n",
       "      <td>0.0</td>\n",
       "      <td>0.0</td>\n",
       "      <td>0.0</td>\n",
       "      <td>0.0</td>\n",
       "      <td>0.0</td>\n",
       "      <td>0.0</td>\n",
       "      <td>0.0</td>\n",
       "      <td>0.000000</td>\n",
       "      <td>0.000000</td>\n",
       "      <td>0.000000</td>\n",
       "    </tr>\n",
       "    <tr>\n",
       "      <td>EducationField_Technical Degree</td>\n",
       "      <td>0.0</td>\n",
       "      <td>0.0</td>\n",
       "      <td>0.0</td>\n",
       "      <td>0.0</td>\n",
       "      <td>0.0</td>\n",
       "      <td>0.0</td>\n",
       "      <td>0.0</td>\n",
       "      <td>0.0</td>\n",
       "      <td>0.0</td>\n",
       "      <td>0.0</td>\n",
       "      <td>...</td>\n",
       "      <td>0.0</td>\n",
       "      <td>0.0</td>\n",
       "      <td>0.0</td>\n",
       "      <td>0.0</td>\n",
       "      <td>0.0</td>\n",
       "      <td>0.0</td>\n",
       "      <td>0.0</td>\n",
       "      <td>0.000000</td>\n",
       "      <td>0.000000</td>\n",
       "      <td>0.000000</td>\n",
       "    </tr>\n",
       "    <tr>\n",
       "      <td>EducationField_Test</td>\n",
       "      <td>0.0</td>\n",
       "      <td>0.0</td>\n",
       "      <td>0.0</td>\n",
       "      <td>0.0</td>\n",
       "      <td>0.0</td>\n",
       "      <td>0.0</td>\n",
       "      <td>0.0</td>\n",
       "      <td>0.0</td>\n",
       "      <td>0.0</td>\n",
       "      <td>0.0</td>\n",
       "      <td>...</td>\n",
       "      <td>0.0</td>\n",
       "      <td>0.0</td>\n",
       "      <td>0.0</td>\n",
       "      <td>0.0</td>\n",
       "      <td>0.0</td>\n",
       "      <td>0.0</td>\n",
       "      <td>0.0</td>\n",
       "      <td>0.000000</td>\n",
       "      <td>0.000000</td>\n",
       "      <td>0.000000</td>\n",
       "    </tr>\n",
       "    <tr>\n",
       "      <td>JobRole_Human Resources</td>\n",
       "      <td>0.0</td>\n",
       "      <td>0.0</td>\n",
       "      <td>0.0</td>\n",
       "      <td>0.0</td>\n",
       "      <td>0.0</td>\n",
       "      <td>0.0</td>\n",
       "      <td>0.0</td>\n",
       "      <td>0.0</td>\n",
       "      <td>0.0</td>\n",
       "      <td>0.0</td>\n",
       "      <td>...</td>\n",
       "      <td>0.0</td>\n",
       "      <td>0.0</td>\n",
       "      <td>0.0</td>\n",
       "      <td>0.0</td>\n",
       "      <td>0.0</td>\n",
       "      <td>0.0</td>\n",
       "      <td>0.0</td>\n",
       "      <td>0.000000</td>\n",
       "      <td>0.000000</td>\n",
       "      <td>0.000000</td>\n",
       "    </tr>\n",
       "    <tr>\n",
       "      <td>JobRole_Laboratory Technician</td>\n",
       "      <td>0.0</td>\n",
       "      <td>0.0</td>\n",
       "      <td>0.0</td>\n",
       "      <td>0.0</td>\n",
       "      <td>0.0</td>\n",
       "      <td>0.0</td>\n",
       "      <td>0.0</td>\n",
       "      <td>0.0</td>\n",
       "      <td>0.0</td>\n",
       "      <td>0.0</td>\n",
       "      <td>...</td>\n",
       "      <td>0.0</td>\n",
       "      <td>0.0</td>\n",
       "      <td>0.0</td>\n",
       "      <td>0.0</td>\n",
       "      <td>0.0</td>\n",
       "      <td>0.0</td>\n",
       "      <td>0.0</td>\n",
       "      <td>0.000000</td>\n",
       "      <td>0.000000</td>\n",
       "      <td>0.000000</td>\n",
       "    </tr>\n",
       "    <tr>\n",
       "      <td>JobRole_Manager</td>\n",
       "      <td>0.0</td>\n",
       "      <td>0.0</td>\n",
       "      <td>0.0</td>\n",
       "      <td>0.0</td>\n",
       "      <td>0.0</td>\n",
       "      <td>1.0</td>\n",
       "      <td>1.0</td>\n",
       "      <td>0.0</td>\n",
       "      <td>0.0</td>\n",
       "      <td>0.0</td>\n",
       "      <td>...</td>\n",
       "      <td>0.0</td>\n",
       "      <td>0.0</td>\n",
       "      <td>0.0</td>\n",
       "      <td>0.0</td>\n",
       "      <td>0.0</td>\n",
       "      <td>0.0</td>\n",
       "      <td>0.0</td>\n",
       "      <td>0.000000</td>\n",
       "      <td>1.000000</td>\n",
       "      <td>0.000000</td>\n",
       "    </tr>\n",
       "    <tr>\n",
       "      <td>JobRole_Manufacturing Director</td>\n",
       "      <td>0.0</td>\n",
       "      <td>0.0</td>\n",
       "      <td>0.0</td>\n",
       "      <td>0.0</td>\n",
       "      <td>0.0</td>\n",
       "      <td>0.0</td>\n",
       "      <td>0.0</td>\n",
       "      <td>0.0</td>\n",
       "      <td>0.0</td>\n",
       "      <td>0.0</td>\n",
       "      <td>...</td>\n",
       "      <td>0.0</td>\n",
       "      <td>0.0</td>\n",
       "      <td>0.0</td>\n",
       "      <td>0.0</td>\n",
       "      <td>0.0</td>\n",
       "      <td>0.0</td>\n",
       "      <td>0.0</td>\n",
       "      <td>0.000000</td>\n",
       "      <td>0.000000</td>\n",
       "      <td>0.000000</td>\n",
       "    </tr>\n",
       "    <tr>\n",
       "      <td>JobRole_Research Director</td>\n",
       "      <td>0.0</td>\n",
       "      <td>0.0</td>\n",
       "      <td>0.0</td>\n",
       "      <td>0.0</td>\n",
       "      <td>0.0</td>\n",
       "      <td>0.0</td>\n",
       "      <td>0.0</td>\n",
       "      <td>0.0</td>\n",
       "      <td>0.0</td>\n",
       "      <td>0.0</td>\n",
       "      <td>...</td>\n",
       "      <td>0.0</td>\n",
       "      <td>0.0</td>\n",
       "      <td>0.0</td>\n",
       "      <td>0.0</td>\n",
       "      <td>0.0</td>\n",
       "      <td>0.0</td>\n",
       "      <td>0.0</td>\n",
       "      <td>0.000000</td>\n",
       "      <td>0.000000</td>\n",
       "      <td>0.000000</td>\n",
       "    </tr>\n",
       "    <tr>\n",
       "      <td>JobRole_Research Scientist</td>\n",
       "      <td>0.0</td>\n",
       "      <td>0.0</td>\n",
       "      <td>0.0</td>\n",
       "      <td>0.0</td>\n",
       "      <td>0.0</td>\n",
       "      <td>0.0</td>\n",
       "      <td>0.0</td>\n",
       "      <td>0.0</td>\n",
       "      <td>0.0</td>\n",
       "      <td>0.0</td>\n",
       "      <td>...</td>\n",
       "      <td>0.0</td>\n",
       "      <td>0.0</td>\n",
       "      <td>0.0</td>\n",
       "      <td>0.0</td>\n",
       "      <td>0.0</td>\n",
       "      <td>0.0</td>\n",
       "      <td>0.0</td>\n",
       "      <td>0.000000</td>\n",
       "      <td>0.000000</td>\n",
       "      <td>0.000000</td>\n",
       "    </tr>\n",
       "    <tr>\n",
       "      <td>JobRole_Sales Executive</td>\n",
       "      <td>1.0</td>\n",
       "      <td>1.0</td>\n",
       "      <td>1.0</td>\n",
       "      <td>1.0</td>\n",
       "      <td>1.0</td>\n",
       "      <td>0.0</td>\n",
       "      <td>0.0</td>\n",
       "      <td>1.0</td>\n",
       "      <td>1.0</td>\n",
       "      <td>1.0</td>\n",
       "      <td>...</td>\n",
       "      <td>0.0</td>\n",
       "      <td>0.0</td>\n",
       "      <td>0.0</td>\n",
       "      <td>0.0</td>\n",
       "      <td>0.0</td>\n",
       "      <td>0.0</td>\n",
       "      <td>0.0</td>\n",
       "      <td>1.000000</td>\n",
       "      <td>0.000000</td>\n",
       "      <td>0.000000</td>\n",
       "    </tr>\n",
       "    <tr>\n",
       "      <td>JobRole_Sales Representative</td>\n",
       "      <td>0.0</td>\n",
       "      <td>0.0</td>\n",
       "      <td>0.0</td>\n",
       "      <td>0.0</td>\n",
       "      <td>0.0</td>\n",
       "      <td>0.0</td>\n",
       "      <td>0.0</td>\n",
       "      <td>0.0</td>\n",
       "      <td>0.0</td>\n",
       "      <td>0.0</td>\n",
       "      <td>...</td>\n",
       "      <td>0.0</td>\n",
       "      <td>0.0</td>\n",
       "      <td>0.0</td>\n",
       "      <td>0.0</td>\n",
       "      <td>0.0</td>\n",
       "      <td>0.0</td>\n",
       "      <td>0.0</td>\n",
       "      <td>0.000000</td>\n",
       "      <td>0.000000</td>\n",
       "      <td>0.000000</td>\n",
       "    </tr>\n",
       "    <tr>\n",
       "      <td>MaritalStatus_Married</td>\n",
       "      <td>0.0</td>\n",
       "      <td>0.0</td>\n",
       "      <td>0.0</td>\n",
       "      <td>0.0</td>\n",
       "      <td>0.0</td>\n",
       "      <td>0.0</td>\n",
       "      <td>1.0</td>\n",
       "      <td>0.0</td>\n",
       "      <td>0.0</td>\n",
       "      <td>0.0</td>\n",
       "      <td>...</td>\n",
       "      <td>0.0</td>\n",
       "      <td>0.0</td>\n",
       "      <td>0.0</td>\n",
       "      <td>0.0</td>\n",
       "      <td>0.0</td>\n",
       "      <td>0.0</td>\n",
       "      <td>0.0</td>\n",
       "      <td>1.000000</td>\n",
       "      <td>0.000000</td>\n",
       "      <td>0.000000</td>\n",
       "    </tr>\n",
       "    <tr>\n",
       "      <td>MaritalStatus_Single</td>\n",
       "      <td>1.0</td>\n",
       "      <td>1.0</td>\n",
       "      <td>1.0</td>\n",
       "      <td>1.0</td>\n",
       "      <td>1.0</td>\n",
       "      <td>0.0</td>\n",
       "      <td>0.0</td>\n",
       "      <td>1.0</td>\n",
       "      <td>1.0</td>\n",
       "      <td>1.0</td>\n",
       "      <td>...</td>\n",
       "      <td>0.0</td>\n",
       "      <td>1.0</td>\n",
       "      <td>0.0</td>\n",
       "      <td>0.0</td>\n",
       "      <td>0.0</td>\n",
       "      <td>1.0</td>\n",
       "      <td>0.0</td>\n",
       "      <td>0.000000</td>\n",
       "      <td>1.000000</td>\n",
       "      <td>0.000000</td>\n",
       "    </tr>\n",
       "    <tr>\n",
       "      <td>OverTime_Yes</td>\n",
       "      <td>1.0</td>\n",
       "      <td>1.0</td>\n",
       "      <td>1.0</td>\n",
       "      <td>1.0</td>\n",
       "      <td>1.0</td>\n",
       "      <td>1.0</td>\n",
       "      <td>0.0</td>\n",
       "      <td>1.0</td>\n",
       "      <td>1.0</td>\n",
       "      <td>1.0</td>\n",
       "      <td>...</td>\n",
       "      <td>0.0</td>\n",
       "      <td>0.0</td>\n",
       "      <td>0.0</td>\n",
       "      <td>0.0</td>\n",
       "      <td>0.0</td>\n",
       "      <td>0.0</td>\n",
       "      <td>0.0</td>\n",
       "      <td>0.000000</td>\n",
       "      <td>0.000000</td>\n",
       "      <td>1.000000</td>\n",
       "    </tr>\n",
       "    <tr>\n",
       "      <td>Employee Source_Company Website</td>\n",
       "      <td>0.0</td>\n",
       "      <td>0.0</td>\n",
       "      <td>0.0</td>\n",
       "      <td>0.0</td>\n",
       "      <td>0.0</td>\n",
       "      <td>1.0</td>\n",
       "      <td>0.0</td>\n",
       "      <td>0.0</td>\n",
       "      <td>0.0</td>\n",
       "      <td>0.0</td>\n",
       "      <td>...</td>\n",
       "      <td>1.0</td>\n",
       "      <td>1.0</td>\n",
       "      <td>1.0</td>\n",
       "      <td>1.0</td>\n",
       "      <td>1.0</td>\n",
       "      <td>1.0</td>\n",
       "      <td>1.0</td>\n",
       "      <td>0.000000</td>\n",
       "      <td>0.000000</td>\n",
       "      <td>0.000000</td>\n",
       "    </tr>\n",
       "    <tr>\n",
       "      <td>Employee Source_GlassDoor</td>\n",
       "      <td>0.0</td>\n",
       "      <td>0.0</td>\n",
       "      <td>0.0</td>\n",
       "      <td>0.0</td>\n",
       "      <td>0.0</td>\n",
       "      <td>0.0</td>\n",
       "      <td>0.0</td>\n",
       "      <td>0.0</td>\n",
       "      <td>0.0</td>\n",
       "      <td>0.0</td>\n",
       "      <td>...</td>\n",
       "      <td>0.0</td>\n",
       "      <td>0.0</td>\n",
       "      <td>0.0</td>\n",
       "      <td>0.0</td>\n",
       "      <td>0.0</td>\n",
       "      <td>0.0</td>\n",
       "      <td>0.0</td>\n",
       "      <td>0.000000</td>\n",
       "      <td>0.000000</td>\n",
       "      <td>0.000000</td>\n",
       "    </tr>\n",
       "    <tr>\n",
       "      <td>Employee Source_Indeed</td>\n",
       "      <td>0.0</td>\n",
       "      <td>0.0</td>\n",
       "      <td>0.0</td>\n",
       "      <td>0.0</td>\n",
       "      <td>0.0</td>\n",
       "      <td>0.0</td>\n",
       "      <td>1.0</td>\n",
       "      <td>0.0</td>\n",
       "      <td>0.0</td>\n",
       "      <td>0.0</td>\n",
       "      <td>...</td>\n",
       "      <td>0.0</td>\n",
       "      <td>0.0</td>\n",
       "      <td>0.0</td>\n",
       "      <td>0.0</td>\n",
       "      <td>0.0</td>\n",
       "      <td>0.0</td>\n",
       "      <td>0.0</td>\n",
       "      <td>0.000000</td>\n",
       "      <td>1.000000</td>\n",
       "      <td>0.000000</td>\n",
       "    </tr>\n",
       "    <tr>\n",
       "      <td>Employee Source_Jora</td>\n",
       "      <td>0.0</td>\n",
       "      <td>0.0</td>\n",
       "      <td>0.0</td>\n",
       "      <td>0.0</td>\n",
       "      <td>0.0</td>\n",
       "      <td>0.0</td>\n",
       "      <td>0.0</td>\n",
       "      <td>0.0</td>\n",
       "      <td>0.0</td>\n",
       "      <td>0.0</td>\n",
       "      <td>...</td>\n",
       "      <td>0.0</td>\n",
       "      <td>0.0</td>\n",
       "      <td>0.0</td>\n",
       "      <td>0.0</td>\n",
       "      <td>0.0</td>\n",
       "      <td>0.0</td>\n",
       "      <td>0.0</td>\n",
       "      <td>0.000000</td>\n",
       "      <td>0.000000</td>\n",
       "      <td>0.000000</td>\n",
       "    </tr>\n",
       "    <tr>\n",
       "      <td>Employee Source_LinkedIn</td>\n",
       "      <td>0.0</td>\n",
       "      <td>0.0</td>\n",
       "      <td>0.0</td>\n",
       "      <td>0.0</td>\n",
       "      <td>0.0</td>\n",
       "      <td>0.0</td>\n",
       "      <td>0.0</td>\n",
       "      <td>0.0</td>\n",
       "      <td>0.0</td>\n",
       "      <td>0.0</td>\n",
       "      <td>...</td>\n",
       "      <td>0.0</td>\n",
       "      <td>0.0</td>\n",
       "      <td>0.0</td>\n",
       "      <td>0.0</td>\n",
       "      <td>0.0</td>\n",
       "      <td>0.0</td>\n",
       "      <td>0.0</td>\n",
       "      <td>0.000000</td>\n",
       "      <td>0.000000</td>\n",
       "      <td>0.000000</td>\n",
       "    </tr>\n",
       "    <tr>\n",
       "      <td>Employee Source_Recruit.net</td>\n",
       "      <td>0.0</td>\n",
       "      <td>0.0</td>\n",
       "      <td>0.0</td>\n",
       "      <td>0.0</td>\n",
       "      <td>0.0</td>\n",
       "      <td>0.0</td>\n",
       "      <td>0.0</td>\n",
       "      <td>0.0</td>\n",
       "      <td>0.0</td>\n",
       "      <td>0.0</td>\n",
       "      <td>...</td>\n",
       "      <td>0.0</td>\n",
       "      <td>0.0</td>\n",
       "      <td>0.0</td>\n",
       "      <td>0.0</td>\n",
       "      <td>0.0</td>\n",
       "      <td>0.0</td>\n",
       "      <td>0.0</td>\n",
       "      <td>0.000000</td>\n",
       "      <td>0.000000</td>\n",
       "      <td>1.000000</td>\n",
       "    </tr>\n",
       "    <tr>\n",
       "      <td>Employee Source_Referral</td>\n",
       "      <td>1.0</td>\n",
       "      <td>1.0</td>\n",
       "      <td>1.0</td>\n",
       "      <td>1.0</td>\n",
       "      <td>1.0</td>\n",
       "      <td>0.0</td>\n",
       "      <td>0.0</td>\n",
       "      <td>1.0</td>\n",
       "      <td>1.0</td>\n",
       "      <td>1.0</td>\n",
       "      <td>...</td>\n",
       "      <td>0.0</td>\n",
       "      <td>0.0</td>\n",
       "      <td>0.0</td>\n",
       "      <td>0.0</td>\n",
       "      <td>0.0</td>\n",
       "      <td>0.0</td>\n",
       "      <td>0.0</td>\n",
       "      <td>0.000000</td>\n",
       "      <td>0.000000</td>\n",
       "      <td>0.000000</td>\n",
       "    </tr>\n",
       "    <tr>\n",
       "      <td>Employee Source_Seek</td>\n",
       "      <td>0.0</td>\n",
       "      <td>0.0</td>\n",
       "      <td>0.0</td>\n",
       "      <td>0.0</td>\n",
       "      <td>0.0</td>\n",
       "      <td>0.0</td>\n",
       "      <td>0.0</td>\n",
       "      <td>0.0</td>\n",
       "      <td>0.0</td>\n",
       "      <td>0.0</td>\n",
       "      <td>...</td>\n",
       "      <td>0.0</td>\n",
       "      <td>0.0</td>\n",
       "      <td>0.0</td>\n",
       "      <td>0.0</td>\n",
       "      <td>0.0</td>\n",
       "      <td>0.0</td>\n",
       "      <td>0.0</td>\n",
       "      <td>0.000000</td>\n",
       "      <td>0.000000</td>\n",
       "      <td>0.000000</td>\n",
       "    </tr>\n",
       "    <tr>\n",
       "      <td>Employee Source_Test</td>\n",
       "      <td>0.0</td>\n",
       "      <td>0.0</td>\n",
       "      <td>0.0</td>\n",
       "      <td>0.0</td>\n",
       "      <td>0.0</td>\n",
       "      <td>0.0</td>\n",
       "      <td>0.0</td>\n",
       "      <td>0.0</td>\n",
       "      <td>0.0</td>\n",
       "      <td>0.0</td>\n",
       "      <td>...</td>\n",
       "      <td>0.0</td>\n",
       "      <td>0.0</td>\n",
       "      <td>0.0</td>\n",
       "      <td>0.0</td>\n",
       "      <td>0.0</td>\n",
       "      <td>0.0</td>\n",
       "      <td>0.0</td>\n",
       "      <td>0.000000</td>\n",
       "      <td>0.000000</td>\n",
       "      <td>0.000000</td>\n",
       "    </tr>\n",
       "  </tbody>\n",
       "</table>\n",
       "<p>58 rows × 23434 columns</p>\n",
       "</div>"
      ],
      "text/plain": [
       "                                     0        1        2        3      \\\n",
       "Age                                   41.0     41.0     41.0     41.0   \n",
       "Attrition                              1.0      1.0      1.0      1.0   \n",
       "DailyRate                           1102.0   1102.0   1102.0   1102.0   \n",
       "DistanceFromHome                       1.0      1.0      1.0      1.0   \n",
       "EnvironmentSatisfaction                2.0      2.0      2.0      2.0   \n",
       "HourlyRate                            94.0     94.0     94.0     94.0   \n",
       "JobInvolvement                         3.0      3.0      3.0      3.0   \n",
       "JobLevel                               2.0      2.0      2.0      2.0   \n",
       "JobSatisfaction                        4.0      4.0      4.0      4.0   \n",
       "MonthlyIncome                       5993.0   5993.0   5993.0   5993.0   \n",
       "MonthlyRate                        19479.0  19479.0  19479.0  19479.0   \n",
       "NumCompaniesWorked                     8.0      4.0      8.0      4.0   \n",
       "PercentSalaryHike                     11.0     11.0     11.0     11.0   \n",
       "PerformanceRating                      3.0      3.0      3.0      3.0   \n",
       "RelationshipSatisfaction               1.0      1.0      1.0      1.0   \n",
       "StockOptionLevel                       0.0      0.0      0.0      0.0   \n",
       "TotalWorkingYears                      8.0      8.0      8.0      8.0   \n",
       "TrainingTimesLastYear                  0.0      0.0      0.0      0.0   \n",
       "WorkLifeBalance                        1.0      1.0      1.0      1.0   \n",
       "YearsAtCompany                         6.0      6.0      6.0      6.0   \n",
       "YearsInCurrentRole                     4.0      4.0      4.0      4.0   \n",
       "YearsSinceLastPromotion                0.0      0.0      0.0      0.0   \n",
       "YearsWithCurrManager                   5.0      5.0      5.0      5.0   \n",
       "Gender                                 1.0      1.0      1.0      1.0   \n",
       "BusinessTravel_Travel_Frequently       0.0      0.0      0.0      0.0   \n",
       "BusinessTravel_Travel_Rarely           1.0      1.0      1.0      1.0   \n",
       "Education_Below college                0.0      0.0      0.0      0.0   \n",
       "Education_College                      1.0      1.0      1.0      1.0   \n",
       "Education_Doctorate                    0.0      0.0      0.0      0.0   \n",
       "Education_Master                       0.0      0.0      0.0      0.0   \n",
       "Department_Research & Development      0.0      0.0      0.0      0.0   \n",
       "Department_Sales                       1.0      1.0      1.0      1.0   \n",
       "EducationField_Life Sciences           1.0      1.0      1.0      1.0   \n",
       "EducationField_Marketing               0.0      0.0      0.0      0.0   \n",
       "EducationField_Medical                 0.0      0.0      0.0      0.0   \n",
       "EducationField_Other                   0.0      0.0      0.0      0.0   \n",
       "EducationField_Technical Degree        0.0      0.0      0.0      0.0   \n",
       "EducationField_Test                    0.0      0.0      0.0      0.0   \n",
       "JobRole_Human Resources                0.0      0.0      0.0      0.0   \n",
       "JobRole_Laboratory Technician          0.0      0.0      0.0      0.0   \n",
       "JobRole_Manager                        0.0      0.0      0.0      0.0   \n",
       "JobRole_Manufacturing Director         0.0      0.0      0.0      0.0   \n",
       "JobRole_Research Director              0.0      0.0      0.0      0.0   \n",
       "JobRole_Research Scientist             0.0      0.0      0.0      0.0   \n",
       "JobRole_Sales Executive                1.0      1.0      1.0      1.0   \n",
       "JobRole_Sales Representative           0.0      0.0      0.0      0.0   \n",
       "MaritalStatus_Married                  0.0      0.0      0.0      0.0   \n",
       "MaritalStatus_Single                   1.0      1.0      1.0      1.0   \n",
       "OverTime_Yes                           1.0      1.0      1.0      1.0   \n",
       "Employee Source_Company Website        0.0      0.0      0.0      0.0   \n",
       "Employee Source_GlassDoor              0.0      0.0      0.0      0.0   \n",
       "Employee Source_Indeed                 0.0      0.0      0.0      0.0   \n",
       "Employee Source_Jora                   0.0      0.0      0.0      0.0   \n",
       "Employee Source_LinkedIn               0.0      0.0      0.0      0.0   \n",
       "Employee Source_Recruit.net            0.0      0.0      0.0      0.0   \n",
       "Employee Source_Referral               1.0      1.0      1.0      1.0   \n",
       "Employee Source_Seek                   0.0      0.0      0.0      0.0   \n",
       "Employee Source_Test                   0.0      0.0      0.0      0.0   \n",
       "\n",
       "                                     4        5        6        7      \\\n",
       "Age                                   41.0     41.0     41.0     41.0   \n",
       "Attrition                              1.0      1.0      1.0      1.0   \n",
       "DailyRate                           1102.0   1102.0   1102.0   1102.0   \n",
       "DistanceFromHome                       1.0      1.0      1.0      1.0   \n",
       "EnvironmentSatisfaction                2.0      4.0      1.0      2.0   \n",
       "HourlyRate                            94.0     33.0     41.0     94.0   \n",
       "JobInvolvement                         3.0      3.0      3.0      3.0   \n",
       "JobLevel                               2.0      4.0      5.0      2.0   \n",
       "JobSatisfaction                        4.0      3.0      1.0      4.0   \n",
       "MonthlyIncome                       5993.0  14756.0  19566.0   5993.0   \n",
       "MonthlyRate                        19479.0  19730.0   3854.0  19479.0   \n",
       "NumCompaniesWorked                     8.0      2.0      5.0      4.0   \n",
       "PercentSalaryHike                     11.0     14.0     11.0     11.0   \n",
       "PerformanceRating                      3.0      3.0      3.0      3.0   \n",
       "RelationshipSatisfaction               1.0      3.0      4.0      1.0   \n",
       "StockOptionLevel                       0.0      3.0      0.0      0.0   \n",
       "TotalWorkingYears                      8.0     21.0     33.0      8.0   \n",
       "TrainingTimesLastYear                  0.0      2.0      5.0      0.0   \n",
       "WorkLifeBalance                        1.0      3.0      1.0      1.0   \n",
       "YearsAtCompany                         6.0      5.0     29.0      6.0   \n",
       "YearsInCurrentRole                     4.0      0.0      8.0      4.0   \n",
       "YearsSinceLastPromotion                0.0      0.0     11.0      0.0   \n",
       "YearsWithCurrManager                   5.0      2.0     10.0      5.0   \n",
       "Gender                                 1.0      1.0      1.0      1.0   \n",
       "BusinessTravel_Travel_Frequently       0.0      0.0      0.0      0.0   \n",
       "BusinessTravel_Travel_Rarely           1.0      1.0      1.0      1.0   \n",
       "Education_Below college                0.0      0.0      0.0      0.0   \n",
       "Education_College                      1.0      1.0      1.0      1.0   \n",
       "Education_Doctorate                    0.0      0.0      0.0      0.0   \n",
       "Education_Master                       0.0      0.0      0.0      0.0   \n",
       "Department_Research & Development      0.0      0.0      0.0      0.0   \n",
       "Department_Sales                       1.0      1.0      1.0      1.0   \n",
       "EducationField_Life Sciences           1.0      1.0      1.0      1.0   \n",
       "EducationField_Marketing               0.0      0.0      0.0      0.0   \n",
       "EducationField_Medical                 0.0      0.0      0.0      0.0   \n",
       "EducationField_Other                   0.0      0.0      0.0      0.0   \n",
       "EducationField_Technical Degree        0.0      0.0      0.0      0.0   \n",
       "EducationField_Test                    0.0      0.0      0.0      0.0   \n",
       "JobRole_Human Resources                0.0      0.0      0.0      0.0   \n",
       "JobRole_Laboratory Technician          0.0      0.0      0.0      0.0   \n",
       "JobRole_Manager                        0.0      1.0      1.0      0.0   \n",
       "JobRole_Manufacturing Director         0.0      0.0      0.0      0.0   \n",
       "JobRole_Research Director              0.0      0.0      0.0      0.0   \n",
       "JobRole_Research Scientist             0.0      0.0      0.0      0.0   \n",
       "JobRole_Sales Executive                1.0      0.0      0.0      1.0   \n",
       "JobRole_Sales Representative           0.0      0.0      0.0      0.0   \n",
       "MaritalStatus_Married                  0.0      0.0      1.0      0.0   \n",
       "MaritalStatus_Single                   1.0      0.0      0.0      1.0   \n",
       "OverTime_Yes                           1.0      1.0      0.0      1.0   \n",
       "Employee Source_Company Website        0.0      1.0      0.0      0.0   \n",
       "Employee Source_GlassDoor              0.0      0.0      0.0      0.0   \n",
       "Employee Source_Indeed                 0.0      0.0      1.0      0.0   \n",
       "Employee Source_Jora                   0.0      0.0      0.0      0.0   \n",
       "Employee Source_LinkedIn               0.0      0.0      0.0      0.0   \n",
       "Employee Source_Recruit.net            0.0      0.0      0.0      0.0   \n",
       "Employee Source_Referral               1.0      0.0      0.0      1.0   \n",
       "Employee Source_Seek                   0.0      0.0      0.0      0.0   \n",
       "Employee Source_Test                   0.0      0.0      0.0      0.0   \n",
       "\n",
       "                                     8        9      ...    23426    23427  \\\n",
       "Age                                   41.0     41.0  ...     60.0     60.0   \n",
       "Attrition                              1.0      1.0  ...      0.0      0.0   \n",
       "DailyRate                           1102.0   1102.0  ...    370.0    370.0   \n",
       "DistanceFromHome                       1.0      1.0  ...      1.0      1.0   \n",
       "EnvironmentSatisfaction                2.0      2.0  ...      3.0      3.0   \n",
       "HourlyRate                            94.0     94.0  ...     92.0     92.0   \n",
       "JobInvolvement                         3.0      3.0  ...      1.0      1.0   \n",
       "JobLevel                               2.0      2.0  ...      3.0      3.0   \n",
       "JobSatisfaction                        4.0      4.0  ...      4.0      4.0   \n",
       "MonthlyIncome                       5993.0   5993.0  ...  10883.0  10883.0   \n",
       "MonthlyRate                        19479.0  19479.0  ...  20467.0  20467.0   \n",
       "NumCompaniesWorked                     8.0      4.0  ...      0.0      3.0   \n",
       "PercentSalaryHike                     11.0     11.0  ...     20.0     20.0   \n",
       "PerformanceRating                      3.0      3.0  ...      3.0      4.0   \n",
       "RelationshipSatisfaction               1.0      1.0  ...      3.0      3.0   \n",
       "StockOptionLevel                       0.0      0.0  ...      1.0      1.0   \n",
       "TotalWorkingYears                      8.0      8.0  ...     19.0     20.0   \n",
       "TrainingTimesLastYear                  0.0      0.0  ...      2.0      2.0   \n",
       "WorkLifeBalance                        1.0      1.0  ...      4.0      3.0   \n",
       "YearsAtCompany                         6.0      6.0  ...      1.0     20.0   \n",
       "YearsInCurrentRole                     4.0      4.0  ...      0.0      7.0   \n",
       "YearsSinceLastPromotion                0.0      0.0  ...      0.0      2.0   \n",
       "YearsWithCurrManager                   5.0      5.0  ...      0.0     13.0   \n",
       "Gender                                 1.0      1.0  ...      0.0      0.0   \n",
       "BusinessTravel_Travel_Frequently       0.0      0.0  ...      0.0      0.0   \n",
       "BusinessTravel_Travel_Rarely           1.0      1.0  ...      1.0      1.0   \n",
       "Education_Below college                0.0      0.0  ...      0.0      0.0   \n",
       "Education_College                      1.0      1.0  ...      0.0      0.0   \n",
       "Education_Doctorate                    0.0      0.0  ...      0.0      0.0   \n",
       "Education_Master                       0.0      0.0  ...      1.0      1.0   \n",
       "Department_Research & Development      0.0      0.0  ...      1.0      1.0   \n",
       "Department_Sales                       1.0      1.0  ...      0.0      0.0   \n",
       "EducationField_Life Sciences           1.0      1.0  ...      1.0      0.0   \n",
       "EducationField_Marketing               0.0      0.0  ...      0.0      0.0   \n",
       "EducationField_Medical                 0.0      0.0  ...      0.0      1.0   \n",
       "EducationField_Other                   0.0      0.0  ...      0.0      0.0   \n",
       "EducationField_Technical Degree        0.0      0.0  ...      0.0      0.0   \n",
       "EducationField_Test                    0.0      0.0  ...      0.0      0.0   \n",
       "JobRole_Human Resources                0.0      0.0  ...      0.0      0.0   \n",
       "JobRole_Laboratory Technician          0.0      0.0  ...      0.0      0.0   \n",
       "JobRole_Manager                        0.0      0.0  ...      0.0      0.0   \n",
       "JobRole_Manufacturing Director         0.0      0.0  ...      0.0      0.0   \n",
       "JobRole_Research Director              0.0      0.0  ...      0.0      0.0   \n",
       "JobRole_Research Scientist             0.0      0.0  ...      0.0      0.0   \n",
       "JobRole_Sales Executive                1.0      1.0  ...      0.0      0.0   \n",
       "JobRole_Sales Representative           0.0      0.0  ...      0.0      0.0   \n",
       "MaritalStatus_Married                  0.0      0.0  ...      0.0      0.0   \n",
       "MaritalStatus_Single                   1.0      1.0  ...      0.0      1.0   \n",
       "OverTime_Yes                           1.0      1.0  ...      0.0      0.0   \n",
       "Employee Source_Company Website        0.0      0.0  ...      1.0      1.0   \n",
       "Employee Source_GlassDoor              0.0      0.0  ...      0.0      0.0   \n",
       "Employee Source_Indeed                 0.0      0.0  ...      0.0      0.0   \n",
       "Employee Source_Jora                   0.0      0.0  ...      0.0      0.0   \n",
       "Employee Source_LinkedIn               0.0      0.0  ...      0.0      0.0   \n",
       "Employee Source_Recruit.net            0.0      0.0  ...      0.0      0.0   \n",
       "Employee Source_Referral               1.0      1.0  ...      0.0      0.0   \n",
       "Employee Source_Seek                   0.0      0.0  ...      0.0      0.0   \n",
       "Employee Source_Test                   0.0      0.0  ...      0.0      0.0   \n",
       "\n",
       "                                     23428    23429    23430    23431  \\\n",
       "Age                                   60.0     60.0     60.0     60.0   \n",
       "Attrition                              0.0      0.0      0.0      0.0   \n",
       "DailyRate                            370.0    370.0    370.0    370.0   \n",
       "DistanceFromHome                       1.0      1.0      1.0      1.0   \n",
       "EnvironmentSatisfaction                3.0      3.0      3.0      3.0   \n",
       "HourlyRate                            92.0     92.0     92.0     92.0   \n",
       "JobInvolvement                         1.0      1.0      1.0      1.0   \n",
       "JobLevel                               3.0      3.0      3.0      3.0   \n",
       "JobSatisfaction                        4.0      4.0      4.0      4.0   \n",
       "MonthlyIncome                      10883.0  10883.0  10883.0  10883.0   \n",
       "MonthlyRate                        20467.0  20467.0  20467.0  20467.0   \n",
       "NumCompaniesWorked                     0.0      3.0      0.0      3.0   \n",
       "PercentSalaryHike                     20.0     20.0     20.0     20.0   \n",
       "PerformanceRating                      4.0      3.0      3.0      4.0   \n",
       "RelationshipSatisfaction               3.0      3.0      3.0      3.0   \n",
       "StockOptionLevel                       1.0      1.0      1.0      1.0   \n",
       "TotalWorkingYears                     19.0     19.0     19.0     20.0   \n",
       "TrainingTimesLastYear                  2.0      2.0      2.0      2.0   \n",
       "WorkLifeBalance                        4.0      4.0      4.0      3.0   \n",
       "YearsAtCompany                         1.0      1.0      1.0     20.0   \n",
       "YearsInCurrentRole                     0.0      0.0      0.0      7.0   \n",
       "YearsSinceLastPromotion                0.0      0.0      0.0      2.0   \n",
       "YearsWithCurrManager                   0.0      0.0      0.0     13.0   \n",
       "Gender                                 0.0      0.0      0.0      0.0   \n",
       "BusinessTravel_Travel_Frequently       0.0      0.0      0.0      0.0   \n",
       "BusinessTravel_Travel_Rarely           1.0      1.0      1.0      1.0   \n",
       "Education_Below college                0.0      0.0      0.0      0.0   \n",
       "Education_College                      0.0      0.0      0.0      0.0   \n",
       "Education_Doctorate                    0.0      0.0      0.0      0.0   \n",
       "Education_Master                       1.0      1.0      1.0      1.0   \n",
       "Department_Research & Development      1.0      1.0      1.0      1.0   \n",
       "Department_Sales                       0.0      0.0      0.0      0.0   \n",
       "EducationField_Life Sciences           1.0      0.0      1.0      0.0   \n",
       "EducationField_Marketing               0.0      0.0      0.0      0.0   \n",
       "EducationField_Medical                 0.0      1.0      0.0      1.0   \n",
       "EducationField_Other                   0.0      0.0      0.0      0.0   \n",
       "EducationField_Technical Degree        0.0      0.0      0.0      0.0   \n",
       "EducationField_Test                    0.0      0.0      0.0      0.0   \n",
       "JobRole_Human Resources                0.0      0.0      0.0      0.0   \n",
       "JobRole_Laboratory Technician          0.0      0.0      0.0      0.0   \n",
       "JobRole_Manager                        0.0      0.0      0.0      0.0   \n",
       "JobRole_Manufacturing Director         0.0      0.0      0.0      0.0   \n",
       "JobRole_Research Director              0.0      0.0      0.0      0.0   \n",
       "JobRole_Research Scientist             0.0      0.0      0.0      0.0   \n",
       "JobRole_Sales Executive                0.0      0.0      0.0      0.0   \n",
       "JobRole_Sales Representative           0.0      0.0      0.0      0.0   \n",
       "MaritalStatus_Married                  0.0      0.0      0.0      0.0   \n",
       "MaritalStatus_Single                   0.0      0.0      0.0      1.0   \n",
       "OverTime_Yes                           0.0      0.0      0.0      0.0   \n",
       "Employee Source_Company Website        1.0      1.0      1.0      1.0   \n",
       "Employee Source_GlassDoor              0.0      0.0      0.0      0.0   \n",
       "Employee Source_Indeed                 0.0      0.0      0.0      0.0   \n",
       "Employee Source_Jora                   0.0      0.0      0.0      0.0   \n",
       "Employee Source_LinkedIn               0.0      0.0      0.0      0.0   \n",
       "Employee Source_Recruit.net            0.0      0.0      0.0      0.0   \n",
       "Employee Source_Referral               0.0      0.0      0.0      0.0   \n",
       "Employee Source_Seek                   0.0      0.0      0.0      0.0   \n",
       "Employee Source_Test                   0.0      0.0      0.0      0.0   \n",
       "\n",
       "                                     23432        23433         23434  \\\n",
       "Age                                   60.0    36.936537     36.936537   \n",
       "Attrition                              0.0     1.000000      0.000000   \n",
       "DailyRate                            370.0  1009.000000   1354.000000   \n",
       "DistanceFromHome                       1.0     1.000000      5.000000   \n",
       "EnvironmentSatisfaction                3.0     4.000000      3.000000   \n",
       "HourlyRate                            92.0    83.000000     45.000000   \n",
       "JobInvolvement                         1.0     3.000000      2.000000   \n",
       "JobLevel                               3.0     2.000000      3.000000   \n",
       "JobSatisfaction                        4.0     3.000000      1.000000   \n",
       "MonthlyIncome                      10883.0  5301.000000  11631.000000   \n",
       "MonthlyRate                        20467.0  2939.000000   5615.000000   \n",
       "NumCompaniesWorked                     0.0     4.000000      2.000000   \n",
       "PercentSalaryHike                     20.0    15.000000     12.000000   \n",
       "PerformanceRating                      4.0     3.000000      3.000000   \n",
       "RelationshipSatisfaction               3.0     3.000000      4.000000   \n",
       "StockOptionLevel                       1.0     2.000000      0.000000   \n",
       "TotalWorkingYears                     19.0     4.000000     14.000000   \n",
       "TrainingTimesLastYear                  2.0     2.000000      6.000000   \n",
       "WorkLifeBalance                        4.0     2.000000      3.000000   \n",
       "YearsAtCompany                         1.0     2.000000     11.000000   \n",
       "YearsInCurrentRole                     0.0     1.000000     10.000000   \n",
       "YearsSinceLastPromotion                0.0     2.000000      5.000000   \n",
       "YearsWithCurrManager                   0.0     2.000000      8.000000   \n",
       "Gender                                 0.0     0.000000      1.000000   \n",
       "BusinessTravel_Travel_Frequently       0.0     1.000000      0.000000   \n",
       "BusinessTravel_Travel_Rarely           1.0     0.000000      1.000000   \n",
       "Education_Below college                0.0     0.000000      0.000000   \n",
       "Education_College                      0.0     0.000000      0.000000   \n",
       "Education_Doctorate                    0.0     0.000000      0.000000   \n",
       "Education_Master                       1.0     0.000000      0.000000   \n",
       "Department_Research & Development      1.0     1.000000      1.000000   \n",
       "Department_Sales                       0.0     0.000000      0.000000   \n",
       "EducationField_Life Sciences           1.0     1.000000      0.000000   \n",
       "EducationField_Marketing               0.0     0.000000      0.000000   \n",
       "EducationField_Medical                 0.0     0.000000      1.000000   \n",
       "EducationField_Other                   0.0     0.000000      0.000000   \n",
       "EducationField_Technical Degree        0.0     0.000000      0.000000   \n",
       "EducationField_Test                    0.0     0.000000      0.000000   \n",
       "JobRole_Human Resources                0.0     0.000000      0.000000   \n",
       "JobRole_Laboratory Technician          0.0     0.000000      0.000000   \n",
       "JobRole_Manager                        0.0     0.000000      1.000000   \n",
       "JobRole_Manufacturing Director         0.0     0.000000      0.000000   \n",
       "JobRole_Research Director              0.0     0.000000      0.000000   \n",
       "JobRole_Research Scientist             0.0     0.000000      0.000000   \n",
       "JobRole_Sales Executive                0.0     1.000000      0.000000   \n",
       "JobRole_Sales Representative           0.0     0.000000      0.000000   \n",
       "MaritalStatus_Married                  0.0     1.000000      0.000000   \n",
       "MaritalStatus_Single                   0.0     0.000000      1.000000   \n",
       "OverTime_Yes                           0.0     0.000000      0.000000   \n",
       "Employee Source_Company Website        1.0     0.000000      0.000000   \n",
       "Employee Source_GlassDoor              0.0     0.000000      0.000000   \n",
       "Employee Source_Indeed                 0.0     0.000000      1.000000   \n",
       "Employee Source_Jora                   0.0     0.000000      0.000000   \n",
       "Employee Source_LinkedIn               0.0     0.000000      0.000000   \n",
       "Employee Source_Recruit.net            0.0     0.000000      0.000000   \n",
       "Employee Source_Referral               0.0     0.000000      0.000000   \n",
       "Employee Source_Seek                   0.0     0.000000      0.000000   \n",
       "Employee Source_Test                   0.0     0.000000      0.000000   \n",
       "\n",
       "                                         23435  \n",
       "Age                                  36.936537  \n",
       "Attrition                             0.000000  \n",
       "DailyRate                          1142.000000  \n",
       "DistanceFromHome                      8.000000  \n",
       "EnvironmentSatisfaction               4.000000  \n",
       "HourlyRate                           72.000000  \n",
       "JobInvolvement                        3.000000  \n",
       "JobLevel                              2.000000  \n",
       "JobSatisfaction                       4.000000  \n",
       "MonthlyIncome                      4069.000000  \n",
       "MonthlyRate                        8841.000000  \n",
       "NumCompaniesWorked                    3.000000  \n",
       "PercentSalaryHike                    18.000000  \n",
       "PerformanceRating                     3.000000  \n",
       "RelationshipSatisfaction              3.000000  \n",
       "StockOptionLevel                      0.000000  \n",
       "TotalWorkingYears                     8.000000  \n",
       "TrainingTimesLastYear                 2.000000  \n",
       "WorkLifeBalance                       3.000000  \n",
       "YearsAtCompany                        2.000000  \n",
       "YearsInCurrentRole                    2.000000  \n",
       "YearsSinceLastPromotion               2.000000  \n",
       "YearsWithCurrManager                  2.000000  \n",
       "Gender                                0.000000  \n",
       "BusinessTravel_Travel_Frequently      0.000000  \n",
       "BusinessTravel_Travel_Rarely          0.000000  \n",
       "Education_Below college               0.000000  \n",
       "Education_College                     1.000000  \n",
       "Education_Doctorate                   0.000000  \n",
       "Education_Master                      0.000000  \n",
       "Department_Research & Development     1.000000  \n",
       "Department_Sales                      0.000000  \n",
       "EducationField_Life Sciences          1.000000  \n",
       "EducationField_Marketing              0.000000  \n",
       "EducationField_Medical                0.000000  \n",
       "EducationField_Other                  0.000000  \n",
       "EducationField_Technical Degree       0.000000  \n",
       "EducationField_Test                   0.000000  \n",
       "JobRole_Human Resources               0.000000  \n",
       "JobRole_Laboratory Technician         0.000000  \n",
       "JobRole_Manager                       0.000000  \n",
       "JobRole_Manufacturing Director        0.000000  \n",
       "JobRole_Research Director             0.000000  \n",
       "JobRole_Research Scientist            0.000000  \n",
       "JobRole_Sales Executive               0.000000  \n",
       "JobRole_Sales Representative          0.000000  \n",
       "MaritalStatus_Married                 0.000000  \n",
       "MaritalStatus_Single                  0.000000  \n",
       "OverTime_Yes                          1.000000  \n",
       "Employee Source_Company Website       0.000000  \n",
       "Employee Source_GlassDoor             0.000000  \n",
       "Employee Source_Indeed                0.000000  \n",
       "Employee Source_Jora                  0.000000  \n",
       "Employee Source_LinkedIn              0.000000  \n",
       "Employee Source_Recruit.net           1.000000  \n",
       "Employee Source_Referral              0.000000  \n",
       "Employee Source_Seek                  0.000000  \n",
       "Employee Source_Test                  0.000000  \n",
       "\n",
       "[58 rows x 23434 columns]"
      ]
     },
     "execution_count": 63,
     "metadata": {},
     "output_type": "execute_result"
    }
   ],
   "source": [
    "df.T"
   ]
  },
  {
   "cell_type": "code",
   "execution_count": 64,
   "metadata": {},
   "outputs": [
    {
     "data": {
      "text/plain": [
       "<matplotlib.axes._subplots.AxesSubplot at 0x1c23b5db10>"
      ]
     },
     "execution_count": 64,
     "metadata": {},
     "output_type": "execute_result"
    },
    {
     "data": {
      "image/png": "[encoded data removed]",
      "text/plain": [
       "<Figure size 432x288 with 1 Axes>"
      ]
     },
     "metadata": {
      "needs_background": "light"
     },
     "output_type": "display_data"
    }
   ],
   "source": [
    "sns.distplot(df['MonthlyIncome'])"
   ]
  },
  {
   "cell_type": "code",
   "execution_count": 65,
   "metadata": {},
   "outputs": [],
   "source": [
    "df['MonthlyIncome'] = df['MonthlyIncome'].apply(lambda x : np.log(x+1))"
   ]
  },
  {
   "cell_type": "code",
   "execution_count": 66,
   "metadata": {
    "scrolled": true
   },
   "outputs": [
    {
     "data": {
      "text/plain": [
       "<matplotlib.axes._subplots.AxesSubplot at 0x1c2462e490>"
      ]
     },
     "execution_count": 66,
     "metadata": {},
     "output_type": "execute_result"
    },
    {
     "data": {
      "image/png": "[encoded data removed]",
      "text/plain": [
       "<Figure size 432x288 with 1 Axes>"
      ]
     },
     "metadata": {
      "needs_background": "light"
     },
     "output_type": "display_data"
    }
   ],
   "source": [
    "sns.distplot(df['MonthlyIncome'])"
   ]
  },
  {
   "cell_type": "code",
   "execution_count": 67,
   "metadata": {},
   "outputs": [],
   "source": [
    "df['YearsAtcompany_1_10']=df['YearsAtCompany'][df['YearsAtCompany']<11]"
   ]
  },
  {
   "cell_type": "code",
   "execution_count": 68,
   "metadata": {},
   "outputs": [],
   "source": [
    "df['YearsAtcompany_11+']=df['YearsAtCompany'][df['YearsAtCompany']>=11]"
   ]
  },
  {
   "cell_type": "code",
   "execution_count": 69,
   "metadata": {},
   "outputs": [],
   "source": [
    "df['YearsAtcompany_1_10'] = df['YearsAtcompany_1_10'].fillna(0)"
   ]
  },
  {
   "cell_type": "code",
   "execution_count": 70,
   "metadata": {},
   "outputs": [],
   "source": [
    "df['YearsAtcompany_11+'] = df['YearsAtcompany_11+'].fillna(0)"
   ]
  },
  {
   "cell_type": "code",
   "execution_count": 71,
   "metadata": {},
   "outputs": [],
   "source": [
    "df['YearsAtcompany_1_10']=df['YearsAtcompany_1_10'].apply(lambda x: 1 if x>1 else x)"
   ]
  },
  {
   "cell_type": "code",
   "execution_count": 72,
   "metadata": {},
   "outputs": [],
   "source": [
    "df['YearsAtcompany_11+']=df['YearsAtcompany_11+'].apply(lambda x: 1 if x>1 else x)"
   ]
  },
  {
   "cell_type": "code",
   "execution_count": 73,
   "metadata": {},
   "outputs": [
    {
     "data": {
      "text/plain": [
       "1.0    8311\n",
       "0.0    3176\n",
       "3.0    2508\n",
       "2.0    2339\n",
       "4.0    2208\n",
       "7.0    1171\n",
       "6.0    1108\n",
       "5.0    1002\n",
       "9.0     818\n",
       "8.0     793\n",
       "Name: NumCompaniesWorked, dtype: int64"
      ]
     },
     "execution_count": 73,
     "metadata": {},
     "output_type": "execute_result"
    }
   ],
   "source": [
    "df['NumCompaniesWorked'].value_counts()"
   ]
  },
  {
   "cell_type": "code",
   "execution_count": 74,
   "metadata": {},
   "outputs": [],
   "source": [
    "df['NumCompaniesWorked_0_5']=df['NumCompaniesWorked'][df['NumCompaniesWorked']<=5]"
   ]
  },
  {
   "cell_type": "code",
   "execution_count": 75,
   "metadata": {},
   "outputs": [],
   "source": [
    "df['NumCompaniesWorked_6+']=df['NumCompaniesWorked'][df['NumCompaniesWorked']>5]"
   ]
  },
  {
   "cell_type": "code",
   "execution_count": 76,
   "metadata": {},
   "outputs": [],
   "source": [
    "df['NumCompaniesWorked_0_5'] = df['NumCompaniesWorked_0_5'].fillna(0)"
   ]
  },
  {
   "cell_type": "code",
   "execution_count": 77,
   "metadata": {},
   "outputs": [],
   "source": [
    "df['NumCompaniesWorked_6+'] = df['NumCompaniesWorked_6+'].fillna(0)"
   ]
  },
  {
   "cell_type": "code",
   "execution_count": 78,
   "metadata": {},
   "outputs": [],
   "source": [
    "df['NumCompaniesWorked_0_5']=df['NumCompaniesWorked_0_5'].apply(lambda x: 1 if x>1 else x)"
   ]
  },
  {
   "cell_type": "code",
   "execution_count": 79,
   "metadata": {},
   "outputs": [],
   "source": [
    "df['NumCompaniesWorked_6+']=df['NumCompaniesWorked_6+'].apply(lambda x: 1 if x>1 else x)"
   ]
  },
  {
   "cell_type": "code",
   "execution_count": 80,
   "metadata": {
    "scrolled": true
   },
   "outputs": [
    {
     "data": {
      "text/plain": [
       "3.0    19801\n",
       "4.0     3633\n",
       "Name: PerformanceRating, dtype: int64"
      ]
     },
     "execution_count": 80,
     "metadata": {},
     "output_type": "execute_result"
    }
   ],
   "source": [
    "df['PerformanceRating'].value_counts()"
   ]
  },
  {
   "cell_type": "code",
   "execution_count": 81,
   "metadata": {},
   "outputs": [],
   "source": [
    "df['PerformanceRating_3']=df['PerformanceRating'][df['PerformanceRating']==3]"
   ]
  },
  {
   "cell_type": "code",
   "execution_count": 82,
   "metadata": {},
   "outputs": [],
   "source": [
    "df['PerformanceRating_4']=df['PerformanceRating'][df['PerformanceRating']==4]"
   ]
  },
  {
   "cell_type": "code",
   "execution_count": 83,
   "metadata": {},
   "outputs": [],
   "source": [
    "df['PerformanceRating_3'] = df['PerformanceRating_3'].fillna(0)"
   ]
  },
  {
   "cell_type": "code",
   "execution_count": 84,
   "metadata": {},
   "outputs": [],
   "source": [
    "df['PerformanceRating_4'] = df['PerformanceRating_4'].fillna(0)"
   ]
  },
  {
   "cell_type": "code",
   "execution_count": 85,
   "metadata": {},
   "outputs": [],
   "source": [
    "df['PerformanceRating_3']=df['PerformanceRating_3'].apply(lambda x: 1 if x>=1 else x)"
   ]
  },
  {
   "cell_type": "code",
   "execution_count": 86,
   "metadata": {},
   "outputs": [],
   "source": [
    "df['PerformanceRating_4']=df['PerformanceRating_4'].apply(lambda x: 1 if x>=1 else x)"
   ]
  },
  {
   "cell_type": "code",
   "execution_count": 87,
   "metadata": {},
   "outputs": [
    {
     "data": {
      "text/plain": [
       "0.0    10066\n",
       "1.0     9492\n",
       "2.0     2533\n",
       "3.0     1343\n",
       "Name: StockOptionLevel, dtype: int64"
      ]
     },
     "execution_count": 87,
     "metadata": {},
     "output_type": "execute_result"
    }
   ],
   "source": [
    "df['StockOptionLevel'].value_counts()"
   ]
  },
  {
   "cell_type": "code",
   "execution_count": 88,
   "metadata": {},
   "outputs": [],
   "source": [
    "df['StockOptionLevel0_1']=df['StockOptionLevel'][df['StockOptionLevel']<=1]"
   ]
  },
  {
   "cell_type": "code",
   "execution_count": 89,
   "metadata": {},
   "outputs": [],
   "source": [
    "df['StockOptionLevel2_3']=df['StockOptionLevel'][df['StockOptionLevel']>1]"
   ]
  },
  {
   "cell_type": "code",
   "execution_count": 90,
   "metadata": {},
   "outputs": [],
   "source": [
    "df['StockOptionLevel0_1'] = df['StockOptionLevel0_1'].fillna(0)"
   ]
  },
  {
   "cell_type": "code",
   "execution_count": 91,
   "metadata": {},
   "outputs": [],
   "source": [
    "df['StockOptionLevel2_3'] = df['StockOptionLevel2_3'].fillna(0)"
   ]
  },
  {
   "cell_type": "code",
   "execution_count": 92,
   "metadata": {},
   "outputs": [],
   "source": [
    "df['StockOptionLevel0_1']=df['StockOptionLevel0_1'].apply(lambda x: 1 if x>=1 else x)"
   ]
  },
  {
   "cell_type": "code",
   "execution_count": 93,
   "metadata": {},
   "outputs": [],
   "source": [
    "df['StockOptionLevel2_3']=df['StockOptionLevel2_3'].apply(lambda x: 1 if x>=1 else x)"
   ]
  },
  {
   "cell_type": "code",
   "execution_count": 94,
   "metadata": {
    "scrolled": true
   },
   "outputs": [
    {
     "data": {
      "text/plain": [
       "10.0    3249\n",
       "6.0     1992\n",
       "8.0     1653\n",
       "9.0     1538\n",
       "5.0     1396\n",
       "7.0     1285\n",
       "1.0     1284\n",
       "4.0      992\n",
       "12.0     757\n",
       "3.0      670\n",
       "15.0     621\n",
       "16.0     614\n",
       "11.0     571\n",
       "13.0     569\n",
       "21.0     540\n",
       "17.0     517\n",
       "14.0     495\n",
       "2.0      485\n",
       "20.0     480\n",
       "18.0     425\n",
       "23.0     354\n",
       "19.0     350\n",
       "22.0     330\n",
       "24.0     288\n",
       "26.0     223\n",
       "28.0     221\n",
       "25.0     220\n",
       "0.0      209\n",
       "29.0     160\n",
       "32.0     150\n",
       "31.0     148\n",
       "33.0     110\n",
       "30.0     105\n",
       "27.0     104\n",
       "36.0      92\n",
       "34.0      82\n",
       "37.0      56\n",
       "35.0      46\n",
       "40.0      37\n",
       "38.0      16\n",
       "Name: TotalWorkingYears, dtype: int64"
      ]
     },
     "execution_count": 94,
     "metadata": {},
     "output_type": "execute_result"
    }
   ],
   "source": [
    "df['TotalWorkingYears'].value_counts()"
   ]
  },
  {
   "cell_type": "code",
   "execution_count": 95,
   "metadata": {},
   "outputs": [],
   "source": [
    "df['TotalWorkingYears_1-10']=df['TotalWorkingYears'][df['TotalWorkingYears']<=10]"
   ]
  },
  {
   "cell_type": "code",
   "execution_count": 96,
   "metadata": {},
   "outputs": [],
   "source": [
    "df['TotalWorkingYears_11+']=df['TotalWorkingYears'][df['TotalWorkingYears']>10]"
   ]
  },
  {
   "cell_type": "code",
   "execution_count": 97,
   "metadata": {},
   "outputs": [],
   "source": [
    "df['TotalWorkingYears_1-10'] = df['TotalWorkingYears_1-10'].fillna(0)"
   ]
  },
  {
   "cell_type": "code",
   "execution_count": 98,
   "metadata": {},
   "outputs": [],
   "source": [
    "df['TotalWorkingYears_11+'] = df['TotalWorkingYears_11+'].fillna(0)"
   ]
  },
  {
   "cell_type": "code",
   "execution_count": 99,
   "metadata": {},
   "outputs": [],
   "source": [
    "df['TotalWorkingYears_1-10']=df['TotalWorkingYears_1-10'].apply(lambda x: 1 if x>=1 else x)"
   ]
  },
  {
   "cell_type": "code",
   "execution_count": 100,
   "metadata": {},
   "outputs": [],
   "source": [
    "df['TotalWorkingYears_11+']=df['TotalWorkingYears_11+'].apply(lambda x: 1 if x>=1 else x)"
   ]
  },
  {
   "cell_type": "code",
   "execution_count": 101,
   "metadata": {},
   "outputs": [
    {
     "data": {
      "text/plain": [
       "2.0    8725\n",
       "3.0    7817\n",
       "4.0    1970\n",
       "5.0    1882\n",
       "1.0    1126\n",
       "6.0    1043\n",
       "0.0     871\n",
       "Name: TrainingTimesLastYear, dtype: int64"
      ]
     },
     "execution_count": 101,
     "metadata": {},
     "output_type": "execute_result"
    }
   ],
   "source": [
    "df['TrainingTimesLastYear'].value_counts()"
   ]
  },
  {
   "cell_type": "code",
   "execution_count": 102,
   "metadata": {},
   "outputs": [],
   "source": [
    "df['TrainingTimesLastYear_0_4']=df['TrainingTimesLastYear'][df['TrainingTimesLastYear']<=4]"
   ]
  },
  {
   "cell_type": "code",
   "execution_count": 103,
   "metadata": {},
   "outputs": [],
   "source": [
    "df['TrainingTimesLastYear_5+']=df['TrainingTimesLastYear'][df['TrainingTimesLastYear']>4]"
   ]
  },
  {
   "cell_type": "code",
   "execution_count": 104,
   "metadata": {},
   "outputs": [],
   "source": [
    "df['TrainingTimesLastYear_0_4'] = df['TrainingTimesLastYear_0_4'].fillna(0)"
   ]
  },
  {
   "cell_type": "code",
   "execution_count": 105,
   "metadata": {},
   "outputs": [],
   "source": [
    "df['TrainingTimesLastYear_5+'] = df['TrainingTimesLastYear_5+'].fillna(0)"
   ]
  },
  {
   "cell_type": "code",
   "execution_count": 106,
   "metadata": {},
   "outputs": [],
   "source": [
    "df['TrainingTimesLastYear_0_4']=df['TrainingTimesLastYear_0_4'].apply(lambda x: 1 if x>=1 else x)"
   ]
  },
  {
   "cell_type": "code",
   "execution_count": 107,
   "metadata": {},
   "outputs": [],
   "source": [
    "df['TrainingTimesLastYear_5+']=df['TrainingTimesLastYear_5+'].apply(lambda x: 1 if x>=1 else x)"
   ]
  },
  {
   "cell_type": "code",
   "execution_count": 108,
   "metadata": {},
   "outputs": [
    {
     "data": {
      "text/plain": [
       "2.0     5928\n",
       "0.0     3925\n",
       "7.0     3516\n",
       "3.0     2156\n",
       "4.0     1635\n",
       "8.0     1426\n",
       "9.0     1074\n",
       "1.0      887\n",
       "5.0      593\n",
       "6.0      591\n",
       "10.0     459\n",
       "11.0     359\n",
       "13.0     221\n",
       "14.0     176\n",
       "12.0     149\n",
       "15.0     134\n",
       "16.0     110\n",
       "17.0      63\n",
       "18.0      32\n",
       "Name: YearsInCurrentRole, dtype: int64"
      ]
     },
     "execution_count": 108,
     "metadata": {},
     "output_type": "execute_result"
    }
   ],
   "source": [
    "df['YearsInCurrentRole'].value_counts()"
   ]
  },
  {
   "cell_type": "code",
   "execution_count": 109,
   "metadata": {},
   "outputs": [],
   "source": [
    "df['YearsInCurrentRole0_10']=df['YearsInCurrentRole'][df['YearsInCurrentRole']<=10]"
   ]
  },
  {
   "cell_type": "code",
   "execution_count": 110,
   "metadata": {},
   "outputs": [],
   "source": [
    "df['YearsInCurrentRole11+']=df['YearsInCurrentRole'][df['YearsInCurrentRole']>10]"
   ]
  },
  {
   "cell_type": "code",
   "execution_count": 111,
   "metadata": {},
   "outputs": [],
   "source": [
    "df['YearsInCurrentRole0_10'] = df['YearsInCurrentRole0_10'].fillna(0)"
   ]
  },
  {
   "cell_type": "code",
   "execution_count": 112,
   "metadata": {},
   "outputs": [],
   "source": [
    "df['YearsInCurrentRole11+'] = df['YearsInCurrentRole11+'].fillna(0)"
   ]
  },
  {
   "cell_type": "code",
   "execution_count": 113,
   "metadata": {},
   "outputs": [],
   "source": [
    "df['YearsInCurrentRole0_10']=df['YearsInCurrentRole0_10'].apply(lambda x: 1 if x>=1 else x)"
   ]
  },
  {
   "cell_type": "code",
   "execution_count": 114,
   "metadata": {},
   "outputs": [],
   "source": [
    "df['YearsInCurrentRole11+']=df['YearsInCurrentRole11+'].apply(lambda x: 1 if x>=1 else x)"
   ]
  },
  {
   "cell_type": "code",
   "execution_count": 115,
   "metadata": {},
   "outputs": [
    {
     "data": {
      "text/plain": [
       "0.0     9271\n",
       "1.0     5695\n",
       "2.0     2533\n",
       "7.0     1215\n",
       "4.0      960\n",
       "3.0      843\n",
       "5.0      713\n",
       "6.0      508\n",
       "11.0     377\n",
       "8.0      284\n",
       "9.0      271\n",
       "15.0     206\n",
       "12.0     160\n",
       "13.0     158\n",
       "14.0     144\n",
       "10.0      96\n",
       "Name: YearsSinceLastPromotion, dtype: int64"
      ]
     },
     "execution_count": 115,
     "metadata": {},
     "output_type": "execute_result"
    }
   ],
   "source": [
    "df['YearsSinceLastPromotion'].value_counts()"
   ]
  },
  {
   "cell_type": "code",
   "execution_count": 116,
   "metadata": {},
   "outputs": [],
   "source": [
    "df['YearsSinceLastPromotion0_10']=df['YearsSinceLastPromotion'][df['YearsSinceLastPromotion']<=10]"
   ]
  },
  {
   "cell_type": "code",
   "execution_count": 117,
   "metadata": {},
   "outputs": [],
   "source": [
    "df['YearsSinceLastPromotion11+']=df['YearsSinceLastPromotion'][df['YearsSinceLastPromotion']>10]"
   ]
  },
  {
   "cell_type": "code",
   "execution_count": 118,
   "metadata": {},
   "outputs": [],
   "source": [
    "df['YearsSinceLastPromotion0_10'] = df['YearsSinceLastPromotion0_10'].fillna(0)"
   ]
  },
  {
   "cell_type": "code",
   "execution_count": 119,
   "metadata": {},
   "outputs": [],
   "source": [
    "df['YearsSinceLastPromotion11+'] = df['YearsSinceLastPromotion11+'].fillna(0)"
   ]
  },
  {
   "cell_type": "code",
   "execution_count": 120,
   "metadata": {},
   "outputs": [],
   "source": [
    "df['YearsSinceLastPromotion0_10']=df['YearsSinceLastPromotion0_10'].apply(lambda x: 1 if x>=1 else x)"
   ]
  },
  {
   "cell_type": "code",
   "execution_count": 121,
   "metadata": {},
   "outputs": [],
   "source": [
    "df['YearsSinceLastPromotion11+']=df['YearsSinceLastPromotion11+'].apply(lambda x: 1 if x>=1 else x)"
   ]
  },
  {
   "cell_type": "code",
   "execution_count": 122,
   "metadata": {},
   "outputs": [
    {
     "data": {
      "text/plain": [
       "2.0     5461\n",
       "0.0     4197\n",
       "7.0     3439\n",
       "3.0     2261\n",
       "8.0     1696\n",
       "4.0     1572\n",
       "1.0     1218\n",
       "9.0     1035\n",
       "5.0      496\n",
       "6.0      457\n",
       "10.0     435\n",
       "11.0     350\n",
       "12.0     277\n",
       "13.0     238\n",
       "17.0     112\n",
       "14.0      79\n",
       "15.0      79\n",
       "16.0      32\n",
       "Name: YearsWithCurrManager, dtype: int64"
      ]
     },
     "execution_count": 122,
     "metadata": {},
     "output_type": "execute_result"
    }
   ],
   "source": [
    "df['YearsWithCurrManager'].value_counts()"
   ]
  },
  {
   "cell_type": "code",
   "execution_count": 123,
   "metadata": {},
   "outputs": [],
   "source": [
    "df['YearsWithCurrManager0_8']=df['YearsWithCurrManager'][df['YearsWithCurrManager']<=8]"
   ]
  },
  {
   "cell_type": "code",
   "execution_count": 124,
   "metadata": {},
   "outputs": [],
   "source": [
    "df['YearsWithCurrManager9+']=df['YearsWithCurrManager'][df['YearsWithCurrManager']>8]"
   ]
  },
  {
   "cell_type": "code",
   "execution_count": 125,
   "metadata": {},
   "outputs": [],
   "source": [
    "df['YearsWithCurrManager0_8'] = df['YearsWithCurrManager0_8'].fillna(0)"
   ]
  },
  {
   "cell_type": "code",
   "execution_count": 126,
   "metadata": {},
   "outputs": [],
   "source": [
    "df['YearsWithCurrManager9+'] = df['YearsWithCurrManager9+'].fillna(0)"
   ]
  },
  {
   "cell_type": "code",
   "execution_count": 127,
   "metadata": {},
   "outputs": [],
   "source": [
    "df['YearsWithCurrManager0_8']=df['YearsWithCurrManager0_8'].apply(lambda x: 1 if x>=1 else x)"
   ]
  },
  {
   "cell_type": "code",
   "execution_count": 128,
   "metadata": {},
   "outputs": [],
   "source": [
    "df['YearsWithCurrManager9+']=df['YearsWithCurrManager9+'].apply(lambda x: 1 if x>=1 else x)"
   ]
  },
  {
   "cell_type": "code",
   "execution_count": 129,
   "metadata": {},
   "outputs": [
    {
     "data": {
      "text/plain": [
       "Index(['Age', 'Attrition', 'DailyRate', 'DistanceFromHome',\n",
       "       'EnvironmentSatisfaction', 'HourlyRate', 'JobInvolvement', 'JobLevel',\n",
       "       'JobSatisfaction', 'MonthlyIncome', 'MonthlyRate', 'NumCompaniesWorked',\n",
       "       'PercentSalaryHike', 'PerformanceRating', 'RelationshipSatisfaction',\n",
       "       'StockOptionLevel', 'TotalWorkingYears', 'TrainingTimesLastYear',\n",
       "       'WorkLifeBalance', 'YearsAtCompany', 'YearsInCurrentRole',\n",
       "       'YearsSinceLastPromotion', 'YearsWithCurrManager', 'Gender',\n",
       "       'BusinessTravel_Travel_Frequently', 'BusinessTravel_Travel_Rarely',\n",
       "       'Education_Below college', 'Education_College', 'Education_Doctorate',\n",
       "       'Education_Master', 'Department_Research & Development',\n",
       "       'Department_Sales', 'EducationField_Life Sciences',\n",
       "       'EducationField_Marketing', 'EducationField_Medical',\n",
       "       'EducationField_Other', 'EducationField_Technical Degree',\n",
       "       'EducationField_Test', 'JobRole_Human Resources',\n",
       "       'JobRole_Laboratory Technician', 'JobRole_Manager',\n",
       "       'JobRole_Manufacturing Director', 'JobRole_Research Director',\n",
       "       'JobRole_Research Scientist', 'JobRole_Sales Executive',\n",
       "       'JobRole_Sales Representative', 'MaritalStatus_Married',\n",
       "       'MaritalStatus_Single', 'OverTime_Yes',\n",
       "       'Employee Source_Company Website', 'Employee Source_GlassDoor',\n",
       "       'Employee Source_Indeed', 'Employee Source_Jora',\n",
       "       'Employee Source_LinkedIn', 'Employee Source_Recruit.net',\n",
       "       'Employee Source_Referral', 'Employee Source_Seek',\n",
       "       'Employee Source_Test', 'YearsAtcompany_1_10', 'YearsAtcompany_11+',\n",
       "       'NumCompaniesWorked_0_5', 'NumCompaniesWorked_6+',\n",
       "       'PerformanceRating_3', 'PerformanceRating_4', 'StockOptionLevel0_1',\n",
       "       'StockOptionLevel2_3', 'TotalWorkingYears_1-10',\n",
       "       'TotalWorkingYears_11+', 'TrainingTimesLastYear_0_4',\n",
       "       'TrainingTimesLastYear_5+', 'YearsInCurrentRole0_10',\n",
       "       'YearsInCurrentRole11+', 'YearsSinceLastPromotion0_10',\n",
       "       'YearsSinceLastPromotion11+', 'YearsWithCurrManager0_8',\n",
       "       'YearsWithCurrManager9+'],\n",
       "      dtype='object')"
      ]
     },
     "execution_count": 129,
     "metadata": {},
     "output_type": "execute_result"
    }
   ],
   "source": [
    "df.columns"
   ]
  },
  {
   "cell_type": "code",
   "execution_count": 130,
   "metadata": {},
   "outputs": [],
   "source": [
    "df.drop(['YearsWithCurrManager','YearsAtCompany', 'YearsInCurrentRole','YearsSinceLastPromotion','PerformanceRating','NumCompaniesWorked','StockOptionLevel', 'TotalWorkingYears', 'TrainingTimesLastYear'],axis=1,inplace=True)"
   ]
  },
  {
   "cell_type": "markdown",
   "metadata": {},
   "source": [
    "## BASE MODEL - Logistic Regression "
   ]
  },
  {
   "cell_type": "code",
   "execution_count": 131,
   "metadata": {},
   "outputs": [],
   "source": [
    "X=df.drop('Attrition',axis=1)\n",
    "y=df['Attrition']"
   ]
  },
  {
   "cell_type": "code",
   "execution_count": 132,
   "metadata": {},
   "outputs": [],
   "source": [
    "X_train, X_test, y_train, y_test = train_test_split(X, y, test_size = 0.30, random_state = 42)"
   ]
  },
  {
   "cell_type": "code",
   "execution_count": 133,
   "metadata": {},
   "outputs": [
    {
     "data": {
      "text/plain": [
       "LogisticRegression(C=1.0, class_weight=None, dual=False, fit_intercept=True,\n",
       "                   intercept_scaling=1, l1_ratio=None, max_iter=100,\n",
       "                   multi_class='auto', n_jobs=None, penalty='l2',\n",
       "                   random_state=None, solver='lbfgs', tol=0.0001, verbose=0,\n",
       "                   warm_start=False)"
      ]
     },
     "execution_count": 133,
     "metadata": {},
     "output_type": "execute_result"
    }
   ],
   "source": [
    "logreg_scaled_features = LogisticRegression()\n",
    "logreg_scaled_features.fit(X_train,y_train)"
   ]
  },
  {
   "cell_type": "code",
   "execution_count": 134,
   "metadata": {},
   "outputs": [],
   "source": [
    "y_pred = logreg_scaled_features.predict(X_test)"
   ]
  },
  {
   "cell_type": "code",
   "execution_count": 135,
   "metadata": {},
   "outputs": [
    {
     "data": {
      "image/png": "[encoded data removed]",
      "text/plain": [
       "<Figure size 576x360 with 2 Axes>"
      ]
     },
     "metadata": {
      "needs_background": "light"
     },
     "output_type": "display_data"
    }
   ],
   "source": [
    "cm = confusion_matrix(y_test, y_pred)\n",
    "\n",
    "# label the confusion matrix  \n",
    "conf_matrix=pd.DataFrame(data=cm,columns=['Predicted:0','Predicted:1'],index=['Actual:0','Actual:1'])\n",
    "\n",
    "# set size of the plot\n",
    "plt.figure(figsize = (8,5))\n",
    "\n",
    "# plot a heatmap\n",
    "sns.heatmap(conf_matrix, annot=True,fmt='d',cmap=\"YlGnBu\")\n",
    "plt.show()"
   ]
  },
  {
   "cell_type": "code",
   "execution_count": 136,
   "metadata": {},
   "outputs": [
    {
     "name": "stdout",
     "output_type": "stream",
     "text": [
      "              precision    recall  f1-score   support\n",
      "\n",
      "         0.0       0.84      1.00      0.91      5913\n",
      "         1.0       0.67      0.00      0.00      1118\n",
      "\n",
      "    accuracy                           0.84      7031\n",
      "   macro avg       0.75      0.50      0.46      7031\n",
      "weighted avg       0.81      0.84      0.77      7031\n",
      "\n"
     ]
    }
   ],
   "source": [
    "result = classification_report(y_test,y_pred)\n",
    "\n",
    "# print the result\n",
    "print(result)"
   ]
  },
  {
   "cell_type": "code",
   "execution_count": 137,
   "metadata": {},
   "outputs": [],
   "source": [
    "TN = cm[0,0]\n",
    "\n",
    "# True Positives are denoted by 'TP'\n",
    "# Actual '1' values which are classified correctly\n",
    "TP = cm[1,1]\n",
    "\n",
    "# False Negatives are denoted by 'FN'\n",
    "# Actual '1' values which are classified wrongly as '0'\n",
    "FN = cm[1,0]\n",
    "\n",
    "# False Positives are denoted by 'FP'\n",
    "# Actual 'O' values which are classified wrongly as '1'\n",
    "FP = cm[0,1]"
   ]
  },
  {
   "cell_type": "code",
   "execution_count": 138,
   "metadata": {},
   "outputs": [
    {
     "name": "stdout",
     "output_type": "stream",
     "text": [
      "5912 , 2 , 1116 , 1\n"
     ]
    }
   ],
   "source": [
    "print(TN,',',TP,',',FN,',',FP)"
   ]
  },
  {
   "cell_type": "code",
   "execution_count": 139,
   "metadata": {
    "scrolled": true
   },
   "outputs": [
    {
     "data": {
      "image/png": "[encoded data removed]",
      "text/plain": [
       "<Figure size 576x360 with 1 Axes>"
      ]
     },
     "metadata": {
      "needs_background": "light"
     },
     "output_type": "display_data"
    }
   ],
   "source": [
    "plt.rcParams['figure.figsize']=(8,5)\n",
    "\n",
    "fpr, tpr, thresholds = roc_curve(y_test, y_pred)\n",
    "plt.plot(fpr,tpr)\n",
    "\n",
    "plt.xlim([0.0, 1.0])\n",
    "plt.ylim([0.0, 1.0])\n",
    "\n",
    "plt.plot([0, 1], [0, 1],'r--')\n",
    "\n",
    "plt.title('ROC curve for logistic Regression')\n",
    "plt.xlabel('False positive rate (1-Specificity)')\n",
    "plt.ylabel('True positive rate (Sensitivity)')\n",
    "\n",
    "plt.text(x = 0.05, y = 0.8, s =('AUC Score:',round(metrics.roc_auc_score(y_test, y_pred),4)))\n",
    "plt.grid(True)"
   ]
  },
  {
   "cell_type": "code",
   "execution_count": 140,
   "metadata": {},
   "outputs": [
    {
     "data": {
      "text/html": [
       "<div>\n",
       "<style scoped>\n",
       "    .dataframe tbody tr th:only-of-type {\n",
       "        vertical-align: middle;\n",
       "    }\n",
       "\n",
       "    .dataframe tbody tr th {\n",
       "        vertical-align: top;\n",
       "    }\n",
       "\n",
       "    .dataframe thead th {\n",
       "        text-align: right;\n",
       "    }\n",
       "</style>\n",
       "<table border=\"1\" class=\"dataframe\">\n",
       "  <thead>\n",
       "    <tr style=\"text-align: right;\">\n",
       "      <th></th>\n",
       "      <th>Model</th>\n",
       "      <th>AUC Score</th>\n",
       "      <th>Precision Score</th>\n",
       "      <th>Recall Score</th>\n",
       "      <th>Accuracy Score</th>\n",
       "      <th>f1-score</th>\n",
       "    </tr>\n",
       "  </thead>\n",
       "  <tbody>\n",
       "    <tr>\n",
       "      <td>0</td>\n",
       "      <td>Logistic regression</td>\n",
       "      <td>0.50081</td>\n",
       "      <td>0.666667</td>\n",
       "      <td>0.001789</td>\n",
       "      <td>0.841132</td>\n",
       "      <td>0.003568</td>\n",
       "    </tr>\n",
       "  </tbody>\n",
       "</table>\n",
       "</div>"
      ],
      "text/plain": [
       "                  Model  AUC Score  Precision Score  Recall Score  \\\n",
       "0  Logistic regression     0.50081         0.666667      0.001789   \n",
       "\n",
       "   Accuracy Score  f1-score  \n",
       "0        0.841132  0.003568  "
      ]
     },
     "execution_count": 140,
     "metadata": {},
     "output_type": "execute_result"
    }
   ],
   "source": [
    "cols = ['Model', 'AUC Score', 'Precision Score', 'Recall Score','Accuracy Score','f1-score']\n",
    "\n",
    "# creating an empty dataframe of the colums\n",
    "result_tabulation = pd.DataFrame(columns = cols)\n",
    "Logistic_regression = pd.Series({'Model': \"Logistic regression \",\n",
    "                     'AUC Score' : metrics.roc_auc_score(y_test, y_pred),\n",
    "                 'Precision Score': metrics.precision_score(y_test, y_pred),\n",
    "                 'Recall Score': metrics.recall_score(y_test, y_pred),\n",
    "                 'Accuracy Score': metrics.accuracy_score(y_test, y_pred),\n",
    "                  'f1-score': metrics.f1_score(y_test, y_pred)})\n",
    "\n",
    "\n",
    "# appending our result table\n",
    "result_tabulation = result_tabulation.append(Logistic_regression, ignore_index = True)\n",
    "\n",
    "# view the result table\n",
    "result_tabulation"
   ]
  },
  {
   "cell_type": "markdown",
   "metadata": {},
   "source": [
    "##  Applying Smote"
   ]
  },
  {
   "cell_type": "code",
   "execution_count": 141,
   "metadata": {},
   "outputs": [
    {
     "name": "stdout",
     "output_type": "stream",
     "text": [
      "Resampled dataset shape Counter({1.0: 19725, 0.0: 19725})\n"
     ]
    }
   ],
   "source": [
    "from collections import Counter\n",
    "from imblearn.over_sampling import SMOTE\n",
    "sm = SMOTE(random_state=42)\n",
    "X_res, y_res = sm.fit_resample(X, y)\n",
    "print('Resampled dataset shape %s' % Counter(y_res))"
   ]
  },
  {
   "cell_type": "code",
   "execution_count": 142,
   "metadata": {},
   "outputs": [],
   "source": [
    "X_train, X_test, y_train, y_test = train_test_split(X_res, y_res, test_size = 0.30, random_state = 0)"
   ]
  },
  {
   "cell_type": "code",
   "execution_count": 143,
   "metadata": {},
   "outputs": [
    {
     "data": {
      "text/plain": [
       "LogisticRegression(C=1.0, class_weight=None, dual=False, fit_intercept=True,\n",
       "                   intercept_scaling=1, l1_ratio=None, max_iter=100,\n",
       "                   multi_class='auto', n_jobs=None, penalty='l2',\n",
       "                   random_state=None, solver='lbfgs', tol=0.0001, verbose=0,\n",
       "                   warm_start=False)"
      ]
     },
     "execution_count": 143,
     "metadata": {},
     "output_type": "execute_result"
    }
   ],
   "source": [
    "logreg_scaled_features = LogisticRegression()\n",
    "logreg_scaled_features.fit(X_train,y_train)"
   ]
  },
  {
   "cell_type": "code",
   "execution_count": 144,
   "metadata": {},
   "outputs": [],
   "source": [
    "y_pred = logreg_scaled_features.predict(X_test)"
   ]
  },
  {
   "cell_type": "code",
   "execution_count": 145,
   "metadata": {},
   "outputs": [
    {
     "data": {
      "image/png": "[encoded data removed]",
      "text/plain": [
       "<Figure size 576x360 with 2 Axes>"
      ]
     },
     "metadata": {
      "needs_background": "light"
     },
     "output_type": "display_data"
    }
   ],
   "source": [
    "cm = confusion_matrix(y_test, y_pred)\n",
    "\n",
    "# label the confusion matrix  \n",
    "conf_matrix=pd.DataFrame(data=cm,columns=['Predicted:0','Predicted:1'],index=['Actual:0','Actual:1'])\n",
    "\n",
    "# set size of the plot\n",
    "plt.figure(figsize = (8,5))\n",
    "\n",
    "# plot a heatmap\n",
    "sns.heatmap(conf_matrix, annot=True,fmt='d',cmap=\"YlGnBu\")\n",
    "plt.show()"
   ]
  },
  {
   "cell_type": "code",
   "execution_count": 146,
   "metadata": {},
   "outputs": [
    {
     "name": "stdout",
     "output_type": "stream",
     "text": [
      "              precision    recall  f1-score   support\n",
      "\n",
      "         0.0       0.64      0.65      0.65      5938\n",
      "         1.0       0.64      0.63      0.64      5897\n",
      "\n",
      "    accuracy                           0.64     11835\n",
      "   macro avg       0.64      0.64      0.64     11835\n",
      "weighted avg       0.64      0.64      0.64     11835\n",
      "\n"
     ]
    }
   ],
   "source": [
    "result = classification_report(y_test,y_pred)\n",
    "\n",
    "# print the result\n",
    "print(result)"
   ]
  },
  {
   "cell_type": "code",
   "execution_count": 147,
   "metadata": {},
   "outputs": [],
   "source": [
    "TN = cm[0,0]\n",
    "\n",
    "# True Positives are denoted by 'TP'\n",
    "# Actual '1' values which are classified correctly\n",
    "TP = cm[1,1]\n",
    "\n",
    "# False Negatives are denoted by 'FN'\n",
    "# Actual '1' values which are classified wrongly as '0'\n",
    "FN = cm[1,0]\n",
    "\n",
    "# False Positives are denoted by 'FP'\n",
    "# Actual 'O' values which are classified wrongly as '1'\n",
    "FP = cm[0,1]"
   ]
  },
  {
   "cell_type": "code",
   "execution_count": 148,
   "metadata": {},
   "outputs": [
    {
     "name": "stdout",
     "output_type": "stream",
     "text": [
      "3869 , 3742 , 2155 , 2069\n"
     ]
    }
   ],
   "source": [
    "print(TN,',',TP,',',FN,',',FP)"
   ]
  },
  {
   "cell_type": "code",
   "execution_count": 149,
   "metadata": {},
   "outputs": [
    {
     "data": {
      "image/png": "[encoded data removed]",
      "text/plain": [
       "<Figure size 576x360 with 1 Axes>"
      ]
     },
     "metadata": {
      "needs_background": "light"
     },
     "output_type": "display_data"
    }
   ],
   "source": [
    "plt.rcParams['figure.figsize']=(8,5)\n",
    "\n",
    "fpr, tpr, thresholds = roc_curve(y_test, y_pred)\n",
    "plt.plot(fpr,tpr)\n",
    "\n",
    "plt.xlim([0.0, 1.0])\n",
    "plt.ylim([0.0, 1.0])\n",
    "\n",
    "plt.plot([0, 1], [0, 1],'r--')\n",
    "\n",
    "plt.title('ROC curve')\n",
    "plt.xlabel('False positive rate (1-Specificity)')\n",
    "plt.ylabel('True positive rate (Sensitivity)')\n",
    "\n",
    "plt.text(x = 0.05, y = 0.8, s =('AUC Score:',round(metrics.roc_auc_score(y_test, y_pred),4)))\n",
    "plt.grid(True)"
   ]
  },
  {
   "cell_type": "code",
   "execution_count": 150,
   "metadata": {},
   "outputs": [
    {
     "data": {
      "text/html": [
       "<div>\n",
       "<style scoped>\n",
       "    .dataframe tbody tr th:only-of-type {\n",
       "        vertical-align: middle;\n",
       "    }\n",
       "\n",
       "    .dataframe tbody tr th {\n",
       "        vertical-align: top;\n",
       "    }\n",
       "\n",
       "    .dataframe thead th {\n",
       "        text-align: right;\n",
       "    }\n",
       "</style>\n",
       "<table border=\"1\" class=\"dataframe\">\n",
       "  <thead>\n",
       "    <tr style=\"text-align: right;\">\n",
       "      <th></th>\n",
       "      <th>Model</th>\n",
       "      <th>AUC Score</th>\n",
       "      <th>Precision Score</th>\n",
       "      <th>Recall Score</th>\n",
       "      <th>Accuracy Score</th>\n",
       "      <th>f1-score</th>\n",
       "    </tr>\n",
       "  </thead>\n",
       "  <tbody>\n",
       "    <tr>\n",
       "      <td>0</td>\n",
       "      <td>Logistic regression</td>\n",
       "      <td>0.500810</td>\n",
       "      <td>0.666667</td>\n",
       "      <td>0.001789</td>\n",
       "      <td>0.841132</td>\n",
       "      <td>0.003568</td>\n",
       "    </tr>\n",
       "    <tr>\n",
       "      <td>1</td>\n",
       "      <td>Logistic regression After Smote</td>\n",
       "      <td>0.643063</td>\n",
       "      <td>0.643951</td>\n",
       "      <td>0.634560</td>\n",
       "      <td>0.643093</td>\n",
       "      <td>0.639221</td>\n",
       "    </tr>\n",
       "  </tbody>\n",
       "</table>\n",
       "</div>"
      ],
      "text/plain": [
       "                              Model  AUC Score  Precision Score  Recall Score  \\\n",
       "0              Logistic regression    0.500810         0.666667      0.001789   \n",
       "1  Logistic regression After Smote    0.643063         0.643951      0.634560   \n",
       "\n",
       "   Accuracy Score  f1-score  \n",
       "0        0.841132  0.003568  \n",
       "1        0.643093  0.639221  "
      ]
     },
     "execution_count": 150,
     "metadata": {},
     "output_type": "execute_result"
    }
   ],
   "source": [
    "Logistic_regression_After_smote = pd.Series({'Model': \"Logistic regression After Smote \",\n",
    "                     'AUC Score' : metrics.roc_auc_score(y_test, y_pred),\n",
    "                 'Precision Score': metrics.precision_score(y_test, y_pred),\n",
    "                 'Recall Score': metrics.recall_score(y_test, y_pred),\n",
    "                 'Accuracy Score': metrics.accuracy_score(y_test, y_pred),\n",
    "                  'f1-score': metrics.f1_score(y_test, y_pred)})\n",
    "\n",
    "\n",
    "# appending our result table\n",
    "result_tabulation = result_tabulation.append(Logistic_regression_After_smote, ignore_index = True)\n",
    "\n",
    "# view the result table\n",
    "result_tabulation"
   ]
  },
  {
   "cell_type": "code",
   "execution_count": 151,
   "metadata": {},
   "outputs": [
    {
     "data": {
      "image/png": "[encoded data removed]",
      "text/plain": [
       "<Figure size 2016x720 with 2 Axes>"
      ]
     },
     "metadata": {
      "needs_background": "light"
     },
     "output_type": "display_data"
    }
   ],
   "source": [
    "plt.rcParams['figure.figsize']=(28,10)\n",
    "\n",
    "result_tabulation.plot(secondary_y=['Accuracy Score','Precision Score'], mark_right=True)\n",
    "\n",
    "plt.xticks([0,1,2,3,4,5,6,7,8,9], list(result_tabulation.Model))\n",
    "plt.show()"
   ]
  },
  {
   "cell_type": "code",
   "execution_count": 152,
   "metadata": {},
   "outputs": [],
   "source": [
    "result_tabulation.to_excel('result.xlsx')"
   ]
  },
  {
   "cell_type": "code",
   "execution_count": 153,
   "metadata": {},
   "outputs": [],
   "source": [
    "dfnew=pd.concat([X_res,y_res],axis=1)"
   ]
  },
  {
   "cell_type": "code",
   "execution_count": 154,
   "metadata": {},
   "outputs": [
    {
     "data": {
      "text/html": [
       "<div>\n",
       "<style scoped>\n",
       "    .dataframe tbody tr th:only-of-type {\n",
       "        vertical-align: middle;\n",
       "    }\n",
       "\n",
       "    .dataframe tbody tr th {\n",
       "        vertical-align: top;\n",
       "    }\n",
       "\n",
       "    .dataframe thead th {\n",
       "        text-align: right;\n",
       "    }\n",
       "</style>\n",
       "<table border=\"1\" class=\"dataframe\">\n",
       "  <thead>\n",
       "    <tr style=\"text-align: right;\">\n",
       "      <th></th>\n",
       "      <th>Age</th>\n",
       "      <th>DailyRate</th>\n",
       "      <th>DistanceFromHome</th>\n",
       "      <th>EnvironmentSatisfaction</th>\n",
       "      <th>HourlyRate</th>\n",
       "      <th>JobInvolvement</th>\n",
       "      <th>JobLevel</th>\n",
       "      <th>JobSatisfaction</th>\n",
       "      <th>MonthlyIncome</th>\n",
       "      <th>MonthlyRate</th>\n",
       "      <th>...</th>\n",
       "      <th>TotalWorkingYears_11+</th>\n",
       "      <th>TrainingTimesLastYear_0_4</th>\n",
       "      <th>TrainingTimesLastYear_5+</th>\n",
       "      <th>YearsInCurrentRole0_10</th>\n",
       "      <th>YearsInCurrentRole11+</th>\n",
       "      <th>YearsSinceLastPromotion0_10</th>\n",
       "      <th>YearsSinceLastPromotion11+</th>\n",
       "      <th>YearsWithCurrManager0_8</th>\n",
       "      <th>YearsWithCurrManager9+</th>\n",
       "      <th>Attrition</th>\n",
       "    </tr>\n",
       "  </thead>\n",
       "  <tbody>\n",
       "    <tr>\n",
       "      <td>0</td>\n",
       "      <td>41.0</td>\n",
       "      <td>1102.0</td>\n",
       "      <td>1.0</td>\n",
       "      <td>2.0</td>\n",
       "      <td>94.0</td>\n",
       "      <td>3.0</td>\n",
       "      <td>2.0</td>\n",
       "      <td>4.0</td>\n",
       "      <td>8.698514</td>\n",
       "      <td>19479.0</td>\n",
       "      <td>...</td>\n",
       "      <td>0.0</td>\n",
       "      <td>0.0</td>\n",
       "      <td>0.0</td>\n",
       "      <td>1.0</td>\n",
       "      <td>0.0</td>\n",
       "      <td>0.0</td>\n",
       "      <td>0.0</td>\n",
       "      <td>1.0</td>\n",
       "      <td>0.0</td>\n",
       "      <td>1.0</td>\n",
       "    </tr>\n",
       "    <tr>\n",
       "      <td>1</td>\n",
       "      <td>41.0</td>\n",
       "      <td>1102.0</td>\n",
       "      <td>1.0</td>\n",
       "      <td>2.0</td>\n",
       "      <td>94.0</td>\n",
       "      <td>3.0</td>\n",
       "      <td>2.0</td>\n",
       "      <td>4.0</td>\n",
       "      <td>8.698514</td>\n",
       "      <td>19479.0</td>\n",
       "      <td>...</td>\n",
       "      <td>0.0</td>\n",
       "      <td>0.0</td>\n",
       "      <td>0.0</td>\n",
       "      <td>1.0</td>\n",
       "      <td>0.0</td>\n",
       "      <td>0.0</td>\n",
       "      <td>0.0</td>\n",
       "      <td>1.0</td>\n",
       "      <td>0.0</td>\n",
       "      <td>1.0</td>\n",
       "    </tr>\n",
       "    <tr>\n",
       "      <td>2</td>\n",
       "      <td>41.0</td>\n",
       "      <td>1102.0</td>\n",
       "      <td>1.0</td>\n",
       "      <td>2.0</td>\n",
       "      <td>94.0</td>\n",
       "      <td>3.0</td>\n",
       "      <td>2.0</td>\n",
       "      <td>4.0</td>\n",
       "      <td>8.698514</td>\n",
       "      <td>19479.0</td>\n",
       "      <td>...</td>\n",
       "      <td>0.0</td>\n",
       "      <td>0.0</td>\n",
       "      <td>0.0</td>\n",
       "      <td>1.0</td>\n",
       "      <td>0.0</td>\n",
       "      <td>0.0</td>\n",
       "      <td>0.0</td>\n",
       "      <td>1.0</td>\n",
       "      <td>0.0</td>\n",
       "      <td>1.0</td>\n",
       "    </tr>\n",
       "    <tr>\n",
       "      <td>3</td>\n",
       "      <td>41.0</td>\n",
       "      <td>1102.0</td>\n",
       "      <td>1.0</td>\n",
       "      <td>2.0</td>\n",
       "      <td>94.0</td>\n",
       "      <td>3.0</td>\n",
       "      <td>2.0</td>\n",
       "      <td>4.0</td>\n",
       "      <td>8.698514</td>\n",
       "      <td>19479.0</td>\n",
       "      <td>...</td>\n",
       "      <td>0.0</td>\n",
       "      <td>0.0</td>\n",
       "      <td>0.0</td>\n",
       "      <td>1.0</td>\n",
       "      <td>0.0</td>\n",
       "      <td>0.0</td>\n",
       "      <td>0.0</td>\n",
       "      <td>1.0</td>\n",
       "      <td>0.0</td>\n",
       "      <td>1.0</td>\n",
       "    </tr>\n",
       "    <tr>\n",
       "      <td>4</td>\n",
       "      <td>41.0</td>\n",
       "      <td>1102.0</td>\n",
       "      <td>1.0</td>\n",
       "      <td>2.0</td>\n",
       "      <td>94.0</td>\n",
       "      <td>3.0</td>\n",
       "      <td>2.0</td>\n",
       "      <td>4.0</td>\n",
       "      <td>8.698514</td>\n",
       "      <td>19479.0</td>\n",
       "      <td>...</td>\n",
       "      <td>0.0</td>\n",
       "      <td>0.0</td>\n",
       "      <td>0.0</td>\n",
       "      <td>1.0</td>\n",
       "      <td>0.0</td>\n",
       "      <td>0.0</td>\n",
       "      <td>0.0</td>\n",
       "      <td>1.0</td>\n",
       "      <td>0.0</td>\n",
       "      <td>1.0</td>\n",
       "    </tr>\n",
       "    <tr>\n",
       "      <td>...</td>\n",
       "      <td>...</td>\n",
       "      <td>...</td>\n",
       "      <td>...</td>\n",
       "      <td>...</td>\n",
       "      <td>...</td>\n",
       "      <td>...</td>\n",
       "      <td>...</td>\n",
       "      <td>...</td>\n",
       "      <td>...</td>\n",
       "      <td>...</td>\n",
       "      <td>...</td>\n",
       "      <td>...</td>\n",
       "      <td>...</td>\n",
       "      <td>...</td>\n",
       "      <td>...</td>\n",
       "      <td>...</td>\n",
       "      <td>...</td>\n",
       "      <td>...</td>\n",
       "      <td>...</td>\n",
       "      <td>...</td>\n",
       "      <td>...</td>\n",
       "    </tr>\n",
       "    <tr>\n",
       "      <td>39445</td>\n",
       "      <td>36.0</td>\n",
       "      <td>1218.0</td>\n",
       "      <td>9.0</td>\n",
       "      <td>1.0</td>\n",
       "      <td>39.0</td>\n",
       "      <td>3.0</td>\n",
       "      <td>1.0</td>\n",
       "      <td>4.0</td>\n",
       "      <td>7.576610</td>\n",
       "      <td>10910.0</td>\n",
       "      <td>...</td>\n",
       "      <td>0.0</td>\n",
       "      <td>1.0</td>\n",
       "      <td>0.0</td>\n",
       "      <td>0.0</td>\n",
       "      <td>0.0</td>\n",
       "      <td>0.0</td>\n",
       "      <td>0.0</td>\n",
       "      <td>0.0</td>\n",
       "      <td>0.0</td>\n",
       "      <td>1.0</td>\n",
       "    </tr>\n",
       "    <tr>\n",
       "      <td>39446</td>\n",
       "      <td>45.0</td>\n",
       "      <td>306.0</td>\n",
       "      <td>26.0</td>\n",
       "      <td>1.0</td>\n",
       "      <td>100.0</td>\n",
       "      <td>3.0</td>\n",
       "      <td>2.0</td>\n",
       "      <td>1.0</td>\n",
       "      <td>8.363342</td>\n",
       "      <td>5630.0</td>\n",
       "      <td>...</td>\n",
       "      <td>0.0</td>\n",
       "      <td>1.0</td>\n",
       "      <td>0.0</td>\n",
       "      <td>1.0</td>\n",
       "      <td>0.0</td>\n",
       "      <td>0.0</td>\n",
       "      <td>0.0</td>\n",
       "      <td>0.0</td>\n",
       "      <td>0.0</td>\n",
       "      <td>1.0</td>\n",
       "    </tr>\n",
       "    <tr>\n",
       "      <td>39447</td>\n",
       "      <td>50.0</td>\n",
       "      <td>562.0</td>\n",
       "      <td>8.0</td>\n",
       "      <td>4.0</td>\n",
       "      <td>97.0</td>\n",
       "      <td>3.0</td>\n",
       "      <td>2.0</td>\n",
       "      <td>1.0</td>\n",
       "      <td>8.589328</td>\n",
       "      <td>6225.0</td>\n",
       "      <td>...</td>\n",
       "      <td>0.0</td>\n",
       "      <td>0.0</td>\n",
       "      <td>1.0</td>\n",
       "      <td>1.0</td>\n",
       "      <td>0.0</td>\n",
       "      <td>0.0</td>\n",
       "      <td>0.0</td>\n",
       "      <td>1.0</td>\n",
       "      <td>0.0</td>\n",
       "      <td>1.0</td>\n",
       "    </tr>\n",
       "    <tr>\n",
       "      <td>39448</td>\n",
       "      <td>31.0</td>\n",
       "      <td>561.0</td>\n",
       "      <td>3.0</td>\n",
       "      <td>2.0</td>\n",
       "      <td>58.0</td>\n",
       "      <td>3.0</td>\n",
       "      <td>1.0</td>\n",
       "      <td>3.0</td>\n",
       "      <td>7.967973</td>\n",
       "      <td>14168.0</td>\n",
       "      <td>...</td>\n",
       "      <td>0.0</td>\n",
       "      <td>1.0</td>\n",
       "      <td>0.0</td>\n",
       "      <td>1.0</td>\n",
       "      <td>0.0</td>\n",
       "      <td>1.0</td>\n",
       "      <td>0.0</td>\n",
       "      <td>1.0</td>\n",
       "      <td>0.0</td>\n",
       "      <td>1.0</td>\n",
       "    </tr>\n",
       "    <tr>\n",
       "      <td>39449</td>\n",
       "      <td>35.0</td>\n",
       "      <td>130.0</td>\n",
       "      <td>25.0</td>\n",
       "      <td>4.0</td>\n",
       "      <td>96.0</td>\n",
       "      <td>3.0</td>\n",
       "      <td>1.0</td>\n",
       "      <td>2.0</td>\n",
       "      <td>7.612337</td>\n",
       "      <td>16612.0</td>\n",
       "      <td>...</td>\n",
       "      <td>0.0</td>\n",
       "      <td>1.0</td>\n",
       "      <td>0.0</td>\n",
       "      <td>1.0</td>\n",
       "      <td>0.0</td>\n",
       "      <td>1.0</td>\n",
       "      <td>0.0</td>\n",
       "      <td>1.0</td>\n",
       "      <td>0.0</td>\n",
       "      <td>1.0</td>\n",
       "    </tr>\n",
       "  </tbody>\n",
       "</table>\n",
       "<p>39450 rows × 67 columns</p>\n",
       "</div>"
      ],
      "text/plain": [
       "        Age  DailyRate  DistanceFromHome  EnvironmentSatisfaction  HourlyRate  \\\n",
       "0      41.0     1102.0               1.0                      2.0        94.0   \n",
       "1      41.0     1102.0               1.0                      2.0        94.0   \n",
       "2      41.0     1102.0               1.0                      2.0        94.0   \n",
       "3      41.0     1102.0               1.0                      2.0        94.0   \n",
       "4      41.0     1102.0               1.0                      2.0        94.0   \n",
       "...     ...        ...               ...                      ...         ...   \n",
       "39445  36.0     1218.0               9.0                      1.0        39.0   \n",
       "39446  45.0      306.0              26.0                      1.0       100.0   \n",
       "39447  50.0      562.0               8.0                      4.0        97.0   \n",
       "39448  31.0      561.0               3.0                      2.0        58.0   \n",
       "39449  35.0      130.0              25.0                      4.0        96.0   \n",
       "\n",
       "       JobInvolvement  JobLevel  JobSatisfaction  MonthlyIncome  MonthlyRate  \\\n",
       "0                 3.0       2.0              4.0       8.698514      19479.0   \n",
       "1                 3.0       2.0              4.0       8.698514      19479.0   \n",
       "2                 3.0       2.0              4.0       8.698514      19479.0   \n",
       "3                 3.0       2.0              4.0       8.698514      19479.0   \n",
       "4                 3.0       2.0              4.0       8.698514      19479.0   \n",
       "...               ...       ...              ...            ...          ...   \n",
       "39445             3.0       1.0              4.0       7.576610      10910.0   \n",
       "39446             3.0       2.0              1.0       8.363342       5630.0   \n",
       "39447             3.0       2.0              1.0       8.589328       6225.0   \n",
       "39448             3.0       1.0              3.0       7.967973      14168.0   \n",
       "39449             3.0       1.0              2.0       7.612337      16612.0   \n",
       "\n",
       "       ...  TotalWorkingYears_11+  TrainingTimesLastYear_0_4  \\\n",
       "0      ...                    0.0                        0.0   \n",
       "1      ...                    0.0                        0.0   \n",
       "2      ...                    0.0                        0.0   \n",
       "3      ...                    0.0                        0.0   \n",
       "4      ...                    0.0                        0.0   \n",
       "...    ...                    ...                        ...   \n",
       "39445  ...                    0.0                        1.0   \n",
       "39446  ...                    0.0                        1.0   \n",
       "39447  ...                    0.0                        0.0   \n",
       "39448  ...                    0.0                        1.0   \n",
       "39449  ...                    0.0                        1.0   \n",
       "\n",
       "       TrainingTimesLastYear_5+  YearsInCurrentRole0_10  \\\n",
       "0                           0.0                     1.0   \n",
       "1                           0.0                     1.0   \n",
       "2                           0.0                     1.0   \n",
       "3                           0.0                     1.0   \n",
       "4                           0.0                     1.0   \n",
       "...                         ...                     ...   \n",
       "39445                       0.0                     0.0   \n",
       "39446                       0.0                     1.0   \n",
       "39447                       1.0                     1.0   \n",
       "39448                       0.0                     1.0   \n",
       "39449                       0.0                     1.0   \n",
       "\n",
       "       YearsInCurrentRole11+  YearsSinceLastPromotion0_10  \\\n",
       "0                        0.0                          0.0   \n",
       "1                        0.0                          0.0   \n",
       "2                        0.0                          0.0   \n",
       "3                        0.0                          0.0   \n",
       "4                        0.0                          0.0   \n",
       "...                      ...                          ...   \n",
       "39445                    0.0                          0.0   \n",
       "39446                    0.0                          0.0   \n",
       "39447                    0.0                          0.0   \n",
       "39448                    0.0                          1.0   \n",
       "39449                    0.0                          1.0   \n",
       "\n",
       "       YearsSinceLastPromotion11+  YearsWithCurrManager0_8  \\\n",
       "0                             0.0                      1.0   \n",
       "1                             0.0                      1.0   \n",
       "2                             0.0                      1.0   \n",
       "3                             0.0                      1.0   \n",
       "4                             0.0                      1.0   \n",
       "...                           ...                      ...   \n",
       "39445                         0.0                      0.0   \n",
       "39446                         0.0                      0.0   \n",
       "39447                         0.0                      1.0   \n",
       "39448                         0.0                      1.0   \n",
       "39449                         0.0                      1.0   \n",
       "\n",
       "       YearsWithCurrManager9+  Attrition  \n",
       "0                         0.0        1.0  \n",
       "1                         0.0        1.0  \n",
       "2                         0.0        1.0  \n",
       "3                         0.0        1.0  \n",
       "4                         0.0        1.0  \n",
       "...                       ...        ...  \n",
       "39445                     0.0        1.0  \n",
       "39446                     0.0        1.0  \n",
       "39447                     0.0        1.0  \n",
       "39448                     0.0        1.0  \n",
       "39449                     0.0        1.0  \n",
       "\n",
       "[39450 rows x 67 columns]"
      ]
     },
     "execution_count": 154,
     "metadata": {},
     "output_type": "execute_result"
    }
   ],
   "source": [
    "dfnew"
   ]
  },
  {
   "cell_type": "code",
   "execution_count": 155,
   "metadata": {},
   "outputs": [],
   "source": [
    "dfnew.to_excel('New IBM.xlsx')"
   ]
  },
  {
   "cell_type": "code",
   "execution_count": 156,
   "metadata": {},
   "outputs": [],
   "source": [
    "X=dfnew.drop('Attrition',axis=1)\n",
    "y=dfnew['Attrition']"
   ]
  },
  {
   "cell_type": "code",
   "execution_count": 157,
   "metadata": {},
   "outputs": [
    {
     "name": "stdout",
     "output_type": "stream",
     "text": [
      "[False False False False False False False False False False False False\n",
      " False False False False False False False False False False  True False\n",
      " False False False False False False False False False False False False\n",
      " False False False False False False False False False False False False\n",
      " False False False False False False False False False False False False\n",
      " False False False False False False]\n",
      "[50 63 56 39 61 32 49 41 44 66 54 59 46 38  8 27 48 55 31 51 13 47  1  2\n",
      "  4  3  5 65 12 35 11 28  7 30 29 52 53 58  6 24 20 22 23 19 18 25 21 64\n",
      " 62 36 34 33 43 40  9 10 57 37 15 14 42 26 45 60 17 16]\n"
     ]
    }
   ],
   "source": [
    "# from sklearn.feature_selection import RFE\n",
    "from sklearn.feature_selection import RFE\n",
    "model = LogisticRegression()\n",
    "#Initializing RFE model\n",
    "rfe = RFE(model, 1)\n",
    "#Transforming data using RFE\n",
    "X_rfe = rfe.fit_transform(X,y)  \n",
    "#Fitting the data to model\n",
    "model.fit(X_rfe,y)\n",
    "print(rfe.support_)\n",
    "print(rfe.ranking_)\n",
    "#no of features\n",
    "nof_list=np.arange(1,67)            \n",
    "high_score=0\n",
    "\n"
   ]
  },
  {
   "cell_type": "code",
   "execution_count": 158,
   "metadata": {},
   "outputs": [
    {
     "name": "stdout",
     "output_type": "stream",
     "text": [
      "Optimum number of features: 52\n",
      "Score with 52 features: 0.731812\n"
     ]
    }
   ],
   "source": [
    "nof=0           \n",
    "score_list =[]\n",
    "for n in range(len(nof_list)):\n",
    "    X_train, X_test, y_train, y_test = train_test_split(X,y, test_size = 0.3, random_state = 0)\n",
    "    model = LogisticRegression()\n",
    "    rfe = RFE(model,nof_list[n])\n",
    "    X_train_rfe = rfe.fit_transform(X_train,y_train)\n",
    "    X_test_rfe = rfe.transform(X_test)\n",
    "    model.fit(X_train_rfe,y_train)\n",
    "    score = model.score(X_test_rfe,y_test)\n",
    "    score_list.append(score)\n",
    "    if(score>high_score):\n",
    "        high_score = score\n",
    "        nof = nof_list[n]\n",
    "print(\"Optimum number of features: %d\" %nof)\n",
    "print(\"Score with %d features: %f\" % (nof, high_score))"
   ]
  },
  {
   "cell_type": "code",
   "execution_count": 159,
   "metadata": {},
   "outputs": [
    {
     "name": "stdout",
     "output_type": "stream",
     "text": [
      "Index(['EnvironmentSatisfaction', 'JobInvolvement', 'JobSatisfaction',\n",
      "       'MonthlyIncome', 'Gender', 'BusinessTravel_Travel_Frequently',\n",
      "       'BusinessTravel_Travel_Rarely', 'Education_Doctorate',\n",
      "       'Department_Research & Development', 'EducationField_Life Sciences',\n",
      "       'EducationField_Marketing', 'EducationField_Medical',\n",
      "       'EducationField_Other', 'EducationField_Technical Degree',\n",
      "       'JobRole_Human Resources', 'JobRole_Laboratory Technician',\n",
      "       'JobRole_Manager', 'JobRole_Manufacturing Director',\n",
      "       'JobRole_Research Director', 'JobRole_Research Scientist',\n",
      "       'JobRole_Sales Executive', 'OverTime_Yes',\n",
      "       'Employee Source_Company Website', 'Employee Source_GlassDoor',\n",
      "       'Employee Source_Indeed', 'Employee Source_Jora',\n",
      "       'Employee Source_LinkedIn', 'Employee Source_Recruit.net',\n",
      "       'Employee Source_Referral', 'Employee Source_Seek',\n",
      "       'YearsAtcompany_11+', 'NumCompaniesWorked_0_5', 'NumCompaniesWorked_6+',\n",
      "       'PerformanceRating_3', 'PerformanceRating_4', 'StockOptionLevel0_1',\n",
      "       'StockOptionLevel2_3', 'TotalWorkingYears_11+',\n",
      "       'TrainingTimesLastYear_0_4', 'TrainingTimesLastYear_5+',\n",
      "       'YearsInCurrentRole0_10', 'YearsInCurrentRole11+',\n",
      "       'YearsSinceLastPromotion0_10', 'YearsWithCurrManager0_8',\n",
      "       'YearsWithCurrManager9+'],\n",
      "      dtype='object')\n"
     ]
    }
   ],
   "source": [
    "cols = list(X.columns)\n",
    "model = LogisticRegression()\n",
    "#Initializing RFE model\n",
    "rfe = RFE(model, 45)             \n",
    "#Transforming data using RFE\n",
    "X_rfe = rfe.fit_transform(X,y)  \n",
    "#Fitting the data to model\n",
    "model.fit(X_rfe,y)              \n",
    "temp = pd.Series(rfe.support_,index = cols)\n",
    "selected_features_rfe = temp[temp==True].index\n",
    "print(selected_features_rfe)"
   ]
  },
  {
   "cell_type": "code",
   "execution_count": 160,
   "metadata": {},
   "outputs": [],
   "source": [
    "dfn=dfnew[['EnvironmentSatisfaction', 'JobInvolvement', 'JobSatisfaction',\n",
    "       'MonthlyIncome', 'Gender', 'BusinessTravel_Travel_Frequently',\n",
    "       'BusinessTravel_Travel_Rarely', 'Education_Doctorate',\n",
    "       'Department_Research & Development', 'EducationField_Life Sciences',\n",
    "       'EducationField_Marketing', 'EducationField_Medical',\n",
    "       'EducationField_Other', 'EducationField_Technical Degree',\n",
    "       'JobRole_Human Resources', 'JobRole_Laboratory Technician',\n",
    "       'JobRole_Manager', 'JobRole_Manufacturing Director',\n",
    "       'JobRole_Research Director', 'JobRole_Research Scientist',\n",
    "       'JobRole_Sales Executive', 'OverTime_Yes',\n",
    "       'Employee Source_Company Website', 'Employee Source_GlassDoor',\n",
    "       'Employee Source_Indeed', 'Employee Source_Jora',\n",
    "       'Employee Source_LinkedIn', 'Employee Source_Recruit.net',\n",
    "       'Employee Source_Referral', 'Employee Source_Seek',\n",
    "       'YearsAtcompany_11+', 'NumCompaniesWorked_0_5', 'NumCompaniesWorked_6+',\n",
    "       'PerformanceRating_3', 'PerformanceRating_4', 'StockOptionLevel0_1',\n",
    "       'StockOptionLevel2_3', 'TotalWorkingYears_11+',\n",
    "       'TrainingTimesLastYear_0_4', 'TrainingTimesLastYear_5+',\n",
    "       'YearsInCurrentRole0_10', 'YearsInCurrentRole11+',\n",
    "       'YearsSinceLastPromotion0_10', 'YearsWithCurrManager0_8',\n",
    "       'YearsWithCurrManager9+']]"
   ]
  },
  {
   "cell_type": "code",
   "execution_count": 161,
   "metadata": {},
   "outputs": [],
   "source": [
    "X=dfn\n",
    "y=dfnew['Attrition']"
   ]
  },
  {
   "cell_type": "code",
   "execution_count": 162,
   "metadata": {},
   "outputs": [],
   "source": [
    "X_train, X_test, y_train, y_test = train_test_split(X, y, test_size = 0.30, random_state = 42)"
   ]
  },
  {
   "cell_type": "code",
   "execution_count": 163,
   "metadata": {},
   "outputs": [
    {
     "data": {
      "text/plain": [
       "LogisticRegression(C=1.0, class_weight=None, dual=False, fit_intercept=True,\n",
       "                   intercept_scaling=1, l1_ratio=None, max_iter=100,\n",
       "                   multi_class='auto', n_jobs=None, penalty='l2',\n",
       "                   random_state=None, solver='lbfgs', tol=0.0001, verbose=0,\n",
       "                   warm_start=False)"
      ]
     },
     "execution_count": 163,
     "metadata": {},
     "output_type": "execute_result"
    }
   ],
   "source": [
    "logreg_scaled_features = LogisticRegression()\n",
    "logreg_scaled_features.fit(X_train,y_train)"
   ]
  },
  {
   "cell_type": "code",
   "execution_count": 164,
   "metadata": {},
   "outputs": [],
   "source": [
    "y_pred = logreg_scaled_features.predict(X_test)"
   ]
  },
  {
   "cell_type": "code",
   "execution_count": 165,
   "metadata": {},
   "outputs": [
    {
     "data": {
      "image/png": "[encoded data removed]",
      "text/plain": [
       "<Figure size 576x360 with 2 Axes>"
      ]
     },
     "metadata": {
      "needs_background": "light"
     },
     "output_type": "display_data"
    }
   ],
   "source": [
    "cm = confusion_matrix(y_test, y_pred)\n",
    "\n",
    "# label the confusion matrix  \n",
    "conf_matrix=pd.DataFrame(data=cm,columns=['Predicted:0','Predicted:1'],index=['Actual:0','Actual:1'])\n",
    "\n",
    "# set size of the plot\n",
    "plt.figure(figsize = (8,5))\n",
    "\n",
    "# plot a heatmap\n",
    "sns.heatmap(conf_matrix, annot=True,fmt='d',cmap=\"YlGnBu\")\n",
    "plt.show()"
   ]
  },
  {
   "cell_type": "code",
   "execution_count": 166,
   "metadata": {},
   "outputs": [
    {
     "name": "stdout",
     "output_type": "stream",
     "text": [
      "              precision    recall  f1-score   support\n",
      "\n",
      "         0.0       0.69      0.78      0.73      5869\n",
      "         1.0       0.75      0.65      0.70      5966\n",
      "\n",
      "    accuracy                           0.72     11835\n",
      "   macro avg       0.72      0.72      0.72     11835\n",
      "weighted avg       0.72      0.72      0.72     11835\n",
      "\n"
     ]
    }
   ],
   "source": [
    "result = classification_report(y_test,y_pred)\n",
    "\n",
    "# print the result\n",
    "print(result)"
   ]
  },
  {
   "cell_type": "code",
   "execution_count": 167,
   "metadata": {},
   "outputs": [],
   "source": [
    "TN = cm[0,0]\n",
    "\n",
    "# True Positives are denoted by 'TP'\n",
    "# Actual '1' values which are classified correctly\n",
    "TP = cm[1,1]\n",
    "\n",
    "# False Negatives are denoted by 'FN'\n",
    "# Actual '1' values which are classified wrongly as '0'\n",
    "FN = cm[1,0]\n",
    "\n",
    "# False Positives are denoted by 'FP'\n",
    "# Actual 'O' values which are classified wrongly as '1'\n",
    "FP = cm[0,1]"
   ]
  },
  {
   "cell_type": "code",
   "execution_count": 168,
   "metadata": {},
   "outputs": [
    {
     "name": "stdout",
     "output_type": "stream",
     "text": [
      "4603 , 3879 , 2087 , 1266\n"
     ]
    }
   ],
   "source": [
    "print(TN,',',TP,',',FN,',',FP)"
   ]
  },
  {
   "cell_type": "code",
   "execution_count": 169,
   "metadata": {
    "scrolled": true
   },
   "outputs": [
    {
     "data": {
      "image/png": "[encoded data removed]",
      "text/plain": [
       "<Figure size 576x360 with 1 Axes>"
      ]
     },
     "metadata": {
      "needs_background": "light"
     },
     "output_type": "display_data"
    }
   ],
   "source": [
    "plt.rcParams['figure.figsize']=(8,5)\n",
    "\n",
    "fpr, tpr, thresholds = roc_curve(y_test, y_pred)\n",
    "plt.plot(fpr,tpr)\n",
    "\n",
    "plt.xlim([0.0, 1.0])\n",
    "plt.ylim([0.0, 1.0])\n",
    "\n",
    "plt.plot([0, 1], [0, 1],'r--')\n",
    "\n",
    "plt.title('ROC curve')\n",
    "plt.xlabel('False positive rate (1-Specificity)')\n",
    "plt.ylabel('True positive rate (Sensitivity)')\n",
    "\n",
    "plt.text(x = 0.05, y = 0.8, s =('AUC Score:',round(metrics.roc_auc_score(y_test, y_pred),4)))\n",
    "plt.grid(True)"
   ]
  },
  {
   "cell_type": "code",
   "execution_count": 170,
   "metadata": {},
   "outputs": [
    {
     "data": {
      "text/html": [
       "<div>\n",
       "<style scoped>\n",
       "    .dataframe tbody tr th:only-of-type {\n",
       "        vertical-align: middle;\n",
       "    }\n",
       "\n",
       "    .dataframe tbody tr th {\n",
       "        vertical-align: top;\n",
       "    }\n",
       "\n",
       "    .dataframe thead th {\n",
       "        text-align: right;\n",
       "    }\n",
       "</style>\n",
       "<table border=\"1\" class=\"dataframe\">\n",
       "  <thead>\n",
       "    <tr style=\"text-align: right;\">\n",
       "      <th></th>\n",
       "      <th>Model</th>\n",
       "      <th>AUC Score</th>\n",
       "      <th>Precision Score</th>\n",
       "      <th>Recall Score</th>\n",
       "      <th>Accuracy Score</th>\n",
       "      <th>f1-score</th>\n",
       "    </tr>\n",
       "  </thead>\n",
       "  <tbody>\n",
       "    <tr>\n",
       "      <td>0</td>\n",
       "      <td>Logistic regression</td>\n",
       "      <td>0.500810</td>\n",
       "      <td>0.666667</td>\n",
       "      <td>0.001789</td>\n",
       "      <td>0.841132</td>\n",
       "      <td>0.003568</td>\n",
       "    </tr>\n",
       "    <tr>\n",
       "      <td>1</td>\n",
       "      <td>Logistic regression After Smote</td>\n",
       "      <td>0.643063</td>\n",
       "      <td>0.643951</td>\n",
       "      <td>0.634560</td>\n",
       "      <td>0.643093</td>\n",
       "      <td>0.639221</td>\n",
       "    </tr>\n",
       "    <tr>\n",
       "      <td>2</td>\n",
       "      <td>Logistic regression after feature selection</td>\n",
       "      <td>0.717237</td>\n",
       "      <td>0.753936</td>\n",
       "      <td>0.650184</td>\n",
       "      <td>0.716688</td>\n",
       "      <td>0.698227</td>\n",
       "    </tr>\n",
       "  </tbody>\n",
       "</table>\n",
       "</div>"
      ],
      "text/plain": [
       "                                         Model  AUC Score  Precision Score  \\\n",
       "0                         Logistic regression    0.500810         0.666667   \n",
       "1             Logistic regression After Smote    0.643063         0.643951   \n",
       "2  Logistic regression after feature selection   0.717237         0.753936   \n",
       "\n",
       "   Recall Score  Accuracy Score  f1-score  \n",
       "0      0.001789        0.841132  0.003568  \n",
       "1      0.634560        0.643093  0.639221  \n",
       "2      0.650184        0.716688  0.698227  "
      ]
     },
     "execution_count": 170,
     "metadata": {},
     "output_type": "execute_result"
    }
   ],
   "source": [
    "Logistic_regression_after_FS = pd.Series({'Model': \"Logistic regression after feature selection\",\n",
    "                     'AUC Score' : metrics.roc_auc_score(y_test, y_pred),\n",
    "                 'Precision Score': metrics.precision_score(y_test, y_pred),\n",
    "                 'Recall Score': metrics.recall_score(y_test, y_pred),\n",
    "                 'Accuracy Score': metrics.accuracy_score(y_test, y_pred),\n",
    "                  'f1-score': metrics.f1_score(y_test, y_pred)})\n",
    "\n",
    "\n",
    "# appending our result table\n",
    "result_tabulation = result_tabulation.append(Logistic_regression_after_FS, ignore_index = True)\n",
    "\n",
    "# view the result table\n",
    "result_tabulation"
   ]
  },
  {
   "cell_type": "markdown",
   "metadata": {},
   "source": [
    "## Decision Tree"
   ]
  },
  {
   "cell_type": "code",
   "execution_count": 171,
   "metadata": {},
   "outputs": [],
   "source": [
    "decision_tree_classification = DecisionTreeClassifier(criterion='entropy')\n",
    "\n",
    "# train model\n",
    "decision_tree = decision_tree_classification.fit(X_train, y_train)"
   ]
  },
  {
   "cell_type": "code",
   "execution_count": 172,
   "metadata": {},
   "outputs": [],
   "source": [
    "decision_tree_pred = decision_tree.predict(X_test)"
   ]
  },
  {
   "cell_type": "code",
   "execution_count": 173,
   "metadata": {},
   "outputs": [
    {
     "data": {
      "image/png": "[encoded data removed]",
      "text/plain": [
       "<Figure size 576x360 with 2 Axes>"
      ]
     },
     "metadata": {
      "needs_background": "light"
     },
     "output_type": "display_data"
    }
   ],
   "source": [
    "cm = confusion_matrix(y_test, decision_tree_pred)\n",
    "\n",
    "# label the confusion matrix  \n",
    "conf_matrix = pd.DataFrame(data = cm, columns = ['Predicted:0','Predicted:1'], index = ['Actual:0','Actual:1'])\n",
    "\n",
    "# set sizeof the plot\n",
    "plt.figure(figsize = (8,5))\n",
    "\n",
    "# plot a heatmap\n",
    "sns.heatmap(conf_matrix, annot=True, fmt='d', cmap=\"YlGnBu\")\n",
    "plt.show()"
   ]
  },
  {
   "cell_type": "code",
   "execution_count": 174,
   "metadata": {},
   "outputs": [],
   "source": [
    "TN = cm[0,0]\n",
    "\n",
    "# True Positives are denoted by 'TP'\n",
    "# Actual '1' values which are classified correctly\n",
    "TP = cm[1,1]\n",
    "\n",
    "# False Negatives are denoted by 'FN'\n",
    "# Actual '1' values which are classified wrongly as '0'\n",
    "FN = cm[1,0]\n",
    "\n",
    "# False Positives are denoted by 'FP'\n",
    "# Actual 'O' values which are classified wrongly as '1'\n",
    "FP = cm[0,1]"
   ]
  },
  {
   "cell_type": "code",
   "execution_count": 175,
   "metadata": {},
   "outputs": [
    {
     "name": "stdout",
     "output_type": "stream",
     "text": [
      "Accuracy is: 0.9885086607520067\n",
      "train score: 0.9983704508419338\n",
      "test score: 0.9885086607520067\n"
     ]
    }
   ],
   "source": [
    "print(\"Accuracy is:\",metrics.accuracy_score(y_test,decision_tree_pred))\n",
    "\n",
    "print('train score:',decision_tree.score(X_train,y_train))\n",
    "\n",
    "print('test score:',decision_tree.score(X_test,y_test))"
   ]
  },
  {
   "cell_type": "code",
   "execution_count": null,
   "metadata": {},
   "outputs": [],
   "source": []
  },
  {
   "cell_type": "code",
   "execution_count": null,
   "metadata": {},
   "outputs": [],
   "source": []
  },
  {
   "cell_type": "code",
   "execution_count": 176,
   "metadata": {},
   "outputs": [
    {
     "name": "stdout",
     "output_type": "stream",
     "text": [
      "              precision    recall  f1-score   support\n",
      "\n",
      "         0.0       0.99      0.99      0.99      5869\n",
      "         1.0       0.99      0.99      0.99      5966\n",
      "\n",
      "    accuracy                           0.99     11835\n",
      "   macro avg       0.99      0.99      0.99     11835\n",
      "weighted avg       0.99      0.99      0.99     11835\n",
      "\n"
     ]
    }
   ],
   "source": [
    "result = classification_report(y_test, decision_tree_pred)\n",
    "\n",
    "# print the result\n",
    "print(result)"
   ]
  },
  {
   "cell_type": "code",
   "execution_count": 177,
   "metadata": {},
   "outputs": [
    {
     "data": {
      "image/png": "[encoded data removed]",
      "text/plain": [
       "<Figure size 576x360 with 1 Axes>"
      ]
     },
     "metadata": {
      "needs_background": "light"
     },
     "output_type": "display_data"
    }
   ],
   "source": [
    "# set the figure size\n",
    "plt.rcParams['figure.figsize']=(8,5)\n",
    "\n",
    "fpr, tpr, thresholds = roc_curve(y_test, decision_tree_pred)\n",
    "\n",
    "# plot the ROC curve\n",
    "plt.plot(fpr,tpr)\n",
    "\n",
    "# set limits for x and y axes\n",
    "plt.xlim([0.0, 1.0])\n",
    "plt.ylim([0.0, 1.0])\n",
    "\n",
    "# plot the straight line showing worst prediction for the model\n",
    "plt.plot([0, 1], [0, 1],'r--')\n",
    "\n",
    "# add the AUC score\n",
    "plt.text(x = 0.05, y = 0.8, s =('AUC Score:', round(metrics.roc_auc_score(y_test, decision_tree_pred),4)))\n",
    "\n",
    "\n",
    "# name the plot, and both axes\n",
    "plt.title('ROC curve')\n",
    "plt.xlabel('False positive rate (1-Specificity)')\n",
    "plt.ylabel('True positive rate (Sensitivity)')\n",
    "\n",
    "# plot the grid\n",
    "plt.grid(True)"
   ]
  },
  {
   "cell_type": "code",
   "execution_count": 178,
   "metadata": {},
   "outputs": [
    {
     "data": {
      "text/html": [
       "<div>\n",
       "<style scoped>\n",
       "    .dataframe tbody tr th:only-of-type {\n",
       "        vertical-align: middle;\n",
       "    }\n",
       "\n",
       "    .dataframe tbody tr th {\n",
       "        vertical-align: top;\n",
       "    }\n",
       "\n",
       "    .dataframe thead th {\n",
       "        text-align: right;\n",
       "    }\n",
       "</style>\n",
       "<table border=\"1\" class=\"dataframe\">\n",
       "  <thead>\n",
       "    <tr style=\"text-align: right;\">\n",
       "      <th></th>\n",
       "      <th>Model</th>\n",
       "      <th>AUC Score</th>\n",
       "      <th>Precision Score</th>\n",
       "      <th>Recall Score</th>\n",
       "      <th>Accuracy Score</th>\n",
       "      <th>f1-score</th>\n",
       "    </tr>\n",
       "  </thead>\n",
       "  <tbody>\n",
       "    <tr>\n",
       "      <td>0</td>\n",
       "      <td>Logistic regression</td>\n",
       "      <td>0.500810</td>\n",
       "      <td>0.666667</td>\n",
       "      <td>0.001789</td>\n",
       "      <td>0.841132</td>\n",
       "      <td>0.003568</td>\n",
       "    </tr>\n",
       "    <tr>\n",
       "      <td>1</td>\n",
       "      <td>Logistic regression After Smote</td>\n",
       "      <td>0.643063</td>\n",
       "      <td>0.643951</td>\n",
       "      <td>0.634560</td>\n",
       "      <td>0.643093</td>\n",
       "      <td>0.639221</td>\n",
       "    </tr>\n",
       "    <tr>\n",
       "      <td>2</td>\n",
       "      <td>Logistic regression after feature selection</td>\n",
       "      <td>0.717237</td>\n",
       "      <td>0.753936</td>\n",
       "      <td>0.650184</td>\n",
       "      <td>0.716688</td>\n",
       "      <td>0.698227</td>\n",
       "    </tr>\n",
       "    <tr>\n",
       "      <td>3</td>\n",
       "      <td>Decision Tree</td>\n",
       "      <td>0.988504</td>\n",
       "      <td>0.988111</td>\n",
       "      <td>0.989105</td>\n",
       "      <td>0.988509</td>\n",
       "      <td>0.988608</td>\n",
       "    </tr>\n",
       "  </tbody>\n",
       "</table>\n",
       "</div>"
      ],
      "text/plain": [
       "                                         Model  AUC Score  Precision Score  \\\n",
       "0                         Logistic regression    0.500810         0.666667   \n",
       "1             Logistic regression After Smote    0.643063         0.643951   \n",
       "2  Logistic regression after feature selection   0.717237         0.753936   \n",
       "3                               Decision Tree    0.988504         0.988111   \n",
       "\n",
       "   Recall Score  Accuracy Score  f1-score  \n",
       "0      0.001789        0.841132  0.003568  \n",
       "1      0.634560        0.643093  0.639221  \n",
       "2      0.650184        0.716688  0.698227  \n",
       "3      0.989105        0.988509  0.988608  "
      ]
     },
     "execution_count": 178,
     "metadata": {},
     "output_type": "execute_result"
    }
   ],
   "source": [
    "Decision_tree_metrics = pd.Series({'Model': \"Decision Tree \",\n",
    "                     'AUC Score' : metrics.roc_auc_score(y_test, decision_tree_pred),\n",
    "                 'Precision Score': metrics.precision_score(y_test, decision_tree_pred),\n",
    "                 'Recall Score': metrics.recall_score(y_test, decision_tree_pred),\n",
    "                 'Accuracy Score': metrics.accuracy_score(y_test, decision_tree_pred),\n",
    "                 \n",
    "                  'f1-score':metrics.f1_score(y_test, decision_tree_pred)})\n",
    "\n",
    "\n",
    "\n",
    "# appending our result table\n",
    "result_tabulation = result_tabulation.append(Decision_tree_metrics , ignore_index = True)\n",
    "\n",
    "# view the result table\n",
    "result_tabulation"
   ]
  },
  {
   "cell_type": "markdown",
   "metadata": {},
   "source": [
    "## Pruned Decision Tree"
   ]
  },
  {
   "cell_type": "code",
   "execution_count": 179,
   "metadata": {},
   "outputs": [],
   "source": [
    "pruned = DecisionTreeClassifier(criterion=\"entropy\", max_depth=25)\n",
    "\n",
    "# train the classifier\n",
    "decision_tree_prune = pruned.fit(X_train,y_train)"
   ]
  },
  {
   "cell_type": "code",
   "execution_count": 180,
   "metadata": {},
   "outputs": [],
   "source": [
    "decision_tree_prune_pred = decision_tree_prune.predict(X_test)"
   ]
  },
  {
   "cell_type": "code",
   "execution_count": 181,
   "metadata": {},
   "outputs": [
    {
     "data": {
      "image/png": "[encoded data removed]",
      "text/plain": [
       "<Figure size 576x360 with 2 Axes>"
      ]
     },
     "metadata": {
      "needs_background": "light"
     },
     "output_type": "display_data"
    }
   ],
   "source": [
    "cm = confusion_matrix(y_test, decision_tree_prune_pred)\n",
    "\n",
    "# label the confusion matrix  \n",
    "conf_matrix = pd.DataFrame(data = cm, columns = ['Predicted:0','Predicted:1'], index = ['Actual:0','Actual:1'])\n",
    "\n",
    "# set sizeof the plot\n",
    "plt.figure(figsize = (8,5))\n",
    "\n",
    "# plot a heatmap\n",
    "sns.heatmap(conf_matrix, annot=True, fmt='d', cmap=\"YlGnBu\")\n",
    "plt.show()"
   ]
  },
  {
   "cell_type": "code",
   "execution_count": 182,
   "metadata": {},
   "outputs": [],
   "source": [
    "TN = cm[0,0]\n",
    "\n",
    "# True Positives are denoted by 'TP'\n",
    "# Actual '1' values which are classified correctly\n",
    "TP = cm[1,1]\n",
    "\n",
    "# False Negatives are denoted by 'FN'\n",
    "# Actual '1' values which are classified wrongly as '0'\n",
    "FN = cm[1,0]\n",
    "\n",
    "# False Positives are denoted by 'FP'\n",
    "# Actual 'O' values which are classified wrongly as '1'\n",
    "FP = cm[0,1]"
   ]
  },
  {
   "cell_type": "code",
   "execution_count": 183,
   "metadata": {
    "scrolled": true
   },
   "outputs": [
    {
     "name": "stdout",
     "output_type": "stream",
     "text": [
      "              precision    recall  f1-score   support\n",
      "\n",
      "         0.0       0.99      0.99      0.99      5869\n",
      "         1.0       0.99      0.99      0.99      5966\n",
      "\n",
      "    accuracy                           0.99     11835\n",
      "   macro avg       0.99      0.99      0.99     11835\n",
      "weighted avg       0.99      0.99      0.99     11835\n",
      "\n"
     ]
    }
   ],
   "source": [
    "result = classification_report(y_test,decision_tree_prune_pred)\n",
    "\n",
    "# print the result\n",
    "print(result)"
   ]
  },
  {
   "cell_type": "code",
   "execution_count": 184,
   "metadata": {},
   "outputs": [
    {
     "name": "stdout",
     "output_type": "stream",
     "text": [
      "Accuracy is: 0.986480777355302\n",
      "train score: 0.9953648379503893\n",
      "test score: 0.986480777355302\n"
     ]
    }
   ],
   "source": [
    "print(\"Accuracy is:\",metrics.accuracy_score(y_test,decision_tree_prune_pred))\n",
    "\n",
    "print('train score:',decision_tree_prune.score(X_train,y_train))\n",
    "\n",
    "print('test score:',decision_tree_prune.score(X_test,y_test))"
   ]
  },
  {
   "cell_type": "code",
   "execution_count": 185,
   "metadata": {},
   "outputs": [
    {
     "data": {
      "image/png": "[encoded data removed]",
      "text/plain": [
       "<Figure size 576x360 with 1 Axes>"
      ]
     },
     "metadata": {
      "needs_background": "light"
     },
     "output_type": "display_data"
    }
   ],
   "source": [
    "plt.rcParams['figure.figsize']=(8,5)\n",
    "\n",
    "fpr, tpr, thresholds = roc_curve(y_test, decision_tree_prune_pred)\n",
    "\n",
    "# plot the ROC curve\n",
    "plt.plot(fpr,tpr)\n",
    "\n",
    "# set limits for x and y axes\n",
    "plt.xlim([0.0, 1.0])\n",
    "plt.ylim([0.0, 1.0])\n",
    "\n",
    "# plot the straight line showing worst prediction for the model\n",
    "plt.plot([0, 1], [0, 1],'r--')\n",
    "\n",
    "# add the AUC score\n",
    "plt.text(x = 0.05, y = 0.8, s =('AUC Score:', round(metrics.roc_auc_score(y_test, decision_tree_prune_pred),4)))\n",
    "\n",
    "\n",
    "# name the plot, and both axes\n",
    "plt.title('ROC curve')\n",
    "plt.xlabel('False positive rate (1-Specificity)')\n",
    "plt.ylabel('True positive rate (Sensitivity)')\n",
    "\n",
    "# plot the grid\n",
    "plt.grid(True)"
   ]
  },
  {
   "cell_type": "code",
   "execution_count": 186,
   "metadata": {},
   "outputs": [
    {
     "data": {
      "text/html": [
       "<div>\n",
       "<style scoped>\n",
       "    .dataframe tbody tr th:only-of-type {\n",
       "        vertical-align: middle;\n",
       "    }\n",
       "\n",
       "    .dataframe tbody tr th {\n",
       "        vertical-align: top;\n",
       "    }\n",
       "\n",
       "    .dataframe thead th {\n",
       "        text-align: right;\n",
       "    }\n",
       "</style>\n",
       "<table border=\"1\" class=\"dataframe\">\n",
       "  <thead>\n",
       "    <tr style=\"text-align: right;\">\n",
       "      <th></th>\n",
       "      <th>Model</th>\n",
       "      <th>AUC Score</th>\n",
       "      <th>Precision Score</th>\n",
       "      <th>Recall Score</th>\n",
       "      <th>Accuracy Score</th>\n",
       "      <th>f1-score</th>\n",
       "    </tr>\n",
       "  </thead>\n",
       "  <tbody>\n",
       "    <tr>\n",
       "      <td>0</td>\n",
       "      <td>Logistic regression</td>\n",
       "      <td>0.500810</td>\n",
       "      <td>0.666667</td>\n",
       "      <td>0.001789</td>\n",
       "      <td>0.841132</td>\n",
       "      <td>0.003568</td>\n",
       "    </tr>\n",
       "    <tr>\n",
       "      <td>1</td>\n",
       "      <td>Logistic regression After Smote</td>\n",
       "      <td>0.643063</td>\n",
       "      <td>0.643951</td>\n",
       "      <td>0.634560</td>\n",
       "      <td>0.643093</td>\n",
       "      <td>0.639221</td>\n",
       "    </tr>\n",
       "    <tr>\n",
       "      <td>2</td>\n",
       "      <td>Logistic regression after feature selection</td>\n",
       "      <td>0.717237</td>\n",
       "      <td>0.753936</td>\n",
       "      <td>0.650184</td>\n",
       "      <td>0.716688</td>\n",
       "      <td>0.698227</td>\n",
       "    </tr>\n",
       "    <tr>\n",
       "      <td>3</td>\n",
       "      <td>Decision Tree</td>\n",
       "      <td>0.988504</td>\n",
       "      <td>0.988111</td>\n",
       "      <td>0.989105</td>\n",
       "      <td>0.988509</td>\n",
       "      <td>0.988608</td>\n",
       "    </tr>\n",
       "    <tr>\n",
       "      <td>4</td>\n",
       "      <td>Pruned Decision Tree</td>\n",
       "      <td>0.986473</td>\n",
       "      <td>0.985776</td>\n",
       "      <td>0.987429</td>\n",
       "      <td>0.986481</td>\n",
       "      <td>0.986602</td>\n",
       "    </tr>\n",
       "  </tbody>\n",
       "</table>\n",
       "</div>"
      ],
      "text/plain": [
       "                                         Model  AUC Score  Precision Score  \\\n",
       "0                         Logistic regression    0.500810         0.666667   \n",
       "1             Logistic regression After Smote    0.643063         0.643951   \n",
       "2  Logistic regression after feature selection   0.717237         0.753936   \n",
       "3                               Decision Tree    0.988504         0.988111   \n",
       "4                        Pruned Decision Tree    0.986473         0.985776   \n",
       "\n",
       "   Recall Score  Accuracy Score  f1-score  \n",
       "0      0.001789        0.841132  0.003568  \n",
       "1      0.634560        0.643093  0.639221  \n",
       "2      0.650184        0.716688  0.698227  \n",
       "3      0.989105        0.988509  0.988608  \n",
       "4      0.987429        0.986481  0.986602  "
      ]
     },
     "execution_count": 186,
     "metadata": {},
     "output_type": "execute_result"
    }
   ],
   "source": [
    "Pruned_Decision_tree_metrics = pd.Series({'Model': \"Pruned Decision Tree \",\n",
    "                     'AUC Score' : metrics.roc_auc_score(y_test, decision_tree_prune_pred),\n",
    "                 'Precision Score': metrics.precision_score(y_test, decision_tree_prune_pred),\n",
    "                 'Recall Score': metrics.recall_score(y_test, decision_tree_prune_pred),\n",
    "                 'Accuracy Score': metrics.accuracy_score(y_test, decision_tree_prune_pred),\n",
    "               \n",
    "                  'f1-score':metrics.f1_score(y_test, decision_tree_prune_pred)})\n",
    "\n",
    "\n",
    "\n",
    "# appending our result table\n",
    "result_tabulation = result_tabulation.append(Pruned_Decision_tree_metrics , ignore_index = True)\n",
    "\n",
    "# view the result table\n",
    "result_tabulation"
   ]
  },
  {
   "cell_type": "code",
   "execution_count": 187,
   "metadata": {},
   "outputs": [],
   "source": [
    "param_grid = {\"criterion\": [\"gini\", \"entropy\"],\n",
    "              \"min_samples_split\": [10, 20],\n",
    "              \"max_depth\": [3, 5, 10, 20,25],\n",
    "              \"min_samples_leaf\": [30, 100, 300],\n",
    "              \"max_leaf_nodes\": [None,2,3,5],\n",
    "              }"
   ]
  },
  {
   "cell_type": "code",
   "execution_count": 188,
   "metadata": {},
   "outputs": [
    {
     "data": {
      "text/plain": [
       "GridSearchCV(cv=10, error_score=nan,\n",
       "             estimator=DecisionTreeClassifier(ccp_alpha=0.0, class_weight=None,\n",
       "                                              criterion='gini', max_depth=None,\n",
       "                                              max_features=None,\n",
       "                                              max_leaf_nodes=None,\n",
       "                                              min_impurity_decrease=0.0,\n",
       "                                              min_impurity_split=None,\n",
       "                                              min_samples_leaf=1,\n",
       "                                              min_samples_split=2,\n",
       "                                              min_weight_fraction_leaf=0.0,\n",
       "                                              presort='deprecated',\n",
       "                                              random_state=None,\n",
       "                                              splitter='best'),\n",
       "             iid='deprecated', n_jobs=None,\n",
       "             param_grid={'criterion': ['gini', 'entropy'],\n",
       "                         'max_depth': [3, 5, 10, 20, 25],\n",
       "                         'max_leaf_nodes': [None, 2, 3, 5],\n",
       "                         'min_samples_leaf': [30, 100, 300],\n",
       "                         'min_samples_split': [10, 20]},\n",
       "             pre_dispatch='2*n_jobs', refit=True, return_train_score=False,\n",
       "             scoring=None, verbose=0)"
      ]
     },
     "execution_count": 188,
     "metadata": {},
     "output_type": "execute_result"
    }
   ],
   "source": [
    "decision_tree_Gridsearch = DecisionTreeClassifier()\n",
    "decision_tree_Gridsearch = GridSearchCV(decision_tree_Gridsearch, param_grid, cv=10)\n",
    "decision_tree_Gridsearch.fit(X_train, y_train)"
   ]
  },
  {
   "cell_type": "markdown",
   "metadata": {},
   "source": [
    "## Decision GridSearch"
   ]
  },
  {
   "cell_type": "code",
   "execution_count": 189,
   "metadata": {
    "scrolled": true
   },
   "outputs": [
    {
     "data": {
      "text/plain": [
       "{'criterion': 'entropy',\n",
       " 'max_depth': 25,\n",
       " 'max_leaf_nodes': None,\n",
       " 'min_samples_leaf': 30,\n",
       " 'min_samples_split': 20}"
      ]
     },
     "execution_count": 189,
     "metadata": {},
     "output_type": "execute_result"
    }
   ],
   "source": [
    "decision_tree_Gridsearch.best_params_"
   ]
  },
  {
   "cell_type": "code",
   "execution_count": 190,
   "metadata": {},
   "outputs": [],
   "source": [
    "decision_tree_best_parameters = DecisionTreeClassifier(max_depth= decision_tree_Gridsearch.best_params_.get('max_depth'), \n",
    "                                                       min_samples_leaf= decision_tree_Gridsearch.best_params_.get('min_samples_leaf'), \n",
    "                                                       min_samples_split= decision_tree_Gridsearch.best_params_.get('min_samples_split'),\n",
    "                                                       criterion=decision_tree_Gridsearch.best_params_.get('criterion')).fit(X_train, y_train)"
   ]
  },
  {
   "cell_type": "code",
   "execution_count": 191,
   "metadata": {},
   "outputs": [],
   "source": [
    "decision_tree_best_parameters_pred = decision_tree_best_parameters.predict(X_test)"
   ]
  },
  {
   "cell_type": "code",
   "execution_count": 192,
   "metadata": {},
   "outputs": [
    {
     "data": {
      "image/png": "[encoded data removed]",
      "text/plain": [
       "<Figure size 576x360 with 2 Axes>"
      ]
     },
     "metadata": {
      "needs_background": "light"
     },
     "output_type": "display_data"
    }
   ],
   "source": [
    "cm = confusion_matrix(y_test, decision_tree_best_parameters_pred)\n",
    "\n",
    "# label the confusion matrix  \n",
    "conf_matrix = pd.DataFrame(data=cm,columns=['Predicted:0','Predicted:1'],index=['Actual:0','Actual:1'])\n",
    "\n",
    "# set sizeof the plot\n",
    "plt.figure(figsize = (8,5))\n",
    "\n",
    "# plot a heatmap\n",
    "sns.heatmap(conf_matrix, annot=True,fmt='d',cmap=\"YlGnBu\")\n",
    "plt.show()"
   ]
  },
  {
   "cell_type": "code",
   "execution_count": 193,
   "metadata": {},
   "outputs": [
    {
     "name": "stdout",
     "output_type": "stream",
     "text": [
      "              precision    recall  f1-score   support\n",
      "\n",
      "         0.0       0.89      0.87      0.88      5869\n",
      "         1.0       0.87      0.90      0.89      5966\n",
      "\n",
      "    accuracy                           0.88     11835\n",
      "   macro avg       0.88      0.88      0.88     11835\n",
      "weighted avg       0.88      0.88      0.88     11835\n",
      "\n"
     ]
    }
   ],
   "source": [
    "result = classification_report(y_test,decision_tree_best_parameters_pred)\n",
    "\n",
    "# print the result\n",
    "print(result)"
   ]
  },
  {
   "cell_type": "code",
   "execution_count": 194,
   "metadata": {},
   "outputs": [
    {
     "data": {
      "image/png": "[encoded data removed]",
      "text/plain": [
       "<Figure size 576x360 with 1 Axes>"
      ]
     },
     "metadata": {
      "needs_background": "light"
     },
     "output_type": "display_data"
    }
   ],
   "source": [
    "plt.rcParams['figure.figsize']=(8,5)\n",
    "\n",
    "fpr, tpr, thresholds = roc_curve(y_test, decision_tree_best_parameters_pred)\n",
    "\n",
    "# plot the ROC curve\n",
    "plt.plot(fpr,tpr)\n",
    "\n",
    "# set limits for x and y axes\n",
    "plt.xlim([0.0, 1.0])\n",
    "plt.ylim([0.0, 1.0])\n",
    "\n",
    "# plot the straight line showing worst prediction for the model\n",
    "plt.plot([0, 1], [0, 1],'r--')\n",
    "\n",
    "# add the AUC score\n",
    "plt.text(x = 0.05, y = 0.8, s =('AUC Score:', round(metrics.roc_auc_score(y_test, decision_tree_best_parameters_pred),4)))\n",
    "\n",
    "\n",
    "# name the plot, and both axes\n",
    "plt.title('ROC curve')\n",
    "plt.xlabel('False positive rate (1-Specificity)')\n",
    "plt.ylabel('True positive rate (Sensitivity)')\n",
    "\n",
    "# plot the grid\n",
    "plt.grid(True)"
   ]
  },
  {
   "cell_type": "code",
   "execution_count": 195,
   "metadata": {},
   "outputs": [
    {
     "data": {
      "text/html": [
       "<div>\n",
       "<style scoped>\n",
       "    .dataframe tbody tr th:only-of-type {\n",
       "        vertical-align: middle;\n",
       "    }\n",
       "\n",
       "    .dataframe tbody tr th {\n",
       "        vertical-align: top;\n",
       "    }\n",
       "\n",
       "    .dataframe thead th {\n",
       "        text-align: right;\n",
       "    }\n",
       "</style>\n",
       "<table border=\"1\" class=\"dataframe\">\n",
       "  <thead>\n",
       "    <tr style=\"text-align: right;\">\n",
       "      <th></th>\n",
       "      <th>Model</th>\n",
       "      <th>AUC Score</th>\n",
       "      <th>Precision Score</th>\n",
       "      <th>Recall Score</th>\n",
       "      <th>Accuracy Score</th>\n",
       "      <th>f1-score</th>\n",
       "    </tr>\n",
       "  </thead>\n",
       "  <tbody>\n",
       "    <tr>\n",
       "      <td>0</td>\n",
       "      <td>Logistic regression</td>\n",
       "      <td>0.500810</td>\n",
       "      <td>0.666667</td>\n",
       "      <td>0.001789</td>\n",
       "      <td>0.841132</td>\n",
       "      <td>0.003568</td>\n",
       "    </tr>\n",
       "    <tr>\n",
       "      <td>1</td>\n",
       "      <td>Logistic regression After Smote</td>\n",
       "      <td>0.643063</td>\n",
       "      <td>0.643951</td>\n",
       "      <td>0.634560</td>\n",
       "      <td>0.643093</td>\n",
       "      <td>0.639221</td>\n",
       "    </tr>\n",
       "    <tr>\n",
       "      <td>2</td>\n",
       "      <td>Logistic regression after feature selection</td>\n",
       "      <td>0.717237</td>\n",
       "      <td>0.753936</td>\n",
       "      <td>0.650184</td>\n",
       "      <td>0.716688</td>\n",
       "      <td>0.698227</td>\n",
       "    </tr>\n",
       "    <tr>\n",
       "      <td>3</td>\n",
       "      <td>Decision Tree</td>\n",
       "      <td>0.988504</td>\n",
       "      <td>0.988111</td>\n",
       "      <td>0.989105</td>\n",
       "      <td>0.988509</td>\n",
       "      <td>0.988608</td>\n",
       "    </tr>\n",
       "    <tr>\n",
       "      <td>4</td>\n",
       "      <td>Pruned Decision Tree</td>\n",
       "      <td>0.986473</td>\n",
       "      <td>0.985776</td>\n",
       "      <td>0.987429</td>\n",
       "      <td>0.986481</td>\n",
       "      <td>0.986602</td>\n",
       "    </tr>\n",
       "    <tr>\n",
       "      <td>5</td>\n",
       "      <td>Decision Tree (GridSearchCV)</td>\n",
       "      <td>0.882243</td>\n",
       "      <td>0.871507</td>\n",
       "      <td>0.899262</td>\n",
       "      <td>0.882383</td>\n",
       "      <td>0.885167</td>\n",
       "    </tr>\n",
       "  </tbody>\n",
       "</table>\n",
       "</div>"
      ],
      "text/plain": [
       "                                         Model  AUC Score  Precision Score  \\\n",
       "0                         Logistic regression    0.500810         0.666667   \n",
       "1             Logistic regression After Smote    0.643063         0.643951   \n",
       "2  Logistic regression after feature selection   0.717237         0.753936   \n",
       "3                               Decision Tree    0.988504         0.988111   \n",
       "4                        Pruned Decision Tree    0.986473         0.985776   \n",
       "5                Decision Tree (GridSearchCV)    0.882243         0.871507   \n",
       "\n",
       "   Recall Score  Accuracy Score  f1-score  \n",
       "0      0.001789        0.841132  0.003568  \n",
       "1      0.634560        0.643093  0.639221  \n",
       "2      0.650184        0.716688  0.698227  \n",
       "3      0.989105        0.988509  0.988608  \n",
       "4      0.987429        0.986481  0.986602  \n",
       "5      0.899262        0.882383  0.885167  "
      ]
     },
     "execution_count": 195,
     "metadata": {},
     "output_type": "execute_result"
    }
   ],
   "source": [
    "Decision_tree_GridSearch_metrics = pd.Series({'Model': \"Decision Tree (GridSearchCV) \",\n",
    "                     'AUC Score' : metrics.roc_auc_score(y_test, decision_tree_best_parameters_pred),\n",
    "                 'Precision Score': metrics.precision_score(y_test, decision_tree_best_parameters_pred),\n",
    "                 'Recall Score': metrics.recall_score(y_test, decision_tree_best_parameters_pred),\n",
    "                 'Accuracy Score': metrics.accuracy_score(y_test, decision_tree_best_parameters_pred),\n",
    "     \n",
    "                 'f1-score':metrics.f1_score(y_test, decision_tree_best_parameters_pred)})\n",
    "\n",
    "\n",
    "\n",
    "# appending our result table\n",
    "result_tabulation = result_tabulation.append(Decision_tree_GridSearch_metrics , ignore_index = True)\n",
    "\n",
    "# view the result table\n",
    "result_tabulation"
   ]
  },
  {
   "cell_type": "markdown",
   "metadata": {},
   "source": [
    "## Random Forest"
   ]
  },
  {
   "cell_type": "code",
   "execution_count": 225,
   "metadata": {},
   "outputs": [],
   "source": [
    "from sklearn.ensemble import RandomForestClassifier\n"
   ]
  },
  {
   "cell_type": "code",
   "execution_count": 226,
   "metadata": {},
   "outputs": [
    {
     "name": "stdout",
     "output_type": "stream",
     "text": [
      "Accuracy: 0.9896915927334178\n"
     ]
    }
   ],
   "source": [
    "clf=RandomForestClassifier(n_estimators=5,max_depth=30)\n",
    "#Train the model using the training sets y_pred=clf.predict(X_test)\n",
    "ran=clf.fit(X_train,y_train)\n",
    "#predict the model\n",
    "y_pred=clf.predict(X_test)\n",
    "print(\"Accuracy:\",metrics.accuracy_score(y_test, y_pred))"
   ]
  },
  {
   "cell_type": "code",
   "execution_count": 227,
   "metadata": {},
   "outputs": [
    {
     "data": {
      "image/png": "[encoded data removed]",
      "text/plain": [
       "<Figure size 2016x720 with 2 Axes>"
      ]
     },
     "metadata": {
      "needs_background": "light"
     },
     "output_type": "display_data"
    }
   ],
   "source": [
    "import seaborn as sns\n",
    "import numpy as np; np.random.seed(0)\n",
    "import matplotlib.pylab as plt\n",
    "import matplotlib.transforms\n",
    "\n",
    "data = np.random.randint(100, size=(5,5))\n",
    "akws = {\"ha\": 'left',\"va\": 'top'}\n",
    "ax = sns.heatmap(data,  annot=True, annot_kws=akws)\n",
    "\n",
    "for t in ax.texts:\n",
    "    trans = t.get_transform()\n",
    "    offs = matplotlib.transforms.ScaledTranslation(0.75, 0.5,\n",
    "                    matplotlib.transforms.IdentityTransform())\n",
    "    t.set_transform( offs + trans )\n",
    "\n",
    "plt.show()\n",
    "offs = matplotlib.transforms.ScaledTranslation(0.50, 0.50,\n",
    "                    matplotlib.transforms.IdentityTransform())"
   ]
  },
  {
   "cell_type": "code",
   "execution_count": 246,
   "metadata": {
    "scrolled": false
   },
   "outputs": [
    {
     "data": {
      "image/png": "[encoded data removed]",
      "text/plain": [
       "<Figure size 576x360 with 2 Axes>"
      ]
     },
     "metadata": {
      "needs_background": "light"
     },
     "output_type": "display_data"
    }
   ],
   "source": [
    "cm = confusion_matrix(y_test, y_pred)\n",
    "\n",
    "# label the confusion matrix  \n",
    "conf_matrix = pd.DataFrame(data = cm, columns = ['Predicted:0','Predicted:1'], index = ['Actual:0','Actual:1'])\n",
    "\n",
    "# set sizeof the plot\n",
    "plt.figure(figsize = (8,5))\n",
    "\n",
    "# plot a heatmap\n",
    "akws = {\"ha\": 'center',\"va\": 'center'}\n",
    "ax = sns.heatmap(conf_matrix, annot=True, fmt='d', cmap=\"YlGnBu\" )\n",
    "for t in ax.texts:\n",
    "    trans = t.get_transform()\n",
    "    offs = matplotlib.transforms.ScaledTranslation(-0.45,0.45,\n",
    "                    matplotlib.transforms.IdentityTransform())\n",
    "    t.set_transform( offs + trans )\n",
    "\n",
    "plt.show()\n"
   ]
  },
  {
   "cell_type": "code",
   "execution_count": 229,
   "metadata": {},
   "outputs": [
    {
     "name": "stdout",
     "output_type": "stream",
     "text": [
      "              precision    recall  f1-score   support\n",
      "\n",
      "         0.0       0.99      0.99      0.99      5869\n",
      "         1.0       0.99      0.99      0.99      5966\n",
      "\n",
      "    accuracy                           0.99     11835\n",
      "   macro avg       0.99      0.99      0.99     11835\n",
      "weighted avg       0.99      0.99      0.99     11835\n",
      "\n"
     ]
    }
   ],
   "source": [
    "result = classification_report(y_test, y_pred)\n",
    "\n",
    "# print the result\n",
    "print(result)"
   ]
  },
  {
   "cell_type": "code",
   "execution_count": 200,
   "metadata": {},
   "outputs": [
    {
     "name": "stdout",
     "output_type": "stream",
     "text": [
      "Accuracy is: 0.9903675538656527\n",
      "train score: 0.9975737823646569\n",
      "test score: 0.9903675538656527\n"
     ]
    }
   ],
   "source": [
    "print(\"Accuracy is:\",metrics.accuracy_score(y_test,y_pred))\n",
    "\n",
    "print('train score:',ran.score(X_train,y_train))\n",
    "\n",
    "print('test score:',ran.score(X_test,y_test))"
   ]
  },
  {
   "cell_type": "code",
   "execution_count": 201,
   "metadata": {},
   "outputs": [
    {
     "data": {
      "image/png": "[encoded data removed]",
      "text/plain": [
       "<Figure size 576x360 with 1 Axes>"
      ]
     },
     "metadata": {
      "needs_background": "light"
     },
     "output_type": "display_data"
    }
   ],
   "source": [
    "plt.rcParams['figure.figsize']=(8,5)\n",
    "\n",
    "fpr, tpr, thresholds = roc_curve(y_test, y_pred)\n",
    "\n",
    "# plot the ROC curve\n",
    "plt.plot(fpr,tpr)\n",
    "\n",
    "# set limits for x and y axes\n",
    "plt.xlim([0.0, 1.0])\n",
    "plt.ylim([0.0, 1.0])\n",
    "\n",
    "# plot the straight line showing worst prediction for the model\n",
    "plt.plot([0, 1], [0, 1],'r--')\n",
    "\n",
    "# add the AUC score\n",
    "plt.text(x = 0.05, y = 0.8, s =('AUC Score:', round(metrics.roc_auc_score(y_test, y_pred),4)))\n",
    "\n",
    "\n",
    "# name the plot, and both axes\n",
    "plt.title('ROC curve')\n",
    "plt.xlabel('False positive rate (1-Specificity)')\n",
    "plt.ylabel('True positive rate (Sensitivity)')\n",
    "\n",
    "# plot the grid\n",
    "plt.grid(True)"
   ]
  },
  {
   "cell_type": "code",
   "execution_count": 202,
   "metadata": {
    "scrolled": true
   },
   "outputs": [
    {
     "data": {
      "text/html": [
       "<div>\n",
       "<style scoped>\n",
       "    .dataframe tbody tr th:only-of-type {\n",
       "        vertical-align: middle;\n",
       "    }\n",
       "\n",
       "    .dataframe tbody tr th {\n",
       "        vertical-align: top;\n",
       "    }\n",
       "\n",
       "    .dataframe thead th {\n",
       "        text-align: right;\n",
       "    }\n",
       "</style>\n",
       "<table border=\"1\" class=\"dataframe\">\n",
       "  <thead>\n",
       "    <tr style=\"text-align: right;\">\n",
       "      <th></th>\n",
       "      <th>Model</th>\n",
       "      <th>AUC Score</th>\n",
       "      <th>Precision Score</th>\n",
       "      <th>Recall Score</th>\n",
       "      <th>Accuracy Score</th>\n",
       "      <th>f1-score</th>\n",
       "    </tr>\n",
       "  </thead>\n",
       "  <tbody>\n",
       "    <tr>\n",
       "      <td>0</td>\n",
       "      <td>Logistic regression</td>\n",
       "      <td>0.500810</td>\n",
       "      <td>0.666667</td>\n",
       "      <td>0.001789</td>\n",
       "      <td>0.841132</td>\n",
       "      <td>0.003568</td>\n",
       "    </tr>\n",
       "    <tr>\n",
       "      <td>1</td>\n",
       "      <td>Logistic regression After Smote</td>\n",
       "      <td>0.643063</td>\n",
       "      <td>0.643951</td>\n",
       "      <td>0.634560</td>\n",
       "      <td>0.643093</td>\n",
       "      <td>0.639221</td>\n",
       "    </tr>\n",
       "    <tr>\n",
       "      <td>2</td>\n",
       "      <td>Logistic regression after feature selection</td>\n",
       "      <td>0.717237</td>\n",
       "      <td>0.753936</td>\n",
       "      <td>0.650184</td>\n",
       "      <td>0.716688</td>\n",
       "      <td>0.698227</td>\n",
       "    </tr>\n",
       "    <tr>\n",
       "      <td>3</td>\n",
       "      <td>Decision Tree</td>\n",
       "      <td>0.988504</td>\n",
       "      <td>0.988111</td>\n",
       "      <td>0.989105</td>\n",
       "      <td>0.988509</td>\n",
       "      <td>0.988608</td>\n",
       "    </tr>\n",
       "    <tr>\n",
       "      <td>4</td>\n",
       "      <td>Pruned Decision Tree</td>\n",
       "      <td>0.986473</td>\n",
       "      <td>0.985776</td>\n",
       "      <td>0.987429</td>\n",
       "      <td>0.986481</td>\n",
       "      <td>0.986602</td>\n",
       "    </tr>\n",
       "    <tr>\n",
       "      <td>5</td>\n",
       "      <td>Decision Tree (GridSearchCV)</td>\n",
       "      <td>0.882243</td>\n",
       "      <td>0.871507</td>\n",
       "      <td>0.899262</td>\n",
       "      <td>0.882383</td>\n",
       "      <td>0.885167</td>\n",
       "    </tr>\n",
       "    <tr>\n",
       "      <td>6</td>\n",
       "      <td>RandomForest</td>\n",
       "      <td>0.990375</td>\n",
       "      <td>0.991434</td>\n",
       "      <td>0.989440</td>\n",
       "      <td>0.990368</td>\n",
       "      <td>0.990436</td>\n",
       "    </tr>\n",
       "  </tbody>\n",
       "</table>\n",
       "</div>"
      ],
      "text/plain": [
       "                                         Model  AUC Score  Precision Score  \\\n",
       "0                         Logistic regression    0.500810         0.666667   \n",
       "1             Logistic regression After Smote    0.643063         0.643951   \n",
       "2  Logistic regression after feature selection   0.717237         0.753936   \n",
       "3                               Decision Tree    0.988504         0.988111   \n",
       "4                        Pruned Decision Tree    0.986473         0.985776   \n",
       "5                Decision Tree (GridSearchCV)    0.882243         0.871507   \n",
       "6                                RandomForest    0.990375         0.991434   \n",
       "\n",
       "   Recall Score  Accuracy Score  f1-score  \n",
       "0      0.001789        0.841132  0.003568  \n",
       "1      0.634560        0.643093  0.639221  \n",
       "2      0.650184        0.716688  0.698227  \n",
       "3      0.989105        0.988509  0.988608  \n",
       "4      0.987429        0.986481  0.986602  \n",
       "5      0.899262        0.882383  0.885167  \n",
       "6      0.989440        0.990368  0.990436  "
      ]
     },
     "execution_count": 202,
     "metadata": {},
     "output_type": "execute_result"
    }
   ],
   "source": [
    "ran_metrics = pd.Series({'Model': \"RandomForest \",\n",
    "                     'AUC Score' : metrics.roc_auc_score(y_test, y_pred),\n",
    "                 'Precision Score': metrics.precision_score(y_test, y_pred),\n",
    "                 'Recall Score': metrics.recall_score(y_test, y_pred),\n",
    "                 'Accuracy Score': metrics.accuracy_score(y_test, y_pred),\n",
    "\n",
    "                  'f1-score':metrics.f1_score(y_test, y_pred)})\n",
    "\n",
    "\n",
    "\n",
    "# appending our result table\n",
    "result_tabulation = result_tabulation.append(ran_metrics , ignore_index = True)\n",
    "\n",
    "# view the result table\n",
    "result_tabulation"
   ]
  },
  {
   "cell_type": "markdown",
   "metadata": {},
   "source": [
    "## Random Forest Using Cross Valid"
   ]
  },
  {
   "cell_type": "code",
   "execution_count": 203,
   "metadata": {},
   "outputs": [
    {
     "name": "stdout",
     "output_type": "stream",
     "text": [
      "[0.9531052  0.95057034 0.96679341 0.98301648 0.96806084 0.97313054\n",
      " 0.9721166  0.97617237 0.97667934 0.97718631]\n"
     ]
    }
   ],
   "source": [
    "\n",
    "from sklearn.model_selection import cross_val_score\n",
    "print(cross_val_score(RandomForestClassifier(max_depth=25), X, y, cv=10))\n"
   ]
  },
  {
   "cell_type": "markdown",
   "metadata": {},
   "source": [
    "## Naive Bayes"
   ]
  },
  {
   "cell_type": "code",
   "execution_count": 204,
   "metadata": {},
   "outputs": [],
   "source": [
    "from sklearn.naive_bayes import GaussianNB\n",
    "classifier = GaussianNB()\n",
    "classifier.fit(X_train, y_train)\n",
    "y_pred = classifier.predict(X_test) "
   ]
  },
  {
   "cell_type": "code",
   "execution_count": 205,
   "metadata": {
    "scrolled": true
   },
   "outputs": [
    {
     "data": {
      "image/png": "[encoded data removed]",
      "text/plain": [
       "<Figure size 576x360 with 2 Axes>"
      ]
     },
     "metadata": {
      "needs_background": "light"
     },
     "output_type": "display_data"
    }
   ],
   "source": [
    "cm = confusion_matrix(y_test, y_pred)\n",
    "\n",
    "# label the confusion matrix  \n",
    "conf_matrix = pd.DataFrame(data = cm, columns = ['Predicted:0','Predicted:1'], index = ['Actual:0','Actual:1'])\n",
    "\n",
    "# set sizeof the plot\n",
    "plt.figure(figsize = (8,5))\n",
    "\n",
    "# plot a heatmap\n",
    "sns.heatmap(conf_matrix, annot=True, fmt='d', cmap=\"YlGnBu\")\n",
    "plt.show()"
   ]
  },
  {
   "cell_type": "code",
   "execution_count": 206,
   "metadata": {},
   "outputs": [
    {
     "name": "stdout",
     "output_type": "stream",
     "text": [
      "              precision    recall  f1-score   support\n",
      "\n",
      "         0.0       0.69      0.48      0.57      5869\n",
      "         1.0       0.61      0.79      0.69      5966\n",
      "\n",
      "    accuracy                           0.64     11835\n",
      "   macro avg       0.65      0.64      0.63     11835\n",
      "weighted avg       0.65      0.64      0.63     11835\n",
      "\n"
     ]
    }
   ],
   "source": [
    "result = classification_report(y_test, y_pred)\n",
    "\n",
    "# print the result\n",
    "print(result)"
   ]
  },
  {
   "cell_type": "code",
   "execution_count": 207,
   "metadata": {},
   "outputs": [
    {
     "name": "stdout",
     "output_type": "stream",
     "text": [
      "Accuracy is: 0.6363329108576257\n",
      "train score: 0.6355965960528698\n",
      "test score: 0.6363329108576257\n"
     ]
    }
   ],
   "source": [
    "print(\"Accuracy is:\",metrics.accuracy_score(y_test,y_pred))\n",
    "\n",
    "print('train score:',classifier.score(X_train,y_train))\n",
    "\n",
    "print('test score:',classifier.score(X_test,y_test))"
   ]
  },
  {
   "cell_type": "code",
   "execution_count": 208,
   "metadata": {},
   "outputs": [
    {
     "data": {
      "image/png": "[encoded data removed]",
      "text/plain": [
       "<Figure size 576x360 with 1 Axes>"
      ]
     },
     "metadata": {
      "needs_background": "light"
     },
     "output_type": "display_data"
    }
   ],
   "source": [
    "plt.rcParams['figure.figsize']=(8,5)\n",
    "\n",
    "fpr, tpr, thresholds = roc_curve(y_test, y_pred)\n",
    "\n",
    "# plot the ROC curve\n",
    "plt.plot(fpr,tpr)\n",
    "\n",
    "# set limits for x and y axes\n",
    "plt.xlim([0.0, 1.0])\n",
    "plt.ylim([0.0, 1.0])\n",
    "\n",
    "# plot the straight line showing worst prediction for the model\n",
    "plt.plot([0, 1], [0, 1],'r--')\n",
    "\n",
    "# add the AUC score\n",
    "plt.text(x = 0.05, y = 0.8, s =('AUC Score:', round(metrics.roc_auc_score(y_test, y_pred),4)))\n",
    "\n",
    "\n",
    "# name the plot, and both axes\n",
    "plt.title('ROC curve')\n",
    "plt.xlabel('False positive rate (1-Specificity)')\n",
    "plt.ylabel('True positive rate (Sensitivity)')\n",
    "\n",
    "# plot the grid\"\n",
    "plt.grid(True)"
   ]
  },
  {
   "cell_type": "code",
   "execution_count": 209,
   "metadata": {},
   "outputs": [
    {
     "data": {
      "text/html": [
       "<div>\n",
       "<style scoped>\n",
       "    .dataframe tbody tr th:only-of-type {\n",
       "        vertical-align: middle;\n",
       "    }\n",
       "\n",
       "    .dataframe tbody tr th {\n",
       "        vertical-align: top;\n",
       "    }\n",
       "\n",
       "    .dataframe thead th {\n",
       "        text-align: right;\n",
       "    }\n",
       "</style>\n",
       "<table border=\"1\" class=\"dataframe\">\n",
       "  <thead>\n",
       "    <tr style=\"text-align: right;\">\n",
       "      <th></th>\n",
       "      <th>Model</th>\n",
       "      <th>AUC Score</th>\n",
       "      <th>Precision Score</th>\n",
       "      <th>Recall Score</th>\n",
       "      <th>Accuracy Score</th>\n",
       "      <th>f1-score</th>\n",
       "    </tr>\n",
       "  </thead>\n",
       "  <tbody>\n",
       "    <tr>\n",
       "      <td>0</td>\n",
       "      <td>Logistic regression</td>\n",
       "      <td>0.500810</td>\n",
       "      <td>0.666667</td>\n",
       "      <td>0.001789</td>\n",
       "      <td>0.841132</td>\n",
       "      <td>0.003568</td>\n",
       "    </tr>\n",
       "    <tr>\n",
       "      <td>1</td>\n",
       "      <td>Logistic regression After Smote</td>\n",
       "      <td>0.643063</td>\n",
       "      <td>0.643951</td>\n",
       "      <td>0.634560</td>\n",
       "      <td>0.643093</td>\n",
       "      <td>0.639221</td>\n",
       "    </tr>\n",
       "    <tr>\n",
       "      <td>2</td>\n",
       "      <td>Logistic regression after feature selection</td>\n",
       "      <td>0.717237</td>\n",
       "      <td>0.753936</td>\n",
       "      <td>0.650184</td>\n",
       "      <td>0.716688</td>\n",
       "      <td>0.698227</td>\n",
       "    </tr>\n",
       "    <tr>\n",
       "      <td>3</td>\n",
       "      <td>Decision Tree</td>\n",
       "      <td>0.988504</td>\n",
       "      <td>0.988111</td>\n",
       "      <td>0.989105</td>\n",
       "      <td>0.988509</td>\n",
       "      <td>0.988608</td>\n",
       "    </tr>\n",
       "    <tr>\n",
       "      <td>4</td>\n",
       "      <td>Pruned Decision Tree</td>\n",
       "      <td>0.986473</td>\n",
       "      <td>0.985776</td>\n",
       "      <td>0.987429</td>\n",
       "      <td>0.986481</td>\n",
       "      <td>0.986602</td>\n",
       "    </tr>\n",
       "    <tr>\n",
       "      <td>5</td>\n",
       "      <td>Decision Tree (GridSearchCV)</td>\n",
       "      <td>0.882243</td>\n",
       "      <td>0.871507</td>\n",
       "      <td>0.899262</td>\n",
       "      <td>0.882383</td>\n",
       "      <td>0.885167</td>\n",
       "    </tr>\n",
       "    <tr>\n",
       "      <td>6</td>\n",
       "      <td>RandomForest</td>\n",
       "      <td>0.990375</td>\n",
       "      <td>0.991434</td>\n",
       "      <td>0.989440</td>\n",
       "      <td>0.990368</td>\n",
       "      <td>0.990436</td>\n",
       "    </tr>\n",
       "    <tr>\n",
       "      <td>7</td>\n",
       "      <td>Naive Bayes</td>\n",
       "      <td>0.635094</td>\n",
       "      <td>0.607642</td>\n",
       "      <td>0.786289</td>\n",
       "      <td>0.636333</td>\n",
       "      <td>0.685518</td>\n",
       "    </tr>\n",
       "  </tbody>\n",
       "</table>\n",
       "</div>"
      ],
      "text/plain": [
       "                                         Model  AUC Score  Precision Score  \\\n",
       "0                         Logistic regression    0.500810         0.666667   \n",
       "1             Logistic regression After Smote    0.643063         0.643951   \n",
       "2  Logistic regression after feature selection   0.717237         0.753936   \n",
       "3                               Decision Tree    0.988504         0.988111   \n",
       "4                        Pruned Decision Tree    0.986473         0.985776   \n",
       "5                Decision Tree (GridSearchCV)    0.882243         0.871507   \n",
       "6                                RandomForest    0.990375         0.991434   \n",
       "7                                 Naive Bayes    0.635094         0.607642   \n",
       "\n",
       "   Recall Score  Accuracy Score  f1-score  \n",
       "0      0.001789        0.841132  0.003568  \n",
       "1      0.634560        0.643093  0.639221  \n",
       "2      0.650184        0.716688  0.698227  \n",
       "3      0.989105        0.988509  0.988608  \n",
       "4      0.987429        0.986481  0.986602  \n",
       "5      0.899262        0.882383  0.885167  \n",
       "6      0.989440        0.990368  0.990436  \n",
       "7      0.786289        0.636333  0.685518  "
      ]
     },
     "execution_count": 209,
     "metadata": {},
     "output_type": "execute_result"
    }
   ],
   "source": [
    "Naive_bayes = pd.Series({'Model': \"Naive Bayes \",\n",
    "                     'AUC Score' : metrics.roc_auc_score(y_test, y_pred),\n",
    "                 'Precision Score': metrics.precision_score(y_test, y_pred),\n",
    "                 'Recall Score': metrics.recall_score(y_test, y_pred),\n",
    "                 'Accuracy Score': metrics.accuracy_score(y_test, y_pred),\n",
    "\n",
    "                  'f1-score':metrics.f1_score(y_test, y_pred)})\n",
    "\n",
    "\n",
    "\n",
    "# appending our result table\n",
    "result_tabulation = result_tabulation.append(Naive_bayes , ignore_index = True)\n",
    "\n",
    "# view the result table\n",
    "result_tabulation"
   ]
  },
  {
   "cell_type": "code",
   "execution_count": 210,
   "metadata": {},
   "outputs": [
    {
     "data": {
      "image/png": "[encoded data removed]",
      "text/plain": [
       "<Figure size 2016x720 with 1 Axes>"
      ]
     },
     "metadata": {
      "needs_background": "light"
     },
     "output_type": "display_data"
    }
   ],
   "source": [
    "plt.rcParams['figure.figsize']=(28,10)\n",
    "\n",
    "result_tabulation.plot()\n",
    "\n",
    "plt.xticks([0,1,2,3,4,5,6,7,8,9], list(result_tabulation.Model))\n",
    "plt.show()"
   ]
  },
  {
   "cell_type": "code",
   "execution_count": 211,
   "metadata": {},
   "outputs": [],
   "source": [
    "result_tabulation.to_excel('result.xlsx')"
   ]
  },
  {
   "cell_type": "markdown",
   "metadata": {},
   "source": [
    "## Ensemble"
   ]
  },
  {
   "cell_type": "code",
   "execution_count": 212,
   "metadata": {},
   "outputs": [],
   "source": [
    "from sklearn.ensemble import AdaBoostClassifier\n",
    "\n",
    "\n",
    "cls=AdaBoostClassifier(DecisionTreeClassifier(),n_estimators=200)\n",
    "cls.fit(X_train,y_train)\n",
    "yp=cls.predict(X_test)"
   ]
  },
  {
   "cell_type": "code",
   "execution_count": 213,
   "metadata": {},
   "outputs": [
    {
     "data": {
      "image/png": "[encoded data removed]",
      "text/plain": [
       "<Figure size 576x360 with 2 Axes>"
      ]
     },
     "metadata": {
      "needs_background": "light"
     },
     "output_type": "display_data"
    }
   ],
   "source": [
    "cm = confusion_matrix(y_test, yp)\n",
    "\n",
    "# label the confusion matrix  \n",
    "conf_matrix = pd.DataFrame(data = cm, columns = ['Predicted:0','Predicted:1'], index = ['Actual:0','Actual:1'])\n",
    "\n",
    "# set sizeof the plot\n",
    "plt.figure(figsize = (8,5))\n",
    "\n",
    "# plot a heatmap\n",
    "sns.heatmap(conf_matrix, annot=True, fmt='d', cmap=\"YlGnBu\")\n",
    "plt.show()"
   ]
  },
  {
   "cell_type": "code",
   "execution_count": 214,
   "metadata": {
    "scrolled": true
   },
   "outputs": [
    {
     "name": "stdout",
     "output_type": "stream",
     "text": [
      "              precision    recall  f1-score   support\n",
      "\n",
      "         0.0       0.69      0.48      0.57      5869\n",
      "         1.0       0.61      0.79      0.69      5966\n",
      "\n",
      "    accuracy                           0.64     11835\n",
      "   macro avg       0.65      0.64      0.63     11835\n",
      "weighted avg       0.65      0.64      0.63     11835\n",
      "\n"
     ]
    }
   ],
   "source": [
    "result = classification_report(y_test, y_pred)\n",
    "\n",
    "# print the result\n",
    "print(result)"
   ]
  },
  {
   "cell_type": "code",
   "execution_count": 215,
   "metadata": {},
   "outputs": [],
   "source": [
    "from sklearn import model_selection"
   ]
  },
  {
   "cell_type": "code",
   "execution_count": 217,
   "metadata": {},
   "outputs": [
    {
     "name": "stdout",
     "output_type": "stream",
     "text": [
      "accuracy :\n",
      "0.9100126742712294\n"
     ]
    }
   ],
   "source": [
    "from sklearn.ensemble import BaggingClassifier\n",
    "seed = 8\n",
    "kfold = model_selection.KFold(n_splits = 3, \n",
    "                       random_state = seed) \n",
    "  \n",
    "# initialize the base classifier \n",
    "base_cls = DecisionTreeClassifier() \n",
    "  \n",
    "# no. of base classifier \n",
    "num_trees = 500\n",
    "  \n",
    "# bagging classifier \n",
    "model = BaggingClassifier(base_estimator = base_cls, \n",
    "                          n_estimators = num_trees, \n",
    "                          random_state = seed) \n",
    "  \n",
    "results = model_selection.cross_val_score(model, X, y, cv = kfold) \n",
    "print(\"accuracy :\") \n",
    "print(results.mean())"
   ]
  },
  {
   "cell_type": "code",
   "execution_count": 218,
   "metadata": {},
   "outputs": [
    {
     "name": "stdout",
     "output_type": "stream",
     "text": [
      "accuracy :\n",
      "0.9216983523447402\n"
     ]
    }
   ],
   "source": [
    "seed = 8\n",
    "kfold = model_selection.KFold(n_splits = 3, \n",
    "                       random_state = seed) \n",
    "  \n",
    "# initialize the base classifier \n",
    "base_cls = DecisionTreeClassifier() \n",
    "  \n",
    "# no. of base classifier \n",
    "num_trees = 500\n",
    "  \n",
    "# bagging classifier \n",
    "model = AdaBoostClassifier(base_estimator = base_cls, \n",
    "                          n_estimators = num_trees, \n",
    "                          random_state = seed) \n",
    "  \n",
    "results = model_selection.cross_val_score(model, X, y, cv = kfold) \n",
    "print(\"accuracy :\") \n",
    "print(results.mean()) "
   ]
  },
  {
   "cell_type": "code",
   "execution_count": null,
   "metadata": {},
   "outputs": [],
   "source": []
  }
 ],
 "metadata": {
  "kernelspec": {
   "display_name": "Python 3",
   "language": "python",
   "name": "python3"
  },
  "language_info": {
   "codemirror_mode": {
    "name": "ipython",
    "version": 3
   },
   "file_extension": ".py",
   "mimetype": "text/x-python",
   "name": "python",
   "nbconvert_exporter": "python",
   "pygments_lexer": "ipython3",
   "version": "3.7.4"
  }
 },
 "nbformat": 4,
 "nbformat_minor": 2
}
